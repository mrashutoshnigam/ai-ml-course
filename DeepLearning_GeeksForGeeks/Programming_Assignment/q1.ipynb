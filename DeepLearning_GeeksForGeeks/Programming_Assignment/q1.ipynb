{
 "cells": [
  {
   "cell_type": "code",
   "execution_count": 65,
   "id": "65789ad7",
   "metadata": {},
   "outputs": [],
   "source": [
    "import tensorflow as tf\n",
    "from tensorflow.keras import layers, models\n",
    "from tensorflow.keras.datasets import mnist\n",
    "import numpy as np"
   ]
  },
  {
   "cell_type": "code",
   "execution_count": 66,
   "id": "93ec01d0",
   "metadata": {},
   "outputs": [],
   "source": [
    "# Set random seed for reproducibility\n",
    "tf.random.set_seed(42)\n",
    "\n",
    "# Hyperparameters\n",
    "batch_size = 128\n",
    "epochs = 2\n",
    "learning_rate = 0.001\n",
    "sparse_lambda = 1e-3  # Sparsity penalty\n",
    "contractive_lambda = 1e-4  # Contractive penalty\n",
    "rho = 0.05  # Target sparsity\n",
    "epsilon = 1e-6\n",
    "\n",
    "(x_train, _), (x_test, _) = tf.keras.datasets.mnist.load_data()\n",
    "x_train = x_train.astype('float32') / 255.0\n",
    "x_test = x_test.astype('float32') / 255.0\n",
    "x_train = np.expand_dims(x_train, axis=-1)  # Shape: (60000, 28, 28, 1)\n",
    "x_test = np.expand_dims(x_test, axis=-1)  # Shape: (10000, 28, 28, 1)\n",
    "train_dataset = tf.data.Dataset.from_tensor_slices(x_train).cache().shuffle(60000).batch(batch_size).prefetch(tf.data.AUTOTUNE)\n",
    "test_dataset = tf.data.Dataset.from_tensor_slices(x_test).batch(batch_size).prefetch(tf.data.AUTOTUNE)"
   ]
  },
  {
   "cell_type": "code",
   "execution_count": 67,
   "id": "a4f7e705",
   "metadata": {},
   "outputs": [],
   "source": [
    "# U-Net-like Encoder\n",
    "def build_encoder():\n",
    "    inputs = layers.Input(shape=(28, 28, 1))\n",
    "    x = layers.Conv2D(64, 3, padding='same', activation='relu')(inputs)  # 28x28x64\n",
    "    x = layers.MaxPooling2D(2)(x)  # 14x14x64\n",
    "    x = layers.Conv2D(128, 3, padding='same', activation='relu')(x)  # 14x14x128\n",
    "    x = layers.MaxPooling2D(2)(x)  # 7x7x128\n",
    "    x = layers.Conv2D(256, 3, padding='same', activation='relu')(x)  # 7x7x256\n",
    "    x = layers.MaxPooling2D(2)(x)  # 3x3x256\n",
    "    x = layers.Flatten()(x)\n",
    "    z = layers.Dense(128)(x)  # Latent space\n",
    "    return models.Model(inputs, z, name='encoder')\n"
   ]
  },
  {
   "cell_type": "code",
   "execution_count": 68,
   "id": "731d774a",
   "metadata": {},
   "outputs": [],
   "source": [
    "# U-Net-like Decoder\n",
    "def build_decoder():\n",
    "    inputs = layers.Input(shape=(128,))\n",
    "    x = layers.Dense(256 * 3 * 3, activation='relu')(inputs)\n",
    "    x = layers.Reshape((3, 3, 256))(x)\n",
    "    x = layers.Conv2DTranspose(128, 3, strides=2, padding='same', activation='relu')(x)  # 6x6x128\n",
    "    x = layers.Conv2DTranspose(64, 3, strides=2, padding='same', activation='relu')(x)  # 12x12x64\n",
    "    x = layers.Conv2DTranspose(1, 3, strides=2, padding='same', activation='sigmoid')(x)  # 28x28x1\n",
    "    x = layers.Conv2D(1, 3, padding='valid', activation='sigmoid')(x)  # 22x22x1\n",
    "    x = layers.ZeroPadding2D(padding=((3, 3), (3, 3)))(x)  # 28x28x1\n",
    "    return models.Model(inputs, x, name='decoder')"
   ]
  },
  {
   "cell_type": "code",
   "execution_count": 69,
   "id": "0decee44",
   "metadata": {},
   "outputs": [],
   "source": [
    "# Sparse Autoencoder\n",
    "class SparseAutoencoder(models.Model):\n",
    "    def __init__(self):\n",
    "        super(SparseAutoencoder, self).__init__()\n",
    "        self.encoder = build_encoder()\n",
    "        self.decoder = build_decoder()\n",
    "\n",
    "    def call(self, inputs):\n",
    "        z = self.encoder(inputs)\n",
    "        recon = self.decoder(z)\n",
    "        return recon, z"
   ]
  },
  {
   "cell_type": "code",
   "execution_count": 70,
   "id": "bca69dc5",
   "metadata": {},
   "outputs": [],
   "source": [
    "# Contractive Autoencoder\n",
    "class ContractiveAutoencoder(models.Model):\n",
    "    def __init__(self):\n",
    "        super(ContractiveAutoencoder, self).__init__()\n",
    "        self.encoder = build_encoder()\n",
    "        self.decoder = build_decoder()\n",
    "\n",
    "    def call(self, inputs):\n",
    "        z = self.encoder(inputs)\n",
    "        recon = self.decoder(z)\n",
    "        return recon, z"
   ]
  },
  {
   "cell_type": "code",
   "execution_count": 71,
   "id": "47e0f17f",
   "metadata": {},
   "outputs": [],
   "source": [
    "def sparse_ae_loss(y_true, y_pred, z):\n",
    "    mse_loss = tf.reduce_mean(tf.keras.losses.mse(y_true, y_pred))\n",
    "    rho_hat = tf.reduce_mean(z, axis=0)\n",
    "    # Clip rho_hat to avoid log(0) or division by zero\n",
    "    rho_hat = tf.clip_by_value(rho_hat, epsilon, 1 - epsilon)\n",
    "    kl_div = rho * tf.math.log(rho / rho_hat) + (1 - rho) * tf.math.log((1 - rho) / (1 - rho_hat))\n",
    "    kl_loss = sparse_lambda * tf.reduce_sum(tf.clip_by_value(kl_div, -1e4, 1e4))  # Clip KL term\n",
    "    return mse_loss + kl_loss\n",
    "\n",
    "# Contractive Autoencoder Loss\n",
    "def contractive_ae_loss(x, recon, z, model):\n",
    "    mse_loss = tf.reduce_mean(tf.square(x - recon))\n",
    "    with tf.GradientTape() as tape:\n",
    "        tape.watch(z)\n",
    "        recon = model.decoder(z)\n",
    "    grad_z = tape.gradient(recon, z)\n",
    "    j_loss = contractive_lambda * tf.reduce_mean(tf.reduce_sum(tf.square(grad_z), axis=1))\n",
    "    return mse_loss + j_loss"
   ]
  },
  {
   "cell_type": "code",
   "execution_count": 72,
   "id": "80e6ab7a",
   "metadata": {},
   "outputs": [],
   "source": [
    "# Training function\n",
    "def train(model, dataset, loss_fn, epochs, model_type='sparse'):\n",
    "    optimizer = tf.keras.optimizers.Adam(learning_rate)\n",
    "    for epoch in range(epochs):\n",
    "        total_loss = 0\n",
    "        for batch in dataset:\n",
    "            with tf.GradientTape() as tape:\n",
    "                recon, z = model(batch)\n",
    "                if model_type == 'sparse':\n",
    "                    loss = loss_fn(batch, recon, z)\n",
    "                else:\n",
    "                    loss = loss_fn(batch, recon, z, model)\n",
    "            gradients = tape.gradient(loss, model.trainable_variables)\n",
    "            optimizer.apply_gradients(zip(gradients, model.trainable_variables))\n",
    "            total_loss += loss.numpy()\n",
    "        print(f'Epoch {epoch+1}/{epochs}, {model_type.capitalize()} AE Loss: {total_loss / len(dataset):.6f}')"
   ]
  },
  {
   "cell_type": "code",
   "execution_count": 73,
   "id": "dfb86052",
   "metadata": {},
   "outputs": [
    {
     "name": "stdout",
     "output_type": "stream",
     "text": [
      "Sparse Autoencoder Summary:\n"
     ]
    },
    {
     "data": {
      "text/html": [
       "<pre style=\"white-space:pre;overflow-x:auto;line-height:normal;font-family:Menlo,'DejaVu Sans Mono',consolas,'Courier New',monospace\"><span style=\"font-weight: bold\">Model: \"sparse_autoencoder_9\"</span>\n",
       "</pre>\n"
      ],
      "text/plain": [
       "\u001b[1mModel: \"sparse_autoencoder_9\"\u001b[0m\n"
      ]
     },
     "metadata": {},
     "output_type": "display_data"
    },
    {
     "data": {
      "text/html": [
       "<pre style=\"white-space:pre;overflow-x:auto;line-height:normal;font-family:Menlo,'DejaVu Sans Mono',consolas,'Courier New',monospace\">┏━━━━━━━━━━━━━━━━━━━━━━━━━━━━━━━━━┳━━━━━━━━━━━━━━━━━━━━━━━━┳━━━━━━━━━━━━━━━┓\n",
       "┃<span style=\"font-weight: bold\"> Layer (type)                    </span>┃<span style=\"font-weight: bold\"> Output Shape           </span>┃<span style=\"font-weight: bold\">       Param # </span>┃\n",
       "┡━━━━━━━━━━━━━━━━━━━━━━━━━━━━━━━━━╇━━━━━━━━━━━━━━━━━━━━━━━━╇━━━━━━━━━━━━━━━┩\n",
       "│ encoder (<span style=\"color: #0087ff; text-decoration-color: #0087ff\">Functional</span>)            │ (<span style=\"color: #00d7ff; text-decoration-color: #00d7ff\">None</span>, <span style=\"color: #00af00; text-decoration-color: #00af00\">128</span>)            │       <span style=\"color: #00af00; text-decoration-color: #00af00\">664,704</span> │\n",
       "├─────────────────────────────────┼────────────────────────┼───────────────┤\n",
       "│ decoder (<span style=\"color: #0087ff; text-decoration-color: #0087ff\">Functional</span>)            │ (<span style=\"color: #00d7ff; text-decoration-color: #00d7ff\">None</span>, <span style=\"color: #00af00; text-decoration-color: #00af00\">28</span>, <span style=\"color: #00af00; text-decoration-color: #00af00\">28</span>, <span style=\"color: #00af00; text-decoration-color: #00af00\">1</span>)      │       <span style=\"color: #00af00; text-decoration-color: #00af00\">666,635</span> │\n",
       "└─────────────────────────────────┴────────────────────────┴───────────────┘\n",
       "</pre>\n"
      ],
      "text/plain": [
       "┏━━━━━━━━━━━━━━━━━━━━━━━━━━━━━━━━━┳━━━━━━━━━━━━━━━━━━━━━━━━┳━━━━━━━━━━━━━━━┓\n",
       "┃\u001b[1m \u001b[0m\u001b[1mLayer (type)                   \u001b[0m\u001b[1m \u001b[0m┃\u001b[1m \u001b[0m\u001b[1mOutput Shape          \u001b[0m\u001b[1m \u001b[0m┃\u001b[1m \u001b[0m\u001b[1m      Param #\u001b[0m\u001b[1m \u001b[0m┃\n",
       "┡━━━━━━━━━━━━━━━━━━━━━━━━━━━━━━━━━╇━━━━━━━━━━━━━━━━━━━━━━━━╇━━━━━━━━━━━━━━━┩\n",
       "│ encoder (\u001b[38;5;33mFunctional\u001b[0m)            │ (\u001b[38;5;45mNone\u001b[0m, \u001b[38;5;34m128\u001b[0m)            │       \u001b[38;5;34m664,704\u001b[0m │\n",
       "├─────────────────────────────────┼────────────────────────┼───────────────┤\n",
       "│ decoder (\u001b[38;5;33mFunctional\u001b[0m)            │ (\u001b[38;5;45mNone\u001b[0m, \u001b[38;5;34m28\u001b[0m, \u001b[38;5;34m28\u001b[0m, \u001b[38;5;34m1\u001b[0m)      │       \u001b[38;5;34m666,635\u001b[0m │\n",
       "└─────────────────────────────────┴────────────────────────┴───────────────┘\n"
      ]
     },
     "metadata": {},
     "output_type": "display_data"
    },
    {
     "data": {
      "text/html": [
       "<pre style=\"white-space:pre;overflow-x:auto;line-height:normal;font-family:Menlo,'DejaVu Sans Mono',consolas,'Courier New',monospace\"><span style=\"font-weight: bold\"> Total params: </span><span style=\"color: #00af00; text-decoration-color: #00af00\">1,331,339</span> (5.08 MB)\n",
       "</pre>\n"
      ],
      "text/plain": [
       "\u001b[1m Total params: \u001b[0m\u001b[38;5;34m1,331,339\u001b[0m (5.08 MB)\n"
      ]
     },
     "metadata": {},
     "output_type": "display_data"
    },
    {
     "data": {
      "text/html": [
       "<pre style=\"white-space:pre;overflow-x:auto;line-height:normal;font-family:Menlo,'DejaVu Sans Mono',consolas,'Courier New',monospace\"><span style=\"font-weight: bold\"> Trainable params: </span><span style=\"color: #00af00; text-decoration-color: #00af00\">1,331,339</span> (5.08 MB)\n",
       "</pre>\n"
      ],
      "text/plain": [
       "\u001b[1m Trainable params: \u001b[0m\u001b[38;5;34m1,331,339\u001b[0m (5.08 MB)\n"
      ]
     },
     "metadata": {},
     "output_type": "display_data"
    },
    {
     "data": {
      "text/html": [
       "<pre style=\"white-space:pre;overflow-x:auto;line-height:normal;font-family:Menlo,'DejaVu Sans Mono',consolas,'Courier New',monospace\"><span style=\"font-weight: bold\"> Non-trainable params: </span><span style=\"color: #00af00; text-decoration-color: #00af00\">0</span> (0.00 B)\n",
       "</pre>\n"
      ],
      "text/plain": [
       "\u001b[1m Non-trainable params: \u001b[0m\u001b[38;5;34m0\u001b[0m (0.00 B)\n"
      ]
     },
     "metadata": {},
     "output_type": "display_data"
    },
    {
     "name": "stdout",
     "output_type": "stream",
     "text": [
      "\n",
      "Contractive Autoencoder Summary:\n"
     ]
    },
    {
     "data": {
      "text/html": [
       "<pre style=\"white-space:pre;overflow-x:auto;line-height:normal;font-family:Menlo,'DejaVu Sans Mono',consolas,'Courier New',monospace\"><span style=\"font-weight: bold\">Model: \"contractive_autoencoder_9\"</span>\n",
       "</pre>\n"
      ],
      "text/plain": [
       "\u001b[1mModel: \"contractive_autoencoder_9\"\u001b[0m\n"
      ]
     },
     "metadata": {},
     "output_type": "display_data"
    },
    {
     "data": {
      "text/html": [
       "<pre style=\"white-space:pre;overflow-x:auto;line-height:normal;font-family:Menlo,'DejaVu Sans Mono',consolas,'Courier New',monospace\">┏━━━━━━━━━━━━━━━━━━━━━━━━━━━━━━━━━┳━━━━━━━━━━━━━━━━━━━━━━━━┳━━━━━━━━━━━━━━━┓\n",
       "┃<span style=\"font-weight: bold\"> Layer (type)                    </span>┃<span style=\"font-weight: bold\"> Output Shape           </span>┃<span style=\"font-weight: bold\">       Param # </span>┃\n",
       "┡━━━━━━━━━━━━━━━━━━━━━━━━━━━━━━━━━╇━━━━━━━━━━━━━━━━━━━━━━━━╇━━━━━━━━━━━━━━━┩\n",
       "│ encoder (<span style=\"color: #0087ff; text-decoration-color: #0087ff\">Functional</span>)            │ (<span style=\"color: #00d7ff; text-decoration-color: #00d7ff\">None</span>, <span style=\"color: #00af00; text-decoration-color: #00af00\">128</span>)            │       <span style=\"color: #00af00; text-decoration-color: #00af00\">664,704</span> │\n",
       "├─────────────────────────────────┼────────────────────────┼───────────────┤\n",
       "│ decoder (<span style=\"color: #0087ff; text-decoration-color: #0087ff\">Functional</span>)            │ (<span style=\"color: #00d7ff; text-decoration-color: #00d7ff\">None</span>, <span style=\"color: #00af00; text-decoration-color: #00af00\">28</span>, <span style=\"color: #00af00; text-decoration-color: #00af00\">28</span>, <span style=\"color: #00af00; text-decoration-color: #00af00\">1</span>)      │       <span style=\"color: #00af00; text-decoration-color: #00af00\">666,635</span> │\n",
       "└─────────────────────────────────┴────────────────────────┴───────────────┘\n",
       "</pre>\n"
      ],
      "text/plain": [
       "┏━━━━━━━━━━━━━━━━━━━━━━━━━━━━━━━━━┳━━━━━━━━━━━━━━━━━━━━━━━━┳━━━━━━━━━━━━━━━┓\n",
       "┃\u001b[1m \u001b[0m\u001b[1mLayer (type)                   \u001b[0m\u001b[1m \u001b[0m┃\u001b[1m \u001b[0m\u001b[1mOutput Shape          \u001b[0m\u001b[1m \u001b[0m┃\u001b[1m \u001b[0m\u001b[1m      Param #\u001b[0m\u001b[1m \u001b[0m┃\n",
       "┡━━━━━━━━━━━━━━━━━━━━━━━━━━━━━━━━━╇━━━━━━━━━━━━━━━━━━━━━━━━╇━━━━━━━━━━━━━━━┩\n",
       "│ encoder (\u001b[38;5;33mFunctional\u001b[0m)            │ (\u001b[38;5;45mNone\u001b[0m, \u001b[38;5;34m128\u001b[0m)            │       \u001b[38;5;34m664,704\u001b[0m │\n",
       "├─────────────────────────────────┼────────────────────────┼───────────────┤\n",
       "│ decoder (\u001b[38;5;33mFunctional\u001b[0m)            │ (\u001b[38;5;45mNone\u001b[0m, \u001b[38;5;34m28\u001b[0m, \u001b[38;5;34m28\u001b[0m, \u001b[38;5;34m1\u001b[0m)      │       \u001b[38;5;34m666,635\u001b[0m │\n",
       "└─────────────────────────────────┴────────────────────────┴───────────────┘\n"
      ]
     },
     "metadata": {},
     "output_type": "display_data"
    },
    {
     "data": {
      "text/html": [
       "<pre style=\"white-space:pre;overflow-x:auto;line-height:normal;font-family:Menlo,'DejaVu Sans Mono',consolas,'Courier New',monospace\"><span style=\"font-weight: bold\"> Total params: </span><span style=\"color: #00af00; text-decoration-color: #00af00\">1,331,339</span> (5.08 MB)\n",
       "</pre>\n"
      ],
      "text/plain": [
       "\u001b[1m Total params: \u001b[0m\u001b[38;5;34m1,331,339\u001b[0m (5.08 MB)\n"
      ]
     },
     "metadata": {},
     "output_type": "display_data"
    },
    {
     "data": {
      "text/html": [
       "<pre style=\"white-space:pre;overflow-x:auto;line-height:normal;font-family:Menlo,'DejaVu Sans Mono',consolas,'Courier New',monospace\"><span style=\"font-weight: bold\"> Trainable params: </span><span style=\"color: #00af00; text-decoration-color: #00af00\">1,331,339</span> (5.08 MB)\n",
       "</pre>\n"
      ],
      "text/plain": [
       "\u001b[1m Trainable params: \u001b[0m\u001b[38;5;34m1,331,339\u001b[0m (5.08 MB)\n"
      ]
     },
     "metadata": {},
     "output_type": "display_data"
    },
    {
     "data": {
      "text/html": [
       "<pre style=\"white-space:pre;overflow-x:auto;line-height:normal;font-family:Menlo,'DejaVu Sans Mono',consolas,'Courier New',monospace\"><span style=\"font-weight: bold\"> Non-trainable params: </span><span style=\"color: #00af00; text-decoration-color: #00af00\">0</span> (0.00 B)\n",
       "</pre>\n"
      ],
      "text/plain": [
       "\u001b[1m Non-trainable params: \u001b[0m\u001b[38;5;34m0\u001b[0m (0.00 B)\n"
      ]
     },
     "metadata": {},
     "output_type": "display_data"
    },
    {
     "name": "stdout",
     "output_type": "stream",
     "text": [
      "Training Sparse Autoencoder...\n",
      "Epoch 1/2, Sparse AE Loss: 0.075740\n",
      "Epoch 2/2, Sparse AE Loss: 0.038379\n",
      "\n",
      "Training Contractive Autoencoder...\n",
      "Epoch 1/2, Contractive AE Loss: 0.120827\n",
      "Epoch 2/2, Contractive AE Loss: 0.098976\n"
     ]
    }
   ],
   "source": [
    "# Initialize and compile models\n",
    "sparse_ae = SparseAutoencoder()\n",
    "contractive_ae = ContractiveAutoencoder()\n",
    "\n",
    "# Print model summary\n",
    "print(\"Sparse Autoencoder Summary:\")\n",
    "sparse_ae.summary()\n",
    "\n",
    "print(\"\\nContractive Autoencoder Summary:\")\n",
    "contractive_ae.summary()\n",
    "\n",
    "# Train Sparse Autoencoder\n",
    "print(\"Training Sparse Autoencoder...\")\n",
    "train(sparse_ae, train_dataset, sparse_ae_loss, epochs, model_type='sparse')\n",
    "\n",
    "# Train Contractive Autoencoder\n",
    "print(\"\\nTraining Contractive Autoencoder...\")\n",
    "train(contractive_ae, train_dataset, contractive_ae_loss, epochs, model_type='contractive')"
   ]
  },
  {
   "cell_type": "code",
   "execution_count": 76,
   "id": "4bdb890a",
   "metadata": {},
   "outputs": [
    {
     "name": "stdout",
     "output_type": "stream",
     "text": [
      "\n",
      "Reconstructing and Validating Sparse Autoencoder...\n",
      "Sparse Autoencoder Test MSE: 0.020710\n"
     ]
    },
    {
     "data": {
      "image/png": "[encoded data removed]",
      "text/plain": [
       "<Figure size 1000x400 with 10 Axes>"
      ]
     },
     "metadata": {},
     "output_type": "display_data"
    },
    {
     "name": "stdout",
     "output_type": "stream",
     "text": [
      "\n",
      "Reconstructing and Validating Contractive Autoencoder...\n",
      "Contractive Autoencoder Test MSE: 0.089434\n"
     ]
    },
    {
     "data": {
      "image/png": "[encoded data removed]",
      "text/plain": [
       "<Figure size 1000x400 with 10 Axes>"
      ]
     },
     "metadata": {},
     "output_type": "display_data"
    }
   ],
   "source": [
    "\n",
    "import matplotlib.pyplot as plt\n",
    "# Load and preprocess MNIST dataset (modified to include test set)\n",
    "(x_train, _), (x_test, _) = tf.keras.datasets.mnist.load_data()\n",
    "x_train = x_train.astype('float32') / 255.0\n",
    "x_test = x_test.astype('float32') / 255.0\n",
    "x_train = np.expand_dims(x_train, axis=-1)  # Shape: (60000, 28, 28, 1)\n",
    "x_test = np.expand_dims(x_test, axis=-1)  # Shape: (10000, 28, 28, 1)\n",
    "train_dataset = tf.data.Dataset.from_tensor_slices(x_train).cache().shuffle(60000).batch(batch_size).prefetch(tf.data.AUTOTUNE)\n",
    "test_dataset = tf.data.Dataset.from_tensor_slices(x_test).batch(batch_size).prefetch(tf.data.AUTOTUNE)\n",
    "\n",
    "# Function to reconstruct and validate images\n",
    "def reconstruct_and_validate(model, dataset, model_name, num_images=5):\n",
    "    # Get one batch from the test dataset\n",
    "    for batch in dataset.take(1):\n",
    "        original_images = batch.numpy()\n",
    "        recon_images, _ = model(batch, training=False)\n",
    "        recon_images = recon_images.numpy()\n",
    "\n",
    "    # Compute MSE for the batch\n",
    "    mse = np.mean((original_images - recon_images) ** 2)\n",
    "    print(f\"{model_name} Test MSE: {mse:.6f}\")\n",
    "\n",
    "    # Visualize original and reconstructed images\n",
    "    plt.figure(figsize=(10, 4))\n",
    "    for i in range(num_images):\n",
    "        # Original image\n",
    "        plt.subplot(2, num_images, i + 1)\n",
    "        plt.imshow(original_images[i].reshape(28, 28), cmap='gray')\n",
    "        plt.title(f\"Original {i+1}\")\n",
    "        plt.axis('off')\n",
    "        # Reconstructed image\n",
    "        plt.subplot(2, num_images, i + num_images + 1)\n",
    "        plt.imshow(recon_images[i].reshape(28, 28), cmap='gray')\n",
    "        plt.title(f\"Reconstructed {i+1}\")\n",
    "        plt.axis('off')\n",
    "    plt.suptitle(f\"{model_name} Reconstruction\")\n",
    "    plt.tight_layout()\n",
    "    plt.show()\n",
    "\n",
    "# After training, reconstruct and validate\n",
    "print(\"\\nReconstructing and Validating Sparse Autoencoder...\")\n",
    "reconstruct_and_validate(sparse_ae, test_dataset, \"Sparse Autoencoder\")\n",
    "\n",
    "print(\"\\nReconstructing and Validating Contractive Autoencoder...\")\n",
    "reconstruct_and_validate(contractive_ae, test_dataset, \"Contractive Autoencoder\")"
   ]
  }
 ],
 "metadata": {
  "kernelspec": {
   "display_name": "venv (3.11.9)",
   "language": "python",
   "name": "python3"
  },
  "language_info": {
   "codemirror_mode": {
    "name": "ipython",
    "version": 3
   },
   "file_extension": ".py",
   "mimetype": "text/x-python",
   "name": "python",
   "nbconvert_exporter": "python",
   "pygments_lexer": "ipython3",
   "version": "3.11.9"
  }
 },
 "nbformat": 4,
 "nbformat_minor": 5
}
