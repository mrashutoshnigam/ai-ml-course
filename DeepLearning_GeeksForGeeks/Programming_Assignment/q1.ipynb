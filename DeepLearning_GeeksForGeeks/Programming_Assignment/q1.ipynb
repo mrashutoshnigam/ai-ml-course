{
 "cells": [
  {
   "cell_type": "code",
   "execution_count": 37,
   "id": "65789ad7",
   "metadata": {},
   "outputs": [],
   "source": [
    "import tensorflow as tf\n",
    "from tensorflow.keras import layers, models\n",
    "from tensorflow.keras.datasets import mnist\n",
    "import numpy as np"
   ]
  },
  {
   "cell_type": "code",
   "execution_count": 38,
   "id": "93ec01d0",
   "metadata": {},
   "outputs": [],
   "source": [
    "# Set random seed for reproducibility\n",
    "tf.random.set_seed(42)\n",
    "\n",
    "# Hyperparameters\n",
    "batch_size = 128\n",
    "epochs = 20\n",
    "learning_rate = 0.001\n",
    "sparse_lambda = 1e-3  # Sparsity penalty\n",
    "contractive_lambda = 1e-4  # Contractive penalty\n",
    "rho = 0.05  # Target sparsity\n",
    "\n",
    "# Load and preprocess MNIST dataset\n",
    "(x_train, _), (_, _) = mnist.load_data()\n",
    "x_train = x_train.astype('float32') / 255.0\n",
    "x_train = np.expand_dims(x_train, axis=-1)  # Shape: (60000, 28, 28, 1)\n",
    "x_train = (x_train - 0.1307) / 0.3081  # Normalize as per PyTorch example\n",
    "train_dataset = tf.data.Dataset.from_tensor_slices(x_train).shuffle(60000).batch(batch_size)"
   ]
  },
  {
   "cell_type": "code",
   "execution_count": 39,
   "id": "a4f7e705",
   "metadata": {},
   "outputs": [],
   "source": [
    "# U-Net-like Encoder\n",
    "def build_encoder():\n",
    "    inputs = layers.Input(shape=(28, 28, 1))\n",
    "    x = layers.Conv2D(64, 3, padding='same', activation='relu')(inputs)  # 28x28x64\n",
    "    x = layers.MaxPooling2D(2)(x)  # 14x14x64\n",
    "    x = layers.Conv2D(128, 3, padding='same', activation='relu')(x)  # 14x14x128\n",
    "    x = layers.MaxPooling2D(2)(x)  # 7x7x128\n",
    "    x = layers.Conv2D(256, 3, padding='same', activation='relu')(x)  # 7x7x256\n",
    "    x = layers.MaxPooling2D(2)(x)  # 3x3x256\n",
    "    x = layers.Flatten()(x)\n",
    "    z = layers.Dense(128)(x)  # Latent space\n",
    "    return models.Model(inputs, z, name='encoder')\n"
   ]
  },
  {
   "cell_type": "code",
   "execution_count": 40,
   "id": "731d774a",
   "metadata": {},
   "outputs": [],
   "source": [
    "# U-Net-like Decoder\n",
    "def build_decoder():\n",
    "    inputs = layers.Input(shape=(128,))\n",
    "    x = layers.Dense(256 * 3 * 3, activation='relu')(inputs)\n",
    "    x = layers.Reshape((3, 3, 256))(x)\n",
    "    x = layers.Conv2DTranspose(128, 3, strides=2, padding='same', activation='relu')(x)  # 6x6x128\n",
    "    x = layers.Conv2DTranspose(64, 3, strides=2, padding='same', activation='relu')(x)  # 12x12x64\n",
    "    x = layers.Conv2DTranspose(1, 3, strides=2, padding='same', activation='sigmoid')(x)  # 28x28x1\n",
    "    x = layers.Conv2D(1, 3, padding='valid', activation='sigmoid')(x)  # 22x22x1\n",
    "    x = layers.ZeroPadding2D(padding=((3, 3), (3, 3)))(x)  # 28x28x1\n",
    "    return models.Model(inputs, x, name='decoder')"
   ]
  },
  {
   "cell_type": "code",
   "execution_count": 41,
   "id": "0decee44",
   "metadata": {},
   "outputs": [],
   "source": [
    "# Sparse Autoencoder\n",
    "class SparseAutoencoder(models.Model):\n",
    "    def __init__(self):\n",
    "        super(SparseAutoencoder, self).__init__()\n",
    "        self.encoder = build_encoder()\n",
    "        self.decoder = build_decoder()\n",
    "\n",
    "    def call(self, inputs):\n",
    "        z = self.encoder(inputs)\n",
    "        recon = self.decoder(z)\n",
    "        return recon, z"
   ]
  },
  {
   "cell_type": "code",
   "execution_count": 42,
   "id": "bca69dc5",
   "metadata": {},
   "outputs": [],
   "source": [
    "# Contractive Autoencoder\n",
    "class ContractiveAutoencoder(models.Model):\n",
    "    def __init__(self):\n",
    "        super(ContractiveAutoencoder, self).__init__()\n",
    "        self.encoder = build_encoder()\n",
    "        self.decoder = build_decoder()\n",
    "\n",
    "    def call(self, inputs):\n",
    "        z = self.encoder(inputs)\n",
    "        recon = self.decoder(z)\n",
    "        return recon, z"
   ]
  },
  {
   "cell_type": "code",
   "execution_count": 43,
   "id": "47e0f17f",
   "metadata": {},
   "outputs": [],
   "source": [
    "def sparse_ae_loss(y_true, y_pred, z):\n",
    "    mse_loss = tf.reduce_mean(tf.keras.losses.mse(y_true, y_pred))\n",
    "    rho_hat = tf.reduce_mean(z, axis=0)\n",
    "    kl_div = rho * tf.math.log(rho / (rho_hat + 1e-10)) + (1 - rho) * tf.math.log((1 - rho) / (1 - rho_hat + 1e-10))\n",
    "    kl_loss = sparse_lambda * tf.reduce_sum(kl_div)\n",
    "    return mse_loss + kl_loss\n",
    "\n",
    "# Contractive Autoencoder Loss\n",
    "def contractive_ae_loss(x, recon, z, model):\n",
    "    mse_loss = tf.reduce_mean(tf.square(x - recon))\n",
    "    with tf.GradientTape() as tape:\n",
    "        tape.watch(z)\n",
    "        recon = model.decoder(z)\n",
    "    grad_z = tape.gradient(recon, z)\n",
    "    j_loss = contractive_lambda * tf.reduce_mean(tf.reduce_sum(tf.square(grad_z), axis=1))\n",
    "    return mse_loss + j_loss"
   ]
  },
  {
   "cell_type": "code",
   "execution_count": 44,
   "id": "80e6ab7a",
   "metadata": {},
   "outputs": [],
   "source": [
    "# Training function\n",
    "def train(model, dataset, loss_fn, epochs, model_type='sparse'):\n",
    "    optimizer = tf.keras.optimizers.Adam(learning_rate)\n",
    "    for epoch in range(epochs):\n",
    "        total_loss = 0\n",
    "        for batch in dataset:\n",
    "            with tf.GradientTape() as tape:\n",
    "                recon, z = model(batch)\n",
    "                if model_type == 'sparse':\n",
    "                    loss = loss_fn(batch, recon, z)\n",
    "                else:\n",
    "                    loss = loss_fn(batch, recon, z, model)\n",
    "            gradients = tape.gradient(loss, model.trainable_variables)\n",
    "            optimizer.apply_gradients(zip(gradients, model.trainable_variables))\n",
    "            total_loss += loss.numpy()\n",
    "        print(f'Epoch {epoch+1}/{epochs}, {model_type.capitalize()} AE Loss: {total_loss / len(dataset):.6f}')"
   ]
  },
  {
   "cell_type": "code",
   "execution_count": null,
   "id": "dfb86052",
   "metadata": {},
   "outputs": [
    {
     "name": "stdout",
     "output_type": "stream",
     "text": [
      "Training Sparse Autoencoder...\n"
     ]
    }
   ],
   "source": [
    "# Initialize and compile models\n",
    "sparse_ae = SparseAutoencoder()\n",
    "contractive_ae = ContractiveAutoencoder()\n",
    "\n",
    "# Train Sparse Autoencoder\n",
    "print(\"Training Sparse Autoencoder...\")\n",
    "train(sparse_ae, train_dataset, sparse_ae_loss, epochs, model_type='sparse')\n",
    "\n",
    "# Train Contractive Autoencoder\n",
    "print(\"\\nTraining Contractive Autoencoder...\")\n",
    "train(contractive_ae, train_dataset, contractive_ae_loss, epochs, model_type='contractive')"
   ]
  },
  {
   "cell_type": "code",
   "execution_count": null,
   "id": "4bdb890a",
   "metadata": {},
   "outputs": [],
   "source": []
  }
 ],
 "metadata": {
  "kernelspec": {
   "display_name": "venv (3.11.9)",
   "language": "python",
   "name": "python3"
  },
  "language_info": {
   "codemirror_mode": {
    "name": "ipython",
    "version": 3
   },
   "file_extension": ".py",
   "mimetype": "text/x-python",
   "name": "python",
   "nbconvert_exporter": "python",
   "pygments_lexer": "ipython3",
   "version": "3.11.9"
  }
 },
 "nbformat": 4,
 "nbformat_minor": 5
}
