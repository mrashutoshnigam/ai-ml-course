{
  "cells": [
    {
      "cell_type": "code",
      "execution_count": null,
      "metadata": {
        "id": "8dmRgOsx3vnS"
      },
      "outputs": [],
      "source": [
        "# For tips on running notebooks in Google Colab, see\n",
        "# https://pytorch.org/tutorials/beginner/colab\n",
        "%matplotlib inline"
      ]
    },
    {
      "cell_type": "markdown",
      "metadata": {
        "id": "3ymYCdyS3vnV"
      },
      "source": [
        "Multi-GPU Examples\n",
        "==================\n",
        "\n",
        "Data Parallelism is when we split the mini-batch of samples into\n",
        "multiple smaller mini-batches and run the computation for each of the\n",
        "smaller mini-batches in parallel.\n",
        "\n",
        "Data Parallelism is implemented using `torch.nn.DataParallel`. One can\n",
        "wrap a Module in `DataParallel` and it will be parallelized over\n",
        "multiple GPUs in the batch dimension.\n",
        "\n",
        "DataParallel\n",
        "------------\n"
      ]
    },
    {
      "cell_type": "code",
      "execution_count": null,
      "metadata": {
        "id": "dqk0LBhb3vnW"
      },
      "outputs": [],
      "source": [
        "import torch\n",
        "import torch.nn as nn\n",
        "\n",
        "\n",
        "class DataParallelModel(nn.Module):\n",
        "\n",
        "    def __init__(self):\n",
        "        super().__init__()\n",
        "        self.block1 = nn.Linear(10, 20)\n",
        "\n",
        "        # wrap block2 in DataParallel\n",
        "        self.block2 = nn.Linear(20, 20)\n",
        "        self.block2 = nn.DataParallel(self.block2)\n",
        "\n",
        "        self.block3 = nn.Linear(20, 20)\n",
        "\n",
        "    def forward(self, x):\n",
        "        x = self.block1(x)\n",
        "        x = self.block2(x)\n",
        "        x = self.block3(x)\n",
        "        return x"
      ]
    },
    {
      "cell_type": "markdown",
      "metadata": {
        "id": "r3CdKNkr3vnW"
      },
      "source": [
        "The code does not need to be changed in CPU-mode.\n",
        "\n",
        "The documentation for DataParallel can be found\n",
        "[here](https://pytorch.org/docs/stable/nn.html#dataparallel-layers-multi-gpu-distributed).\n",
        "\n",
        "**Attributes of the wrapped module**\n",
        "\n",
        "After wrapping a Module with `DataParallel`, the attributes of the\n",
        "module (e.g. custom methods) became inaccessible. This is because\n",
        "`DataParallel` defines a few new members, and allowing other attributes\n",
        "might lead to clashes in their names. For those who still want to access\n",
        "the attributes, a workaround is to use a subclass of `DataParallel` as\n",
        "below.\n"
      ]
    },
    {
      "cell_type": "code",
      "execution_count": null,
      "metadata": {
        "id": "rJGjXSs93vnW"
      },
      "outputs": [],
      "source": [
        "class MyDataParallel(nn.DataParallel):\n",
        "    def __getattr__(self, name):\n",
        "        try:\n",
        "            return super().__getattr__(name)\n",
        "        except AttributeError:\n",
        "            return getattr(self.module, name)"
      ]
    },
    {
      "cell_type": "markdown",
      "metadata": {
        "id": "tKbQ5eCo3vnX"
      },
      "source": [
        "**Primitives on which DataParallel is implemented upon:**\n",
        "\n",
        "In general, pytorch's [nn.parallel]{.title-ref} primitives can be used\n",
        "independently. We have implemented simple MPI-like primitives:\n",
        "\n",
        "-   replicate: replicate a Module on multiple devices\n",
        "-   scatter: distribute the input in the first-dimension\n",
        "-   gather: gather and concatenate the input in the first-dimension\n",
        "-   parallel\\_apply: apply a set of already-distributed inputs to a set\n",
        "    of already-distributed models.\n",
        "\n",
        "To give a better clarity, here function `data_parallel` composed using\n",
        "these collectives\n"
      ]
    },
    {
      "cell_type": "code",
      "execution_count": null,
      "metadata": {
        "id": "kEYU97Nw3vnX"
      },
      "outputs": [],
      "source": [
        "def data_parallel(module, input, device_ids, output_device=None):\n",
        "    if not device_ids:\n",
        "        return module(input)\n",
        "\n",
        "    if output_device is None:\n",
        "        output_device = device_ids[0]\n",
        "\n",
        "    replicas = nn.parallel.replicate(module, device_ids)\n",
        "    inputs = nn.parallel.scatter(input, device_ids)\n",
        "    replicas = replicas[:len(inputs)]\n",
        "    outputs = nn.parallel.parallel_apply(replicas, inputs)\n",
        "    return nn.parallel.gather(outputs, output_device)"
      ]
    },
    {
      "cell_type": "markdown",
      "metadata": {
        "id": "tdZptH1Q3vnX"
      },
      "source": [
        "Part of the model on CPU and part on the GPU\n",
        "============================================\n",
        "\n",
        "Let's look at a small example of implementing a network where part of it\n",
        "is on the CPU and part on the GPU\n"
      ]
    },
    {
      "cell_type": "code",
      "execution_count": null,
      "metadata": {
        "id": "Wi6PZjnQ3vnY",
        "colab": {
          "base_uri": "https://localhost:8080/",
          "height": 215
        },
        "outputId": "518e96f5-829b-4f38-8bdd-309a11672b0b"
      },
      "outputs": [
        {
          "output_type": "error",
          "ename": "NameError",
          "evalue": "name 'torch' is not defined",
          "traceback": [
            "\u001b[0;31m---------------------------------------------------------------------------\u001b[0m",
            "\u001b[0;31mNameError\u001b[0m                                 Traceback (most recent call last)",
            "\u001b[0;32m<ipython-input-5-2f2252ab110b>\u001b[0m in \u001b[0;36m<cell line: 1>\u001b[0;34m()\u001b[0m\n\u001b[0;32m----> 1\u001b[0;31m \u001b[0mdevice\u001b[0m \u001b[0;34m=\u001b[0m \u001b[0mtorch\u001b[0m\u001b[0;34m.\u001b[0m\u001b[0mdevice\u001b[0m\u001b[0;34m(\u001b[0m\u001b[0;34m\"cuda:0\"\u001b[0m\u001b[0;34m)\u001b[0m\u001b[0;34m\u001b[0m\u001b[0;34m\u001b[0m\u001b[0m\n\u001b[0m\u001b[1;32m      2\u001b[0m \u001b[0;34m\u001b[0m\u001b[0m\n\u001b[1;32m      3\u001b[0m \u001b[0;32mclass\u001b[0m \u001b[0mDistributedModel\u001b[0m\u001b[0;34m(\u001b[0m\u001b[0mnn\u001b[0m\u001b[0;34m.\u001b[0m\u001b[0mModule\u001b[0m\u001b[0;34m)\u001b[0m\u001b[0;34m:\u001b[0m\u001b[0;34m\u001b[0m\u001b[0;34m\u001b[0m\u001b[0m\n\u001b[1;32m      4\u001b[0m \u001b[0;34m\u001b[0m\u001b[0m\n\u001b[1;32m      5\u001b[0m     \u001b[0;32mdef\u001b[0m \u001b[0m__init__\u001b[0m\u001b[0;34m(\u001b[0m\u001b[0mself\u001b[0m\u001b[0;34m)\u001b[0m\u001b[0;34m:\u001b[0m\u001b[0;34m\u001b[0m\u001b[0;34m\u001b[0m\u001b[0m\n",
            "\u001b[0;31mNameError\u001b[0m: name 'torch' is not defined"
          ]
        }
      ],
      "source": [
        "device = torch.device(\"cuda:0\")\n",
        "\n",
        "class DistributedModel(nn.Module):\n",
        "\n",
        "    def __init__(self):\n",
        "        super().__init__(\n",
        "            embedding=nn.Embedding(1000, 10),\n",
        "            rnn=nn.Linear(10, 10).to(device),\n",
        "        )\n",
        "\n",
        "    def forward(self, x):\n",
        "        # Compute embedding on CPU\n",
        "        x = self.embedding(x)\n",
        "\n",
        "        # Transfer to GPU\n",
        "        x = x.to(device)\n",
        "\n",
        "        # Compute RNN on GPU\n",
        "        x = self.rnn(x)\n",
        "        return x"
      ]
    },
    {
      "cell_type": "markdown",
      "metadata": {
        "id": "06fQYl4G3vnY"
      },
      "source": [
        "This was a small introduction to PyTorch for former Torch users. There's\n",
        "a lot more to learn.\n",
        "\n",
        "Look at our more comprehensive introductory tutorial which introduces\n",
        "the `optim` package, data loaders etc.:\n",
        "`/beginner/deep_learning_60min_blitz`{.interpreted-text role=\"doc\"}.\n",
        "\n",
        "Also look at\n",
        "\n",
        "-   `Train neural nets to play video games </intermediate/reinforcement_q_learning>`{.interpreted-text\n",
        "    role=\"doc\"}\n",
        "-   [Train a state-of-the-art ResNet network on\n",
        "    imagenet](https://github.com/pytorch/examples/tree/master/imagenet)\n",
        "-   [Train a face generator using Generative Adversarial\n",
        "    Networks](https://github.com/pytorch/examples/tree/master/dcgan)\n",
        "-   [Train a word-level language model using Recurrent LSTM\n",
        "    networks](https://github.com/pytorch/examples/tree/master/word_language_model)\n",
        "-   [More examples](https://github.com/pytorch/examples)\n",
        "-   [More tutorials](https://github.com/pytorch/tutorials)\n",
        "-   [Discuss PyTorch on the Forums](https://discuss.pytorch.org/)\n",
        "-   [Chat with other users on\n",
        "    Slack](https://pytorch.slack.com/messages/beginner/)\n"
      ]
    }
  ],
  "metadata": {
    "kernelspec": {
      "display_name": "Python 3",
      "language": "python",
      "name": "python3"
    },
    "language_info": {
      "codemirror_mode": {
        "name": "ipython",
        "version": 3
      },
      "file_extension": ".py",
      "mimetype": "text/x-python",
      "name": "python",
      "nbconvert_exporter": "python",
      "pygments_lexer": "ipython3",
      "version": "3.10.14"
    },
    "colab": {
      "provenance": []
    }
  },
  "nbformat": 4,
  "nbformat_minor": 0
}