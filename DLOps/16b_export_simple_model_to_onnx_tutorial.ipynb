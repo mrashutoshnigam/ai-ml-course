{
  "cells": [
    {
      "cell_type": "code",
      "execution_count": null,
      "metadata": {
        "id": "PR7fdcSALuF4"
      },
      "outputs": [],
      "source": [
        "# For tips on running notebooks in Google Colab, see\n",
        "# https://pytorch.org/tutorials/beginner/colab\n",
        "%matplotlib inline"
      ]
    },
    {
      "cell_type": "markdown",
      "source": [],
      "metadata": {
        "id": "S74aOCE4Pwhw"
      }
    },
    {
      "cell_type": "markdown",
      "metadata": {
        "id": "yRFYzVNHLuF5"
      },
      "source": [
        "[Introduction to ONNX](intro_onnx.html) \\|\\| **Exporting a PyTorch model\n",
        "to ONNX** \\|\\| [Extending the ONNX\n",
        "Registry](onnx_registry_tutorial.html)\n",
        "\n",
        "Export a PyTorch model to ONNX\n",
        "==============================\n",
        "\n",
        "**Author**: [Thiago Crepaldi](https://github.com/thiagocrepaldi)\n",
        "\n",
        "<div style=\"background-color: #54c7ec; color: #fff; font-weight: 700; padding-left: 10px; padding-top: 5px; padding-bottom: 5px\"><strong>NOTE:</strong></div>\n",
        "<div style=\"background-color: #f3f4f7; padding-left: 10px; padding-top: 10px; padding-bottom: 10px; padding-right: 10px\">\n",
        "<p>As of PyTorch 2.1, there are two versions of ONNX Exporter.</p>\n",
        "</div>\n"
      ]
    },
    {
      "cell_type": "markdown",
      "metadata": {
        "id": "2KwYRkO3LuF7"
      },
      "source": [
        "In the [60 Minute\n",
        "Blitz](https://pytorch.org/tutorials/beginner/deep_learning_60min_blitz.html),\n",
        "we had the opportunity to learn about PyTorch at a high level and train\n",
        "a small neural network to classify images. In this tutorial, we are\n",
        "going to expand this to describe how to convert a model defined in\n",
        "PyTorch into the ONNX format using TorchDynamo and the\n",
        "`torch.onnx.dynamo_export` ONNX exporter.\n",
        "\n",
        "While PyTorch is great for iterating on the development of models, the\n",
        "model can be deployed to production using different formats, including\n",
        "[ONNX](https://onnx.ai/) (Open Neural Network Exchange)!\n",
        "\n",
        "ONNX is a flexible open standard format for representing machine\n",
        "learning models which standardized representations of machine learning\n",
        "allow them to be executed across a gamut of hardware platforms and\n",
        "runtime environments from large-scale cloud-based supercomputers to\n",
        "resource-constrained edge devices, such as your web browser and phone.\n",
        "\n",
        "In this tutorial, we'll learn how to:\n",
        "\n",
        "1.  Install the required dependencies.\n",
        "2.  Author a simple image classifier model.\n",
        "3.  Export the model to ONNX format.\n",
        "4.  Save the ONNX model in a file.\n",
        "5.  Visualize the ONNX model graph using\n",
        "    [Netron](https://github.com/lutzroeder/netron).\n",
        "6.  Execute the ONNX model with [ONNX Runtime]{.title-ref}\n",
        "7.  Compare the PyTorch results with the ones from the ONNX Runtime.\n",
        "\n",
        "1. Install the required dependencies\n",
        "====================================\n",
        "\n",
        "Because the ONNX exporter uses `onnx` and `onnxscript` to translate\n",
        "PyTorch operators into ONNX operators, we will need to install them.\n",
        "\n",
        "> ``` {.sourceCode .bash}\n",
        "> pip install onnx\n",
        "> pip install onnxscript\n",
        "> ```\n",
        "\n",
        "2. Author a simple image classifier model\n",
        "=========================================\n",
        "\n",
        "Once your environment is set up, let's start modeling our image\n",
        "classifier with PyTorch, exactly like we did in the [60 Minute\n",
        "Blitz](https://pytorch.org/tutorials/beginner/deep_learning_60min_blitz.html).\n"
      ]
    },
    {
      "cell_type": "code",
      "source": [
        "!pip install onnx"
      ],
      "metadata": {
        "colab": {
          "base_uri": "https://localhost:8080/"
        },
        "id": "E3MP7BIpMpts",
        "outputId": "e867c39f-26ce-4209-fab4-d7e76a0e6be3"
      },
      "execution_count": null,
      "outputs": [
        {
          "output_type": "stream",
          "name": "stdout",
          "text": [
            "Requirement already satisfied: onnx in /usr/local/lib/python3.10/dist-packages (1.16.0)\n",
            "Requirement already satisfied: numpy>=1.20 in /usr/local/lib/python3.10/dist-packages (from onnx) (1.25.2)\n",
            "Requirement already satisfied: protobuf>=3.20.2 in /usr/local/lib/python3.10/dist-packages (from onnx) (3.20.3)\n"
          ]
        }
      ]
    },
    {
      "cell_type": "code",
      "source": [
        "!pip install onnxscript"
      ],
      "metadata": {
        "colab": {
          "base_uri": "https://localhost:8080/"
        },
        "id": "iB2d41paMthl",
        "outputId": "199d384e-fe3b-4c1d-e846-a31d59ce2043"
      },
      "execution_count": null,
      "outputs": [
        {
          "output_type": "stream",
          "name": "stdout",
          "text": [
            "Requirement already satisfied: onnxscript in /usr/local/lib/python3.10/dist-packages (0.1.0.dev20240413)\n",
            "Requirement already satisfied: numpy in /usr/local/lib/python3.10/dist-packages (from onnxscript) (1.25.2)\n",
            "Requirement already satisfied: onnx>=1.15 in /usr/local/lib/python3.10/dist-packages (from onnxscript) (1.16.0)\n",
            "Requirement already satisfied: typing-extensions in /usr/local/lib/python3.10/dist-packages (from onnxscript) (4.11.0)\n",
            "Requirement already satisfied: protobuf>=3.20.2 in /usr/local/lib/python3.10/dist-packages (from onnx>=1.15->onnxscript) (3.20.3)\n"
          ]
        }
      ]
    },
    {
      "cell_type": "code",
      "execution_count": null,
      "metadata": {
        "id": "Uwoqab3nLuF8"
      },
      "outputs": [],
      "source": [
        "import torch\n",
        "import torch.nn as nn\n",
        "import torch.nn.functional as F\n",
        "\n",
        "\n",
        "class MyModel(nn.Module):\n",
        "\n",
        "    def __init__(self):\n",
        "        super(MyModel, self).__init__()\n",
        "        self.conv1 = nn.Conv2d(1, 6, 5)\n",
        "        self.conv2 = nn.Conv2d(6, 16, 5)\n",
        "        self.fc1 = nn.Linear(16 * 5 * 5, 120)\n",
        "        self.fc2 = nn.Linear(120, 84)\n",
        "        self.fc3 = nn.Linear(84, 10)\n",
        "\n",
        "    def forward(self, x):\n",
        "        x = F.max_pool2d(F.relu(self.conv1(x)), (2, 2))\n",
        "        x = F.max_pool2d(F.relu(self.conv2(x)), 2)\n",
        "        x = torch.flatten(x, 1)\n",
        "        x = F.relu(self.fc1(x))\n",
        "        x = F.relu(self.fc2(x))\n",
        "        x = self.fc3(x)\n",
        "        return x"
      ]
    },
    {
      "cell_type": "markdown",
      "metadata": {
        "id": "Vh0GBcjhLuF8"
      },
      "source": [
        "3. Export the model to ONNX format\n",
        "==================================\n",
        "\n",
        "Now that we have our model defined, we need to instantiate it and create\n",
        "a random 32x32 input. Next, we can export the model to ONNX format.\n"
      ]
    },
    {
      "cell_type": "code",
      "execution_count": null,
      "metadata": {
        "id": "o62IbqM7LuF9",
        "colab": {
          "base_uri": "https://localhost:8080/"
        },
        "outputId": "dd40f699-a3cc-4ae3-9b97-ecb41a430cf0"
      },
      "outputs": [
        {
          "output_type": "stream",
          "name": "stderr",
          "text": [
            "/usr/local/lib/python3.10/dist-packages/torch/onnx/_internal/exporter.py:137: UserWarning: torch.onnx.dynamo_export only implements opset version 18 for now. If you need to use a different opset version, please register them with register_custom_op.\n",
            "  warnings.warn(\n"
          ]
        }
      ],
      "source": [
        "torch_model = MyModel()\n",
        "# TRAINING\n",
        "torch_input = torch.randn(1, 1, 32, 32)\n",
        "onnx_program = torch.onnx.dynamo_export(torch_model, torch_input)"
      ]
    },
    {
      "cell_type": "markdown",
      "metadata": {
        "id": "Qm9teUyXLuF9"
      },
      "source": [
        "As we can see, we didn\\'t need any code change to the model. The\n",
        "resulting ONNX model is stored within `torch.onnx.ONNXProgram` as a\n",
        "binary protobuf file.\n",
        "\n",
        "4. Save the ONNX model in a file\n",
        "================================\n",
        "\n",
        "Although having the exported model loaded in memory is useful in many\n",
        "applications, we can save it to disk with the following code:\n"
      ]
    },
    {
      "cell_type": "code",
      "source": [
        "from google.colab import drive\n",
        "drive.mount('/gdrive7')"
      ],
      "metadata": {
        "colab": {
          "base_uri": "https://localhost:8080/"
        },
        "id": "l1-hLNF-Onzl",
        "outputId": "5fac90a0-d92d-4b56-e9e5-c0fe4214dda5"
      },
      "execution_count": null,
      "outputs": [
        {
          "output_type": "stream",
          "name": "stdout",
          "text": [
            "Mounted at /gdrive7\n"
          ]
        }
      ]
    },
    {
      "cell_type": "code",
      "source": [
        "cd /gdrive7/My Drive/Colab Notebooks/"
      ],
      "metadata": {
        "colab": {
          "base_uri": "https://localhost:8080/"
        },
        "id": "qJgp6Pn0O1Wj",
        "outputId": "bf308921-f1e7-4847-abf5-22fca53f4415"
      },
      "execution_count": null,
      "outputs": [
        {
          "output_type": "stream",
          "name": "stdout",
          "text": [
            "/gdrive7/My Drive/Colab Notebooks\n"
          ]
        }
      ]
    },
    {
      "cell_type": "code",
      "execution_count": null,
      "metadata": {
        "id": "R5tqOLUOLuF9"
      },
      "outputs": [],
      "source": [
        "onnx_program.save(\"my_image_classifier.onnx\")"
      ]
    },
    {
      "cell_type": "markdown",
      "metadata": {
        "id": "MiSzVptuLuF9"
      },
      "source": [
        "You can load the ONNX file back into memory and check if it is well\n",
        "formed with the following code:\n"
      ]
    },
    {
      "cell_type": "code",
      "execution_count": null,
      "metadata": {
        "id": "T3AzfTE5LuF-"
      },
      "outputs": [],
      "source": [
        "import onnx\n",
        "onnx_model = onnx.load(\"my_image_classifier.onnx\")\n",
        "onnx.checker.check_model(onnx_model)"
      ]
    },
    {
      "cell_type": "markdown",
      "metadata": {
        "id": "c1e8DKeXLuF-"
      },
      "source": [
        "5. Visualize the ONNX model graph using Netron\n",
        "==============================================\n",
        "\n",
        "Now that we have our model saved in a file, we can visualize it with\n",
        "[Netron](https://github.com/lutzroeder/netron). Netron can either be\n",
        "installed on macos, Linux or Windows computers, or run directly from the\n",
        "browser. Let\\'s try the web version by opening the following link:\n",
        "<https://netron.app/>.\n",
        "\n",
        "![image](https://pytorch.org/tutorials/_static/img/onnx/netron_web_ui.png){.align-center\n",
        "width=\"70.0%\"}\n",
        "\n",
        "Once Netron is open, we can drag and drop our `my_image_classifier.onnx`\n",
        "file into the browser or select it after clicking the **Open model**\n",
        "button.\n",
        "\n",
        "![image](https://pytorch.org/tutorials/_static/img/onnx/image_clossifier_onnx_modelon_netron_web_ui.png){width=\"50.0%\"}\n",
        "\n",
        "And that is it! We have successfully exported our PyTorch model to ONNX\n",
        "format and visualized it with Netron.\n",
        "\n",
        "6. Execute the ONNX model with ONNX Runtime\n",
        "===========================================\n",
        "\n",
        "The last step is executing the ONNX model with [ONNX\n",
        "Runtime]{.title-ref}, but before we do that, let\\'s install ONNX\n",
        "Runtime.\n",
        "\n",
        "> ``` {.sourceCode .bash}\n",
        "> pip install onnxruntime\n",
        "> ```\n",
        "\n",
        "The ONNX standard does not support all the data structure and types that\n",
        "PyTorch does, so we need to adapt PyTorch input\\'s to ONNX format before\n",
        "feeding it to ONNX Runtime. In our example, the input happens to be the\n",
        "same, but it might have more inputs than the original PyTorch model in\n",
        "more complex models.\n",
        "\n",
        "ONNX Runtime requires an additional step that involves converting all\n",
        "PyTorch tensors to Numpy (in CPU) and wrap them on a dictionary with\n",
        "keys being a string with the input name as key and the numpy tensor as\n",
        "the value.\n",
        "\n",
        "Now we can create an *ONNX Runtime Inference Session*, execute the ONNX\n",
        "model with the processed input and get the output. In this tutorial,\n",
        "ONNX Runtime is executed on CPU, but it could be executed on GPU as\n",
        "well.\n"
      ]
    },
    {
      "cell_type": "code",
      "source": [
        "!pip install onnxruntime"
      ],
      "metadata": {
        "colab": {
          "base_uri": "https://localhost:8080/"
        },
        "id": "HUIrkmzINVcd",
        "outputId": "f0a97f87-b8fe-4c31-e8b0-db369e6526d6"
      },
      "execution_count": null,
      "outputs": [
        {
          "output_type": "stream",
          "name": "stdout",
          "text": [
            "Collecting onnxruntime\n",
            "  Downloading onnxruntime-1.17.3-cp310-cp310-manylinux_2_27_x86_64.manylinux_2_28_x86_64.whl (6.8 MB)\n",
            "\u001b[2K     \u001b[90m━━━━━━━━━━━━━━━━━━━━━━━━━━━━━━━━━━━━━━━━\u001b[0m \u001b[32m6.8/6.8 MB\u001b[0m \u001b[31m33.6 MB/s\u001b[0m eta \u001b[36m0:00:00\u001b[0m\n",
            "\u001b[?25hCollecting coloredlogs (from onnxruntime)\n",
            "  Downloading coloredlogs-15.0.1-py2.py3-none-any.whl (46 kB)\n",
            "\u001b[2K     \u001b[90m━━━━━━━━━━━━━━━━━━━━━━━━━━━━━━━━━━━━━━━━\u001b[0m \u001b[32m46.0/46.0 kB\u001b[0m \u001b[31m5.1 MB/s\u001b[0m eta \u001b[36m0:00:00\u001b[0m\n",
            "\u001b[?25hRequirement already satisfied: flatbuffers in /usr/local/lib/python3.10/dist-packages (from onnxruntime) (24.3.25)\n",
            "Requirement already satisfied: numpy>=1.21.6 in /usr/local/lib/python3.10/dist-packages (from onnxruntime) (1.25.2)\n",
            "Requirement already satisfied: packaging in /usr/local/lib/python3.10/dist-packages (from onnxruntime) (24.0)\n",
            "Requirement already satisfied: protobuf in /usr/local/lib/python3.10/dist-packages (from onnxruntime) (3.20.3)\n",
            "Requirement already satisfied: sympy in /usr/local/lib/python3.10/dist-packages (from onnxruntime) (1.12)\n",
            "Collecting humanfriendly>=9.1 (from coloredlogs->onnxruntime)\n",
            "  Downloading humanfriendly-10.0-py2.py3-none-any.whl (86 kB)\n",
            "\u001b[2K     \u001b[90m━━━━━━━━━━━━━━━━━━━━━━━━━━━━━━━━━━━━━━━━\u001b[0m \u001b[32m86.8/86.8 kB\u001b[0m \u001b[31m8.4 MB/s\u001b[0m eta \u001b[36m0:00:00\u001b[0m\n",
            "\u001b[?25hRequirement already satisfied: mpmath>=0.19 in /usr/local/lib/python3.10/dist-packages (from sympy->onnxruntime) (1.3.0)\n",
            "Installing collected packages: humanfriendly, coloredlogs, onnxruntime\n",
            "Successfully installed coloredlogs-15.0.1 humanfriendly-10.0 onnxruntime-1.17.3\n"
          ]
        }
      ]
    },
    {
      "cell_type": "code",
      "execution_count": null,
      "metadata": {
        "id": "68e8HyXuLuF_",
        "colab": {
          "base_uri": "https://localhost:8080/"
        },
        "outputId": "159c0bac-e94b-43db-b532-668751925c45"
      },
      "outputs": [
        {
          "output_type": "stream",
          "name": "stdout",
          "text": [
            "Input length: 1\n",
            "Sample input: (tensor([[[[-0.8430,  1.8652, -2.3392,  ...,  1.7927, -0.9234, -0.1647],\n",
            "          [ 0.7701,  0.2154, -0.3858,  ...,  0.1458, -1.1814,  0.7435],\n",
            "          [-0.6284,  0.2531,  0.7120,  ...,  0.6259,  0.9664, -1.0840],\n",
            "          ...,\n",
            "          [-1.1526,  0.8407, -1.6796,  ...,  0.1014,  0.0833, -0.7113],\n",
            "          [ 1.3297,  0.5836,  0.8741,  ..., -0.2788, -1.1985, -0.1220],\n",
            "          [ 0.2523,  1.6280, -0.6504,  ..., -1.0856,  1.4213,  2.3023]]]]),)\n"
          ]
        }
      ],
      "source": [
        "import onnxruntime\n",
        "\n",
        "onnx_input = onnx_program.adapt_torch_inputs_to_onnx(torch_input)\n",
        "print(f\"Input length: {len(onnx_input)}\")\n",
        "print(f\"Sample input: {onnx_input}\")\n",
        "\n",
        "ort_session = onnxruntime.InferenceSession(\"./my_image_classifier.onnx\", providers=['CPUExecutionProvider'])\n",
        "\n",
        "def to_numpy(tensor):\n",
        "    return tensor.detach().cpu().numpy() if tensor.requires_grad else tensor.cpu().numpy()\n",
        "\n",
        "onnxruntime_input = {k.name: to_numpy(v) for k, v in zip(ort_session.get_inputs(), onnx_input)}\n",
        "\n",
        "onnxruntime_outputs = ort_session.run(None, onnxruntime_input)"
      ]
    },
    {
      "cell_type": "markdown",
      "metadata": {
        "id": "rWaIpHJPLuF_"
      },
      "source": [
        "7. Compare the PyTorch results with the ones from the ONNX Runtime\n",
        "==================================================================\n",
        "\n",
        "The best way to determine whether the exported model is looking good is\n",
        "through numerical evaluation against PyTorch, which is our source of\n",
        "truth.\n",
        "\n",
        "For that, we need to execute the PyTorch model with the same input and\n",
        "compare the results with ONNX Runtime\\'s. Before comparing the results,\n",
        "we need to convert the PyTorch\\'s output to match ONNX\\'s format.\n"
      ]
    },
    {
      "cell_type": "code",
      "execution_count": null,
      "metadata": {
        "id": "ZpKzUt0MLuF_",
        "colab": {
          "base_uri": "https://localhost:8080/"
        },
        "outputId": "3f6d91ad-340b-4a0c-e913-7d6653b61392"
      },
      "outputs": [
        {
          "output_type": "stream",
          "name": "stdout",
          "text": [
            "PyTorch and ONNX Runtime output matched!\n",
            "Output length: 1\n",
            "Sample output: [array([[-0.0665722 , -0.13129151, -0.10676113, -0.03555995,  0.04375118,\n",
            "         0.09094965, -0.08544093,  0.10103946, -0.05702636,  0.05140468]],\n",
            "      dtype=float32)]\n"
          ]
        }
      ],
      "source": [
        "torch_outputs = torch_model(torch_input)\n",
        "torch_outputs = onnx_program.adapt_torch_outputs_to_onnx(torch_outputs)\n",
        "\n",
        "assert len(torch_outputs) == len(onnxruntime_outputs)\n",
        "for torch_output, onnxruntime_output in zip(torch_outputs, onnxruntime_outputs):\n",
        "    torch.testing.assert_close(torch_output, torch.tensor(onnxruntime_output))\n",
        "\n",
        "print(\"PyTorch and ONNX Runtime output matched!\")\n",
        "print(f\"Output length: {len(onnxruntime_outputs)}\")\n",
        "print(f\"Sample output: {onnxruntime_outputs}\")"
      ]
    },
    {
      "cell_type": "markdown",
      "metadata": {
        "id": "Wz53iUmmLuGA"
      },
      "source": [
        "Conclusion\n",
        "==========\n",
        "\n",
        "That is about it! We have successfully exported our PyTorch model to\n",
        "ONNX format, saved the model to disk, viewed it using Netron, executed\n",
        "it with ONNX Runtime and finally compared its numerical results with\n",
        "PyTorch\\'s.\n",
        "\n",
        "Further reading\n",
        "===============\n",
        "\n",
        "The list below refers to tutorials that ranges from basic examples to\n",
        "advanced scenarios, not necessarily in the order they are listed. Feel\n",
        "free to jump directly to specific topics of your interest or sit tight\n",
        "and have fun going through all of them to learn all there is about the\n",
        "ONNX exporter.\n",
        "\n",
        "::: {.toctree hidden=\"\"}\n",
        ":::\n"
      ]
    }
  ],
  "metadata": {
    "kernelspec": {
      "display_name": "Python 3",
      "language": "python",
      "name": "python3"
    },
    "language_info": {
      "codemirror_mode": {
        "name": "ipython",
        "version": 3
      },
      "file_extension": ".py",
      "mimetype": "text/x-python",
      "name": "python",
      "nbconvert_exporter": "python",
      "pygments_lexer": "ipython3",
      "version": "3.10.14"
    },
    "colab": {
      "provenance": []
    }
  },
  "nbformat": 4,
  "nbformat_minor": 0
}