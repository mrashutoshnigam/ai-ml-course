{
  "cells": [
    {
      "cell_type": "code",
      "execution_count": null,
      "metadata": {
        "id": "f72uoNZnHWHX"
      },
      "outputs": [],
      "source": [
        "# For tips on running notebooks in Google Colab, see\n",
        "# https://pytorch.org/tutorials/beginner/colab\n",
        "%matplotlib inline"
      ]
    },
    {
      "cell_type": "markdown",
      "metadata": {
        "id": "bE_xmnV2HWHY"
      },
      "source": [
        "**Introduction to ONNX** \\|\\| [Exporting a PyTorch model to\n",
        "ONNX](export_simple_model_to_onnx_tutorial.html) \\|\\| [Extending the\n",
        "ONNX Registry](onnx_registry_tutorial.html)\n",
        "\n",
        "Introduction to ONNX\n",
        "====================\n",
        "\n",
        "Authors: [Thiago Crepaldi](https://github.com/thiagocrepaldi),\n",
        "\n",
        "[Open Neural Network eXchange (ONNX)](https://onnx.ai/) is an open\n",
        "standard format for representing machine learning models. The\n",
        "`torch.onnx` module provides APIs to capture the computation graph from\n",
        "a native PyTorch `torch.nn.Module`{.interpreted-text role=\"class\"} model\n",
        "and convert it into an [ONNX\n",
        "graph](https://github.com/onnx/onnx/blob/main/docs/IR.md).\n",
        "\n",
        "The exported model can be consumed by any of the many [runtimes that\n",
        "support ONNX](https://onnx.ai/supported-tools.html#deployModel),\n",
        "including Microsoft\\'s [ONNX Runtime](https://www.onnxruntime.ai).\n",
        "\n",
        "<div style=\"background-color: #54c7ec; color: #fff; font-weight: 700; padding-left: 10px; padding-top: 5px; padding-bottom: 5px\"><strong>NOTE:</strong></div>\n",
        "<div style=\"background-color: #f3f4f7; padding-left: 10px; padding-top: 10px; padding-bottom: 10px; padding-right: 10px\">\n",
        "<p>Currently, there are two flavors of ONNX exporter APIs,but this tutorial will focus on the <code>torch.onnx.dynamo_export</code>.</p>\n",
        "</div>\n",
        "\n",
        "The TorchDynamo engine is leveraged to hook into Python\\'s frame\n",
        "evaluation API and dynamically rewrite its bytecode into an [FX\n",
        "graph](https://pytorch.org/docs/stable/fx.html). The resulting FX Graph\n",
        "is polished before it is finally translated into an [ONNX\n",
        "graph](https://github.com/onnx/onnx/blob/main/docs/IR.md).\n",
        "\n",
        "The main advantage of this approach is that the [FX\n",
        "graph](https://pytorch.org/docs/stable/fx.html) is captured using\n",
        "bytecode analysis that preserves the dynamic nature of the model instead\n",
        "of using traditional static tracing techniques.\n",
        "\n",
        "Dependencies\n",
        "------------\n",
        "\n",
        "PyTorch 2.1.0 or newer is required.\n",
        "\n",
        "The ONNX exporter depends on extra Python packages:\n",
        "\n",
        "> -   [ONNX](https://onnx.ai) standard library\n",
        "> -   [ONNX Script](https://onnxscript.ai) library that enables\n",
        ">     developers to author ONNX operators, functions and models using a\n",
        ">     subset of Python in an expressive, and yet simple fashion.\n",
        "\n",
        "They can be installed through [pip](https://pypi.org/project/pip/):\n",
        "\n",
        "``` {.sourceCode .bash}\n",
        "pip install --upgrade onnx onnxscript\n",
        "```\n",
        "\n",
        "To validate the installation, run the following commands:\n",
        "\n",
        "``` {.sourceCode .python}\n",
        "import torch\n",
        "print(torch.__version__)\n",
        "\n",
        "import onnxscript\n",
        "print(onnxscript.__version__)\n",
        "\n",
        "from onnxscript import opset18  # opset 18 is the latest (and only) supported version for now\n",
        "\n",
        "import onnxruntime\n",
        "print(onnxruntime.__version__)\n",
        "```\n",
        "\n",
        "Each [import]{.title-ref} must succeed without any errors and the\n",
        "library versions must be printed out.\n",
        "\n",
        "Further reading\n",
        "---------------\n",
        "\n",
        "The list below refers to tutorials that ranges from basic examples to\n",
        "advanced scenarios, not necessarily in the order they are listed. Feel\n",
        "free to jump directly to specific topics of your interest or sit tight\n",
        "and have fun going through all of them to learn all there is about the\n",
        "ONNX exporter.\n",
        "\n",
        "::: {.toctree hidden=\"\"}\n",
        ":::\n"
      ]
    },
    {
      "cell_type": "code",
      "source": [],
      "metadata": {
        "id": "TADUXj_bBtVk"
      },
      "execution_count": null,
      "outputs": []
    }
  ],
  "metadata": {
    "kernelspec": {
      "display_name": "Python 3",
      "language": "python",
      "name": "python3"
    },
    "language_info": {
      "codemirror_mode": {
        "name": "ipython",
        "version": 3
      },
      "file_extension": ".py",
      "mimetype": "text/x-python",
      "name": "python",
      "nbconvert_exporter": "python",
      "pygments_lexer": "ipython3",
      "version": "3.10.14"
    },
    "colab": {
      "provenance": []
    }
  },
  "nbformat": 4,
  "nbformat_minor": 0
}