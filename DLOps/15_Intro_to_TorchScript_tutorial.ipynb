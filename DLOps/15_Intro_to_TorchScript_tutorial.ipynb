{
  "cells": [
    {
      "cell_type": "code",
      "execution_count": null,
      "metadata": {
        "id": "y7CdCVXfxtKn"
      },
      "outputs": [],
      "source": [
        "# For tips on running notebooks in Google Colab, see\n",
        "# https://pytorch.org/tutorials/beginner/colab\n",
        "%matplotlib inline"
      ]
    },
    {
      "cell_type": "markdown",
      "metadata": {
        "id": "uAmu0nVWxtKq"
      },
      "source": [
        "Introduction to TorchScript\n",
        "===========================\n",
        "\n",
        "**Authors:** James Reed (<jamesreed@fb.com>), Michael Suo\n",
        "(<suo@fb.com>), rev2\n",
        "\n",
        "This tutorial is an introduction to TorchScript, an intermediate\n",
        "representation of a PyTorch model (subclass of `nn.Module`) that can\n",
        "then be run in a high-performance environment such as C++.\n",
        "\n",
        "In this tutorial we will cover:\n",
        "\n",
        "1.  The basics of model authoring in PyTorch, including:\n",
        "\n",
        "-   Modules\n",
        "-   Defining `forward` functions\n",
        "-   Composing modules into a hierarchy of modules\n",
        "\n",
        "2.  Specific methods for converting PyTorch modules to TorchScript, our\n",
        "    high-performance deployment runtime\n",
        "\n",
        "-   Tracing an existing module\n",
        "-   Using scripting to directly compile a module\n",
        "-   How to compose both approaches\n",
        "-   Saving and loading TorchScript modules\n",
        "\n",
        "We hope that after you complete this tutorial, you will proceed to go\n",
        "through [the follow-on\n",
        "tutorial](https://pytorch.org/tutorials/advanced/cpp_export.html) which\n",
        "will walk you through an example of actually calling a TorchScript model\n",
        "from C++.\n"
      ]
    },
    {
      "cell_type": "code",
      "execution_count": null,
      "metadata": {
        "id": "xD-1Ho5jxtKr",
        "outputId": "bbfbd205-18d4-4028-ffd1-108c4e0875b2",
        "colab": {
          "base_uri": "https://localhost:8080/"
        }
      },
      "outputs": [
        {
          "output_type": "stream",
          "name": "stdout",
          "text": [
            "2.6.0+cu124\n"
          ]
        },
        {
          "output_type": "execute_result",
          "data": {
            "text/plain": [
              "<torch._C.Generator at 0x799d185a52b0>"
            ]
          },
          "metadata": {},
          "execution_count": 1
        }
      ],
      "source": [
        "import torch  # This is all you need to use both PyTorch and TorchScript!\n",
        "print(torch.__version__)\n",
        "torch.manual_seed(191009)  # set the seed for reproducibility"
      ]
    },
    {
      "cell_type": "markdown",
      "metadata": {
        "id": "z4VLs51XxtKs"
      },
      "source": [
        "Basics of PyTorch Model Authoring\n",
        "=================================\n",
        "\n",
        "Let's start out by defining a simple `Module`. A `Module` is the basic\n",
        "unit of composition in PyTorch. It contains:\n",
        "\n",
        "1.  A constructor, which prepares the module for invocation\n",
        "2.  A set of `Parameters` and sub-`Modules`. These are initialized by\n",
        "    the constructor and can be used by the module during invocation.\n",
        "3.  A `forward` function. This is the code that is run when the module\n",
        "    is invoked.\n",
        "\n",
        "Let's examine a small example:\n"
      ]
    },
    {
      "cell_type": "code",
      "execution_count": null,
      "metadata": {
        "id": "kL6ieF2GxtKu",
        "outputId": "7c2da7a9-5f8e-4a2e-edf7-0939311e6ce5",
        "colab": {
          "base_uri": "https://localhost:8080/"
        }
      },
      "outputs": [
        {
          "output_type": "stream",
          "name": "stdout",
          "text": [
            "MyCell()\n",
            "(tensor([[0.1754, 0.9011, 0.6698, 0.7964],\n",
            "        [0.5757, 0.6397, 0.7782, 0.7050],\n",
            "        [0.7704, 0.7398, 0.8342, 0.8204]]), tensor([[0.1754, 0.9011, 0.6698, 0.7964],\n",
            "        [0.5757, 0.6397, 0.7782, 0.7050],\n",
            "        [0.7704, 0.7398, 0.8342, 0.8204]]))\n"
          ]
        }
      ],
      "source": [
        "class MyCell(torch.nn.Module):\n",
        "    def __init__(self):\n",
        "        super(MyCell, self).__init__()\n",
        "\n",
        "    def forward(self, x, h):\n",
        "        new_h = torch.tanh(x + h)\n",
        "        return new_h, new_h\n",
        "\n",
        "my_cell = MyCell()\n",
        "x = torch.rand(3, 4)\n",
        "h = torch.rand(3, 4)\n",
        "print(my_cell)\n",
        "print(my_cell(x, h))"
      ]
    },
    {
      "cell_type": "markdown",
      "metadata": {
        "id": "f7bGx95ZxtKv"
      },
      "source": [
        "So we've:\n",
        "\n",
        "1.  Created a class that subclasses `torch.nn.Module`.\n",
        "2.  Defined a constructor. The constructor doesn't do much, just calls\n",
        "    the constructor for `super`.\n",
        "3.  Defined a `forward` function, which takes two inputs and returns two\n",
        "    outputs. The actual contents of the `forward` function are not\n",
        "    really important, but it's sort of a fake [RNN\n",
        "    cell](https://colah.github.io/posts/2015-08-Understanding-LSTMs/)--that\n",
        "    is--it's a function that is applied on a loop.\n",
        "\n",
        "We instantiated the module, and made `x` and `h`, which are just 3x4\n",
        "matrices of random values. Then we invoked the cell with\n",
        "`my_cell(x, h)`. This in turn calls our `forward` function.\n",
        "\n",
        "Let's do something a little more interesting:\n"
      ]
    },
    {
      "cell_type": "code",
      "execution_count": null,
      "metadata": {
        "id": "4KN_iQpuxtKw",
        "outputId": "b8045313-8fa9-466d-c604-93199aeff16e",
        "colab": {
          "base_uri": "https://localhost:8080/"
        }
      },
      "outputs": [
        {
          "output_type": "stream",
          "name": "stdout",
          "text": [
            "MyCell(\n",
            "  (linear): Linear(in_features=4, out_features=4, bias=True)\n",
            ")\n",
            "(tensor([[ 0.8573,  0.6190,  0.5774,  0.7869],\n",
            "        [ 0.3326,  0.0530,  0.0702,  0.8114],\n",
            "        [ 0.7818, -0.0506,  0.4039,  0.7967]], grad_fn=<TanhBackward0>), tensor([[ 0.8573,  0.6190,  0.5774,  0.7869],\n",
            "        [ 0.3326,  0.0530,  0.0702,  0.8114],\n",
            "        [ 0.7818, -0.0506,  0.4039,  0.7967]], grad_fn=<TanhBackward0>))\n"
          ]
        }
      ],
      "source": [
        "class MyCell(torch.nn.Module):\n",
        "    def __init__(self):\n",
        "        super(MyCell, self).__init__()\n",
        "        self.linear = torch.nn.Linear(4, 4)\n",
        "\n",
        "    def forward(self, x, h):\n",
        "        new_h = torch.tanh(self.linear(x) + h)\n",
        "        return new_h, new_h\n",
        "\n",
        "my_cell = MyCell()\n",
        "print(my_cell)\n",
        "print(my_cell(x, h))"
      ]
    },
    {
      "cell_type": "markdown",
      "metadata": {
        "id": "4l9B56qzxtKw"
      },
      "source": [
        "We've redefined our module `MyCell`, but this time we've added a\n",
        "`self.linear` attribute, and we invoke `self.linear` in the forward\n",
        "function.\n",
        "\n",
        "What exactly is happening here? `torch.nn.Linear` is a `Module` from the\n",
        "PyTorch standard library. Just like `MyCell`, it can be invoked using\n",
        "the call syntax. We are building a hierarchy of `Module`s.\n",
        "\n",
        "`print` on a `Module` will give a visual representation of the\n",
        "`Module`'s subclass hierarchy. In our example, we can see our `Linear`\n",
        "subclass and its parameters.\n",
        "\n",
        "By composing `Module`s in this way, we can succinctly and readably\n",
        "author models with reusable components.\n",
        "\n",
        "You may have noticed `grad_fn` on the outputs. This is a detail of\n",
        "PyTorch's method of automatic differentiation, called\n",
        "[autograd](https://pytorch.org/tutorials/beginner/blitz/autograd_tutorial.html).\n",
        "In short, this system allows us to compute derivatives through\n",
        "potentially complex programs. The design allows for a massive amount of\n",
        "flexibility in model authoring.\n",
        "\n",
        "Now let's examine said flexibility:\n"
      ]
    },
    {
      "cell_type": "code",
      "execution_count": null,
      "metadata": {
        "id": "xGbJvwfUxtKw",
        "outputId": "fac76ba5-1f8c-4816-834e-acdc47a9610a",
        "colab": {
          "base_uri": "https://localhost:8080/"
        }
      },
      "outputs": [
        {
          "output_type": "stream",
          "name": "stdout",
          "text": [
            "MyCell(\n",
            "  (dg): MyDecisionGate()\n",
            "  (linear): Linear(in_features=4, out_features=4, bias=True)\n",
            ")\n",
            "(tensor([[ 0.8346,  0.5931,  0.2097,  0.8232],\n",
            "        [ 0.2340, -0.1254,  0.2679,  0.8064],\n",
            "        [ 0.6231,  0.1494, -0.3110,  0.7865]], grad_fn=<TanhBackward0>), tensor([[ 0.8346,  0.5931,  0.2097,  0.8232],\n",
            "        [ 0.2340, -0.1254,  0.2679,  0.8064],\n",
            "        [ 0.6231,  0.1494, -0.3110,  0.7865]], grad_fn=<TanhBackward0>))\n"
          ]
        }
      ],
      "source": [
        "class MyDecisionGate(torch.nn.Module):\n",
        "    def forward(self, x):\n",
        "        if x.sum() > 0:\n",
        "            return x\n",
        "        else:\n",
        "            return -x\n",
        "\n",
        "class MyCell(torch.nn.Module):\n",
        "    def __init__(self):\n",
        "        super(MyCell, self).__init__()\n",
        "        self.dg = MyDecisionGate()\n",
        "        self.linear = torch.nn.Linear(4, 4)\n",
        "\n",
        "    def forward(self, x, h):\n",
        "        new_h = torch.tanh(self.dg(self.linear(x)) + h)\n",
        "        return new_h, new_h\n",
        "\n",
        "my_cell = MyCell()\n",
        "print(my_cell)\n",
        "print(my_cell(x, h))"
      ]
    },
    {
      "cell_type": "markdown",
      "metadata": {
        "id": "lbVj6rrtxtKx"
      },
      "source": [
        "We've once again redefined our `MyCell` class, but here we've defined\n",
        "`MyDecisionGate`. This module utilizes **control flow**. Control flow\n",
        "consists of things like loops and `if`-statements.\n",
        "\n",
        "Many frameworks take the approach of computing symbolic derivatives\n",
        "given a full program representation. However, in PyTorch, we use a\n",
        "gradient tape. We record operations as they occur, and replay them\n",
        "backwards in computing derivatives. In this way, the framework does not\n",
        "have to explicitly define derivatives for all constructs in the\n",
        "language.\n",
        "\n",
        "![How autograd\n",
        "works](https://github.com/pytorch/pytorch/raw/main/docs/source/_static/img/dynamic_graph.gif)\n"
      ]
    },
    {
      "cell_type": "markdown",
      "metadata": {
        "id": "1BHqySvHxtKy"
      },
      "source": [
        "Basics of TorchScript\n",
        "=====================\n",
        "\n",
        "Now let's take our running example and see how we can apply TorchScript.\n",
        "\n",
        "In short, TorchScript provides tools to capture the definition of your\n",
        "model, even in light of the flexible and dynamic nature of PyTorch.\n",
        "Let's begin by examining what we call **tracing**.\n",
        "\n",
        "Tracing `Modules`\n",
        "-----------------\n"
      ]
    },
    {
      "cell_type": "code",
      "execution_count": null,
      "metadata": {
        "id": "a0GXz08JxtKz",
        "outputId": "c2366d8b-4e87-46fa-87f2-427bdfe9af55",
        "colab": {
          "base_uri": "https://localhost:8080/"
        }
      },
      "outputs": [
        {
          "output_type": "stream",
          "name": "stdout",
          "text": [
            "MyCell(\n",
            "  original_name=MyCell\n",
            "  (linear): Linear(original_name=Linear)\n",
            ")\n"
          ]
        },
        {
          "output_type": "execute_result",
          "data": {
            "text/plain": [
              "(tensor([[ 0.4021,  0.7634,  0.6591, -0.3496],\n",
              "         [ 0.7640,  0.6614,  0.2497, -0.1470],\n",
              "         [ 0.4033,  0.2158,  0.3466, -0.4910]], grad_fn=<TanhBackward0>),\n",
              " tensor([[ 0.4021,  0.7634,  0.6591, -0.3496],\n",
              "         [ 0.7640,  0.6614,  0.2497, -0.1470],\n",
              "         [ 0.4033,  0.2158,  0.3466, -0.4910]], grad_fn=<TanhBackward0>))"
            ]
          },
          "metadata": {},
          "execution_count": 6
        }
      ],
      "source": [
        "class MyCell(torch.nn.Module):\n",
        "    def __init__(self):\n",
        "        super(MyCell, self).__init__()\n",
        "        self.linear = torch.nn.Linear(4, 4)\n",
        "\n",
        "    def forward(self, x, h):\n",
        "        new_h = torch.tanh(self.linear(x) + h)\n",
        "        return new_h, new_h\n",
        "\n",
        "my_cell = MyCell()\n",
        "x, h = torch.rand(3, 4), torch.rand(3, 4)\n",
        "traced_cell = torch.jit.trace(my_cell, (x, h))\n",
        "print(traced_cell)\n",
        "traced_cell(x, h)"
      ]
    },
    {
      "cell_type": "markdown",
      "metadata": {
        "id": "sASyPqUdxtK0"
      },
      "source": [
        "We've rewinded a bit and taken the second version of our `MyCell` class.\n",
        "As before, we've instantiated it, but this time, we've called\n",
        "`torch.jit.trace`, passed in the `Module`, and passed in *example\n",
        "inputs* the network might see.\n",
        "\n",
        "What exactly has this done? It has invoked the `Module`, recorded the\n",
        "operations that occurred when the `Module` was run, and created an\n",
        "instance of `torch.jit.ScriptModule` (of which `TracedModule` is an\n",
        "instance)\n",
        "\n",
        "TorchScript records its definitions in an Intermediate Representation\n",
        "(or IR), commonly referred to in Deep learning as a *graph*. We can\n",
        "examine the graph with the `.graph` property:\n"
      ]
    },
    {
      "cell_type": "code",
      "execution_count": null,
      "metadata": {
        "id": "aFVNqStGxtK0",
        "outputId": "b99687ed-d7d0-4ee2-f572-a229a243523f",
        "colab": {
          "base_uri": "https://localhost:8080/"
        }
      },
      "outputs": [
        {
          "output_type": "stream",
          "name": "stdout",
          "text": [
            "graph(%self.1 : __torch__.MyCell,\n",
            "      %x : Float(3, 4, strides=[4, 1], requires_grad=0, device=cpu),\n",
            "      %h : Float(3, 4, strides=[4, 1], requires_grad=0, device=cpu)):\n",
            "  %linear : __torch__.torch.nn.modules.linear.Linear = prim::GetAttr[name=\"linear\"](%self.1)\n",
            "  %20 : Tensor = prim::CallMethod[name=\"forward\"](%linear, %x)\n",
            "  %11 : int = prim::Constant[value=1]() # <ipython-input-6-1f6e08af67d0>:7:0\n",
            "  %12 : Float(3, 4, strides=[4, 1], requires_grad=1, device=cpu) = aten::add(%20, %h, %11) # <ipython-input-6-1f6e08af67d0>:7:0\n",
            "  %13 : Float(3, 4, strides=[4, 1], requires_grad=1, device=cpu) = aten::tanh(%12) # <ipython-input-6-1f6e08af67d0>:7:0\n",
            "  %14 : (Float(3, 4, strides=[4, 1], requires_grad=1, device=cpu), Float(3, 4, strides=[4, 1], requires_grad=1, device=cpu)) = prim::TupleConstruct(%13, %13)\n",
            "  return (%14)\n",
            "\n"
          ]
        }
      ],
      "source": [
        "print(traced_cell.graph)"
      ]
    },
    {
      "cell_type": "markdown",
      "metadata": {
        "id": "ItsX6dkixtK2"
      },
      "source": [
        "However, this is a very low-level representation and most of the\n",
        "information contained in the graph is not useful for end users. Instead,\n",
        "we can use the `.code` property to give a Python-syntax interpretation\n",
        "of the code:\n"
      ]
    },
    {
      "cell_type": "code",
      "execution_count": null,
      "metadata": {
        "id": "_UJvZtCwxtK2",
        "outputId": "4254a518-c847-4f52-9f1e-100645107bcf",
        "colab": {
          "base_uri": "https://localhost:8080/"
        }
      },
      "outputs": [
        {
          "output_type": "stream",
          "name": "stdout",
          "text": [
            "def forward(self,\n",
            "    x: Tensor,\n",
            "    h: Tensor) -> Tuple[Tensor, Tensor]:\n",
            "  linear = self.linear\n",
            "  _0 = torch.tanh(torch.add((linear).forward(x, ), h))\n",
            "  return (_0, _0)\n",
            "\n"
          ]
        }
      ],
      "source": [
        "print(traced_cell.code)"
      ]
    },
    {
      "cell_type": "markdown",
      "metadata": {
        "id": "DZKg-A1HxtK3"
      },
      "source": [
        "So **why** did we do all this? There are several reasons:\n",
        "\n",
        "1.  TorchScript code can be invoked in its own interpreter, which is\n",
        "    basically a restricted Python interpreter.\n",
        "2.  This format allows us to save the whole model to disk and load it\n",
        "    into another environment, such as in a server written in a language\n",
        "    other than Python\n",
        "3.  TorchScript gives us a representation in which we can do compiler\n",
        "    optimizations on the code to provide more efficient execution\n",
        "4.  TorchScript allows us to interface with many backend/device runtimes\n",
        "    that require a broader view of the program than individual\n",
        "    operators.\n",
        "\n",
        "We can see that invoking `traced_cell` produces the same results as the\n",
        "Python module:\n"
      ]
    },
    {
      "cell_type": "code",
      "execution_count": null,
      "metadata": {
        "id": "g2I4lo15xtK4",
        "colab": {
          "base_uri": "https://localhost:8080/"
        },
        "outputId": "ae9c8ec4-5fa5-40a1-fc3c-2a341a7a037b"
      },
      "outputs": [
        {
          "output_type": "stream",
          "name": "stdout",
          "text": [
            "(tensor([[-0.2541,  0.2460,  0.2297,  0.1014],\n",
            "        [-0.2329, -0.2911,  0.5641,  0.5015],\n",
            "        [ 0.1688,  0.2252,  0.7251,  0.2530]], grad_fn=<TanhBackward0>), tensor([[-0.2541,  0.2460,  0.2297,  0.1014],\n",
            "        [-0.2329, -0.2911,  0.5641,  0.5015],\n",
            "        [ 0.1688,  0.2252,  0.7251,  0.2530]], grad_fn=<TanhBackward0>))\n",
            "(tensor([[-0.2541,  0.2460,  0.2297,  0.1014],\n",
            "        [-0.2329, -0.2911,  0.5641,  0.5015],\n",
            "        [ 0.1688,  0.2252,  0.7251,  0.2530]], grad_fn=<TanhBackward0>), tensor([[-0.2541,  0.2460,  0.2297,  0.1014],\n",
            "        [-0.2329, -0.2911,  0.5641,  0.5015],\n",
            "        [ 0.1688,  0.2252,  0.7251,  0.2530]], grad_fn=<TanhBackward0>))\n"
          ]
        }
      ],
      "source": [
        "print(my_cell(x, h))\n",
        "print(traced_cell(x, h))"
      ]
    },
    {
      "cell_type": "markdown",
      "metadata": {
        "id": "bDyPeuthxtK6"
      },
      "source": [
        "Using Scripting to Convert Modules\n",
        "==================================\n",
        "\n",
        "There's a reason we used version two of our module, and not the one with\n",
        "the control-flow-laden submodule. Let's examine that now:\n"
      ]
    },
    {
      "cell_type": "code",
      "execution_count": null,
      "metadata": {
        "id": "uv8XNeB3xtK6",
        "colab": {
          "base_uri": "https://localhost:8080/"
        },
        "outputId": "0cba9c9c-84a1-4650-e495-d69286d7331a"
      },
      "outputs": [
        {
          "output_type": "stream",
          "name": "stdout",
          "text": [
            "(tensor([[0.6466, 0.4726, 0.7221, 0.6473],\n",
            "        [0.8441, 0.6418, 0.6092, 0.6138],\n",
            "        [0.7140, 0.5269, 0.8684, 0.5116]], grad_fn=<TanhBackward0>), tensor([[0.6466, 0.4726, 0.7221, 0.6473],\n",
            "        [0.8441, 0.6418, 0.6092, 0.6138],\n",
            "        [0.7140, 0.5269, 0.8684, 0.5116]], grad_fn=<TanhBackward0>))\n",
            "def forward(self,\n",
            "    argument_1: Tensor) -> Tensor:\n",
            "  return torch.neg(argument_1)\n",
            "\n",
            "def forward(self,\n",
            "    x: Tensor,\n",
            "    h: Tensor) -> Tuple[Tensor, Tensor]:\n",
            "  dg = self.dg\n",
            "  linear = self.linear\n",
            "  _0 = torch.add((dg).forward((linear).forward(x, ), ), h)\n",
            "  _1 = torch.tanh(_0)\n",
            "  return (_1, _1)\n",
            "\n"
          ]
        },
        {
          "output_type": "stream",
          "name": "stderr",
          "text": [
            "<ipython-input-7-0c5416d9c01a>:3: TracerWarning: Converting a tensor to a Python boolean might cause the trace to be incorrect. We can't record the data flow of Python values, so this value will be treated as a constant in the future. This means that the trace might not generalize to other inputs!\n",
            "  if x.sum() > 0:\n"
          ]
        }
      ],
      "source": [
        "class MyDecisionGate(torch.nn.Module):\n",
        "    def forward(self, x):\n",
        "        if x.sum() > 0:\n",
        "            return x\n",
        "        else:\n",
        "            return -x\n",
        "\n",
        "class MyCell(torch.nn.Module):\n",
        "    def __init__(self, dg):\n",
        "        super(MyCell, self).__init__()\n",
        "        self.dg = dg\n",
        "        self.linear = torch.nn.Linear(4, 4)\n",
        "\n",
        "    def forward(self, x, h):\n",
        "        new_h = torch.tanh(self.dg(self.linear(x)) + h)\n",
        "        return new_h, new_h\n",
        "\n",
        "my_cell = MyCell(MyDecisionGate())\n",
        "traced_cell = torch.jit.trace(my_cell, (x, h))\n",
        "print(traced_cell(x, h))\n",
        "\n",
        "print(traced_cell.dg.code)\n",
        "print(traced_cell.code)"
      ]
    },
    {
      "cell_type": "markdown",
      "metadata": {
        "id": "uPNJ3lwExtK7"
      },
      "source": [
        "Looking at the `.code` output, we can see that the `if-else` branch is\n",
        "nowhere to be found! Why? Tracing does exactly what we said it would:\n",
        "run the code, record the operations *that happen* and construct a\n",
        "`ScriptModule` that does exactly that. Unfortunately, things like\n",
        "control flow are erased.\n",
        "\n",
        "How can we faithfully represent this module in TorchScript? We provide a\n",
        "**script compiler**, which does direct analysis of your Python source\n",
        "code to transform it into TorchScript. Let's convert `MyDecisionGate`\n",
        "using the script compiler:\n"
      ]
    },
    {
      "cell_type": "code",
      "execution_count": null,
      "metadata": {
        "id": "UknO0qi2xtK7",
        "colab": {
          "base_uri": "https://localhost:8080/"
        },
        "outputId": "bbd50e77-be92-4525-ec42-81601cbee9f6"
      },
      "outputs": [
        {
          "output_type": "stream",
          "name": "stdout",
          "text": [
            "def forward(self,\n",
            "    x: Tensor) -> Tensor:\n",
            "  if bool(torch.gt(torch.sum(x), 0)):\n",
            "    _0 = x\n",
            "  else:\n",
            "    _0 = torch.neg(x)\n",
            "  return _0\n",
            "\n",
            "def forward(self,\n",
            "    x: Tensor,\n",
            "    h: Tensor) -> Tuple[Tensor, Tensor]:\n",
            "  dg = self.dg\n",
            "  linear = self.linear\n",
            "  _0 = torch.add((dg).forward((linear).forward(x, ), ), h)\n",
            "  new_h = torch.tanh(_0)\n",
            "  return (new_h, new_h)\n",
            "\n"
          ]
        }
      ],
      "source": [
        "scripted_gate = torch.jit.script(MyDecisionGate())\n",
        "\n",
        "my_cell = MyCell(scripted_gate)\n",
        "scripted_cell = torch.jit.script(my_cell)\n",
        "\n",
        "print(scripted_gate.code)\n",
        "print(scripted_cell.code)"
      ]
    },
    {
      "cell_type": "markdown",
      "metadata": {
        "id": "1tdzRXTrxtK8"
      },
      "source": [
        "Hooray! We've now faithfully captured the behavior of our program in\n",
        "TorchScript. Let's now try running the program:\n"
      ]
    },
    {
      "cell_type": "code",
      "execution_count": null,
      "metadata": {
        "id": "ALrc3ayRxtK8",
        "colab": {
          "base_uri": "https://localhost:8080/"
        },
        "outputId": "08033537-9c34-43d1-e819-47b3fbe58b83"
      },
      "outputs": [
        {
          "output_type": "stream",
          "name": "stdout",
          "text": [
            "(tensor([[ 0.3910,  0.2171,  0.8046,  0.7516],\n",
            "        [-0.5899, -0.3595,  0.9160,  0.2765],\n",
            "        [-0.0163,  0.4213,  0.7893,  0.4106]], grad_fn=<TanhBackward0>), tensor([[ 0.3910,  0.2171,  0.8046,  0.7516],\n",
            "        [-0.5899, -0.3595,  0.9160,  0.2765],\n",
            "        [-0.0163,  0.4213,  0.7893,  0.4106]], grad_fn=<TanhBackward0>))\n"
          ]
        }
      ],
      "source": [
        "# New inputs\n",
        "x, h = torch.rand(3, 4), torch.rand(3, 4)\n",
        "print(scripted_cell(x, h))"
      ]
    },
    {
      "cell_type": "markdown",
      "metadata": {
        "id": "Dkva6jrzxtK8"
      },
      "source": [
        "Mixing Scripting and Tracing\n",
        "============================\n",
        "\n",
        "Some situations call for using tracing rather than scripting (e.g. a\n",
        "module has many architectural decisions that are made based on constant\n",
        "Python values that we would like to not appear in TorchScript). In this\n",
        "case, scripting can be composed with tracing: `torch.jit.script` will\n",
        "inline the code for a traced module, and tracing will inline the code\n",
        "for a scripted module.\n",
        "\n",
        "An example of the first case:\n"
      ]
    },
    {
      "cell_type": "code",
      "execution_count": null,
      "metadata": {
        "id": "hcixS5adxtK8",
        "colab": {
          "base_uri": "https://localhost:8080/"
        },
        "outputId": "4d262e74-614c-4a72-8ae2-c621d2d3a112"
      },
      "outputs": [
        {
          "output_type": "stream",
          "name": "stdout",
          "text": [
            "def forward(self,\n",
            "    xs: Tensor) -> Tuple[Tensor, Tensor]:\n",
            "  h = torch.zeros([3, 4])\n",
            "  y = torch.zeros([3, 4])\n",
            "  y0 = y\n",
            "  h0 = h\n",
            "  for i in range(torch.size(xs, 0)):\n",
            "    cell = self.cell\n",
            "    _0 = (cell).forward(torch.select(xs, 0, i), h0, )\n",
            "    y1, h1, = _0\n",
            "    y0, h0 = y1, h1\n",
            "  return (y0, h0)\n",
            "\n"
          ]
        }
      ],
      "source": [
        "class MyRNNLoop(torch.nn.Module):\n",
        "    def __init__(self):\n",
        "        super(MyRNNLoop, self).__init__()\n",
        "        self.cell = torch.jit.trace(MyCell(scripted_gate), (x, h))\n",
        "\n",
        "    def forward(self, xs):\n",
        "        h, y = torch.zeros(3, 4), torch.zeros(3, 4)\n",
        "        for i in range(xs.size(0)):\n",
        "            y, h = self.cell(xs[i], h)\n",
        "        return y, h\n",
        "\n",
        "rnn_loop = torch.jit.script(MyRNNLoop())\n",
        "print(rnn_loop.code)"
      ]
    },
    {
      "cell_type": "markdown",
      "metadata": {
        "id": "ZWxwqwbsxtK9"
      },
      "source": [
        "And an example of the second case:\n"
      ]
    },
    {
      "cell_type": "code",
      "execution_count": null,
      "metadata": {
        "id": "_R3nPJk7xtK-",
        "colab": {
          "base_uri": "https://localhost:8080/"
        },
        "outputId": "b5ff69d3-7f26-44ff-bdab-c0bd20578877"
      },
      "outputs": [
        {
          "output_type": "stream",
          "name": "stdout",
          "text": [
            "def forward(self,\n",
            "    xs: Tensor) -> Tensor:\n",
            "  loop = self.loop\n",
            "  _0, y, = (loop).forward(xs, )\n",
            "  return torch.relu(y)\n",
            "\n"
          ]
        }
      ],
      "source": [
        "class WrapRNN(torch.nn.Module):\n",
        "    def __init__(self):\n",
        "        super(WrapRNN, self).__init__()\n",
        "        self.loop = torch.jit.script(MyRNNLoop())\n",
        "\n",
        "    def forward(self, xs):\n",
        "        y, h = self.loop(xs)\n",
        "        return torch.relu(y)\n",
        "\n",
        "traced = torch.jit.trace(WrapRNN(), (torch.rand(10, 3, 4)))\n",
        "print(traced.code)"
      ]
    },
    {
      "cell_type": "markdown",
      "metadata": {
        "id": "hCM9-8XqxtK-"
      },
      "source": [
        "This way, scripting and tracing can be used when the situation calls for\n",
        "each of them and used together.\n",
        "\n",
        "Saving and Loading models\n",
        "=========================\n",
        "\n",
        "We provide APIs to save and load TorchScript modules to/from disk in an\n",
        "archive format. This format includes code, parameters, attributes, and\n",
        "debug information, meaning that the archive is a freestanding\n",
        "representation of the model that can be loaded in an entirely separate\n",
        "process. Let's save and load our wrapped RNN module:\n"
      ]
    },
    {
      "cell_type": "code",
      "execution_count": null,
      "metadata": {
        "id": "Ez6CFtfSxtK-",
        "colab": {
          "base_uri": "https://localhost:8080/",
          "height": 211
        },
        "outputId": "81e13e89-9af7-4615-f660-bde06687c7ea"
      },
      "outputs": [
        {
          "output_type": "error",
          "ename": "NameError",
          "evalue": "name 'traced' is not defined",
          "traceback": [
            "\u001b[0;31m---------------------------------------------------------------------------\u001b[0m",
            "\u001b[0;31mNameError\u001b[0m                                 Traceback (most recent call last)",
            "\u001b[0;32m<ipython-input-8-1984ea4464c0>\u001b[0m in \u001b[0;36m<cell line: 0>\u001b[0;34m()\u001b[0m\n\u001b[0;32m----> 1\u001b[0;31m \u001b[0mtraced\u001b[0m\u001b[0;34m.\u001b[0m\u001b[0msave\u001b[0m\u001b[0;34m(\u001b[0m\u001b[0;34m'wrapped_rnn.pt'\u001b[0m\u001b[0;34m)\u001b[0m\u001b[0;34m\u001b[0m\u001b[0;34m\u001b[0m\u001b[0m\n\u001b[0m\u001b[1;32m      2\u001b[0m \u001b[0;34m\u001b[0m\u001b[0m\n\u001b[1;32m      3\u001b[0m \u001b[0mloaded\u001b[0m \u001b[0;34m=\u001b[0m \u001b[0mtorch\u001b[0m\u001b[0;34m.\u001b[0m\u001b[0mjit\u001b[0m\u001b[0;34m.\u001b[0m\u001b[0mload\u001b[0m\u001b[0;34m(\u001b[0m\u001b[0;34m'wrapped_rnn.pt'\u001b[0m\u001b[0;34m)\u001b[0m\u001b[0;34m\u001b[0m\u001b[0;34m\u001b[0m\u001b[0m\n\u001b[1;32m      4\u001b[0m \u001b[0;34m\u001b[0m\u001b[0m\n\u001b[1;32m      5\u001b[0m \u001b[0mprint\u001b[0m\u001b[0;34m(\u001b[0m\u001b[0mloaded\u001b[0m\u001b[0;34m)\u001b[0m\u001b[0;34m\u001b[0m\u001b[0;34m\u001b[0m\u001b[0m\n",
            "\u001b[0;31mNameError\u001b[0m: name 'traced' is not defined"
          ]
        }
      ],
      "source": [
        "traced.save('wrapped_rnn.pt')\n",
        "\n",
        "loaded = torch.jit.load('wrapped_rnn.pt')\n",
        "\n",
        "print(loaded)\n",
        "print(loaded.code)"
      ]
    },
    {
      "cell_type": "markdown",
      "metadata": {
        "id": "hEFk4wkmxtK-"
      },
      "source": [
        "As you can see, serialization preserves the module hierarchy and the\n",
        "code we've been examining throughout. The model can also be loaded, for\n",
        "example, [into\n",
        "C++](https://pytorch.org/tutorials/advanced/cpp_export.html) for\n",
        "python-free execution.\n"
      ]
    },
    {
      "cell_type": "markdown",
      "source": [
        "### Let's see how we can load the model in C++\n",
        "\n",
        "https://pytorch.org/tutorials/advanced/cpp_export.html"
      ],
      "metadata": {
        "id": "mgu_-DVUHzPH"
      }
    },
    {
      "cell_type": "markdown",
      "source": [
        "Further Reading\n",
        "\n",
        "We've completed our tutorial! For a more involved demonstration, check\n",
        "out the NeurIPS demo for converting machine translation models using\n",
        "TorchScript:\n",
        "<https://colab.research.google.com/drive/1HiICg6jRkBnr5hvK2-VnMi88Vi9pUzEJ>"
      ],
      "metadata": {
        "id": "qOiclTa-Hr6D"
      }
    }
  ],
  "metadata": {
    "kernelspec": {
      "display_name": "Python 3",
      "language": "python",
      "name": "python3"
    },
    "language_info": {
      "codemirror_mode": {
        "name": "ipython",
        "version": 3
      },
      "file_extension": ".py",
      "mimetype": "text/x-python",
      "name": "python",
      "nbconvert_exporter": "python",
      "pygments_lexer": "ipython3",
      "version": "3.10.14"
    },
    "colab": {
      "provenance": []
    }
  },
  "nbformat": 4,
  "nbformat_minor": 0
}