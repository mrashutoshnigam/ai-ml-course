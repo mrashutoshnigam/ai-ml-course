{
 "cells": [
  {
   "cell_type": "markdown",
   "id": "e2577763",
   "metadata": {},
   "source": [
    "To use a binary classifier with the MNIST dataset, you need to adapt the dataset and build a model to distinguish between two classes (e.g., digit 0 vs. digit 1). Here's a brief guide:\n",
    "\n",
    "Load and Preprocess MNIST: Use a library like TensorFlow/Keras or PyTorch to load the MNIST dataset. Filter the dataset to include only two classes (e.g., digits 0 and 1). Normalize pixel values (0-255) to [0,1] by dividing by 255. Flatten or reshape images (28x28) for input to the model.\n",
    "Prepare Data: Split the filtered dataset into training and testing sets (e.g., 80% train, 20% test). Create labels (0 for one class, 1 for the other).\n",
    "Build Binary Classifier: Use a simple neural network (e.g., in Keras):\n",
    "\n",
    "Input layer: 784 units (28x28 flattened).\n",
    "Hidden layer(s): Dense layers with ReLU activation (e.g., 128 units).\n",
    "Output layer: 1 unit with sigmoid activation (for binary classification).\n",
    "Loss: Binary cross-entropy; Optimizer: Adam; Metric: Accuracy.\n",
    "\n",
    "\n",
    "Train Model: Fit the model on the training data (e.g., 10 epochs, batch size 32).\n",
    "Evaluate: Test the model on the test set to check accuracy and loss.\n",
    "Predict: Use the trained model to classify new MNIST images (0 or 1)."
   ]
  },
  {
   "cell_type": "code",
   "execution_count": null,
   "id": "b0a1b0cc",
   "metadata": {},
   "outputs": [
    {
     "ename": "",
     "evalue": "",
     "output_type": "error",
     "traceback": [
      "\u001b[1;31mRunning cells with 'Python 3.11.9' requires the ipykernel package.\n",
      "\u001b[1;31mInstall 'ipykernel' into the Python environment. \n",
      "\u001b[1;31mCommand: 'e:/AI/ai-ml-course/venv/Scripts/python.exe -m pip install ipykernel -U --user --force-reinstall'"
     ]
    }
   ],
   "source": [
    "%pip install tensorflow[and-cuda] tensorflow-rocm"
   ]
  },
  {
   "cell_type": "code",
   "execution_count": null,
   "id": "becdda04",
   "metadata": {},
   "outputs": [
    {
     "ename": "",
     "evalue": "",
     "output_type": "error",
     "traceback": [
      "\u001b[1;31mThe file 'venv\\Lib\\site-packages\\typing_extensions.py' seems to be overriding built in modules and interfering with the startup of the kernel. Consider renaming the file and starting the kernel again.\n",
      "\u001b[1;31mClick <a href='https://aka.ms/kernelFailuresOverridingBuiltInModules'>here</a> for more info."
     ]
    }
   ],
   "source": [
    "import tensorflow as tf\n",
    "print(len(tf.config.list_physical_devices('GPU')) > 0)\n",
    "print(tf.config.list_physical_devices('GPU'))"
   ]
  },
  {
   "cell_type": "code",
   "execution_count": null,
   "id": "46f466e1",
   "metadata": {},
   "outputs": [],
   "source": [
    "%pip install scikit-learn-intelex"
   ]
  },
  {
   "cell_type": "code",
   "execution_count": null,
   "id": "b99b0534",
   "metadata": {},
   "outputs": [],
   "source": [
    "from sklearnex import patch_sklearn\n",
    "patch_sklearn()"
   ]
  },
  {
   "cell_type": "code",
   "execution_count": null,
   "id": "8aa789d1",
   "metadata": {},
   "outputs": [],
   "source": [
    "from tensorflow.keras.datasets import mnist\n",
    "from tensorflow.keras.models import Sequential\n",
    "from tensorflow.keras.layers import Dense\n",
    "import numpy as np"
   ]
  },
  {
   "cell_type": "code",
   "execution_count": null,
   "id": "171a7b0f",
   "metadata": {},
   "outputs": [],
   "source": [
    "# Load and filter MNIST for digits 0 and 1\n",
    "(x_train, y_train), (x_test, y_test) = mnist.load_data()\n",
    "train_mask = (y_train == 0) | (y_train == 1)\n",
    "test_mask = (y_test == 0) | (y_test == 1)\n",
    "x_train, y_train = x_train[train_mask], y_train[train_mask]\n",
    "x_test, y_test = x_test[test_mask], y_test[test_mask]"
   ]
  },
  {
   "cell_type": "code",
   "execution_count": null,
   "id": "c2b0c833",
   "metadata": {},
   "outputs": [],
   "source": [
    "# Preprocess\n",
    "x_train = x_train.reshape(-1, 784) / 255.0\n",
    "x_test = x_test.reshape(-1, 784) / 255.0"
   ]
  },
  {
   "cell_type": "code",
   "execution_count": null,
   "id": "e319d093",
   "metadata": {},
   "outputs": [],
   "source": [
    "x_train"
   ]
  },
  {
   "cell_type": "code",
   "execution_count": null,
   "id": "ce122868",
   "metadata": {},
   "outputs": [],
   "source": [
    "# Build model\n",
    "model = Sequential([\n",
    "    Dense(128, activation='relu', input_shape=(784,)),\n",
    "    Dense(1, activation='sigmoid')\n",
    "])"
   ]
  },
  {
   "cell_type": "code",
   "execution_count": null,
   "id": "45b3e867",
   "metadata": {},
   "outputs": [],
   "source": [
    "# Compile and train\n",
    "model.compile(optimizer='adam', loss='binary_crossentropy', metrics=['accuracy'])\n",
    "model.fit(x_train, y_train, epochs=10, batch_size=32, validation_split=0.2)"
   ]
  },
  {
   "cell_type": "code",
   "execution_count": null,
   "id": "6119c899",
   "metadata": {},
   "outputs": [],
   "source": [
    "# Evaluate\n",
    "loss, accuracy = model.evaluate(x_test, y_test)\n",
    "print(f\"Test accuracy: {accuracy}\")"
   ]
  },
  {
   "cell_type": "markdown",
   "id": "b81f56bb",
   "metadata": {},
   "source": [
    "**Sequential in Keras**: A class for building neural networks by stacking layers linearly, where output of one layer is input to the next. Simplifies model creation without complex graphs.\n",
    "\n",
    "Example:  \n",
    "```python\n",
    "from tensorflow.keras.models import Sequential\n",
    "from tensorflow.keras.layers import Dense\n",
    "\n",
    "model = Sequential([\n",
    "    Dense(64, activation='relu', input_shape=(10,)),  # Hidden layer\n",
    "    Dense(1, activation='sigmoid')  # Output layer\n",
    "])\n",
    "```\n",
    "This creates a model with input of 10 features, a hidden layer, and binary output.\n",
    "\n",
    "**ReLU (Rectified Linear Unit)**: Activation function introducing non-linearity: \\( f(x) = \\max(0, x) \\). Outputs x if positive, 0 otherwise. Prevents vanishing gradients, efficient for deep networks.\n",
    "\n",
    "Example:  \n",
    "- Input: 5 → Output: 5  \n",
    "- Input: -3 → Output: 0  \n",
    "In a neuron: If weighted sum is 2, ReLU outputs 2; if -1, outputs 0.\n",
    "\n",
    "**Sigmoid**: Activation function: \\( f(x) = \\frac{1}{1 + e^{-x}} \\). Squashes inputs to [0,1], ideal for binary classification probabilities.\n",
    "\n",
    "Example:  \n",
    "- Input: ∞ → Output: ~1  \n",
    "- Input: 0 → Output: 0.5  \n",
    "- Input: -∞ → Output: ~0  \n",
    "In binary classifier: Output 0.8 means 80% probability of class 1."
   ]
  },
  {
   "cell_type": "code",
   "execution_count": null,
   "id": "36a0449d",
   "metadata": {},
   "outputs": [],
   "source": [
    "from sklearn.metrics import confusion_matrix, classification_report\n",
    "import matplotlib.pyplot as plt\n",
    "# Predictions\n",
    "y_pred = (model.predict(x_test) > 0.5).astype(\"int32\").flatten()\n",
    "# Confusion matrix and classification report\n",
    "cm = confusion_matrix(y_test, y_pred)\n",
    "print(\"Confusion Matrix:\")\n",
    "print(cm)   "
   ]
  },
  {
   "cell_type": "code",
   "execution_count": null,
   "id": "3edccac7",
   "metadata": {},
   "outputs": [],
   "source": [
    "# precision, recall, f1_score, support = classification_report(y_test, y_pred, output_dict=True)['1'].values()\n",
    "print(\"Classification Report:\")\n",
    "print(classification_report(y_test, y_pred))\n",
    "# Plot confusion matrix\n",
    "import seaborn as sns\n",
    "plt.figure(figsize=(8, 6))\n",
    "sns.heatmap(cm, annot=True, fmt='d', cmap='Blues', xticklabels=['0', '1'], yticklabels=['0', '1'])\n",
    "plt.xlabel('Predicted')\n",
    "plt.ylabel('True')\n",
    "plt.title('Confusion Matrix')\n",
    "plt.show()"
   ]
  },
  {
   "cell_type": "code",
   "execution_count": null,
   "id": "b0d6d213",
   "metadata": {},
   "outputs": [],
   "source": [
    "from sklearn.svm import SVC\n",
    "\n",
    "# Reshape data for SVM\n",
    "(x_train, y_train), (x_test, y_test) = mnist.load_data()\n",
    "x_train = x_train.reshape(-1, 784) / 255.0\n",
    "x_test = x_test.reshape(-1, 784) / 255.0\n",
    "\n",
    "\n",
    "\n",
    "# Train SVM on the same data    \n",
    "svm_model = SVC()\n",
    "svm_model.fit(x_train, y_train)\n",
    "# Evaluate SVM\n",
    "svm_accuracy = svm_model.score(x_test, y_test)\n",
    "print(f\"SVM Test accuracy: {svm_accuracy}\")\n",
    "# Predictions with SVM\n",
    "y_pred_svm = svm_model.predict(x_test)\n",
    "# Confusion matrix and classification report for SVM\n",
    "cm_svm = confusion_matrix(y_test, y_pred_svm)\n",
    "print(\"SVM Confusion Matrix:\")\n",
    "print(cm_svm)"
   ]
  },
  {
   "cell_type": "code",
   "execution_count": null,
   "id": "273421a8",
   "metadata": {},
   "outputs": [],
   "source": [
    "# predict\n",
    "y_pred_svm = svm_model.predict(x_test)"
   ]
  },
  {
   "cell_type": "code",
   "execution_count": null,
   "id": "fd442826",
   "metadata": {},
   "outputs": [],
   "source": [
    "print(\"Classification Report:\")\n",
    "print(classification_report(y_test, y_pred_svm))\n",
    "# Plot confusion matrix for SVM\n",
    "plt.figure(figsize=(8, 6))  \n",
    "sns.heatmap(cm_svm, annot=True, fmt='d', cmap='Blues', xticklabels=['0', '1'], yticklabels=['0', '1'])\n",
    "plt.xlabel('Predicted')\n",
    "plt.ylabel('True')\n",
    "plt.title('SVM Confusion Matrix')\n",
    "plt.show()"
   ]
  },
  {
   "cell_type": "code",
   "execution_count": null,
   "id": "a44b8157",
   "metadata": {},
   "outputs": [],
   "source": []
  }
 ],
 "metadata": {
  "kernelspec": {
   "display_name": ".venv (3.12.7)",
   "language": "python",
   "name": "python3"
  },
  "language_info": {
   "codemirror_mode": {
    "name": "ipython",
    "version": 3
   },
   "file_extension": ".py",
   "mimetype": "text/x-python",
   "name": "python",
   "nbconvert_exporter": "python",
   "pygments_lexer": "ipython3",
   "version": "3.12.7"
  }
 },
 "nbformat": 4,
 "nbformat_minor": 5
}
