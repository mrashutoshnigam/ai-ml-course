{
 "cells": [
  {
   "cell_type": "markdown",
   "id": "e2577763",
   "metadata": {},
   "source": [
    "To use a binary classifier with the MNIST dataset, you need to adapt the dataset and build a model to distinguish between two classes (e.g., digit 0 vs. digit 1). Here's a brief guide:\n",
    "\n",
    "Load and Preprocess MNIST: Use a library like TensorFlow/Keras or PyTorch to load the MNIST dataset. Filter the dataset to include only two classes (e.g., digits 0 and 1). Normalize pixel values (0-255) to [0,1] by dividing by 255. Flatten or reshape images (28x28) for input to the model.\n",
    "Prepare Data: Split the filtered dataset into training and testing sets (e.g., 80% train, 20% test). Create labels (0 for one class, 1 for the other).\n",
    "Build Binary Classifier: Use a simple neural network (e.g., in Keras):\n",
    "\n",
    "Input layer: 784 units (28x28 flattened).\n",
    "Hidden layer(s): Dense layers with ReLU activation (e.g., 128 units).\n",
    "Output layer: 1 unit with sigmoid activation (for binary classification).\n",
    "Loss: Binary cross-entropy; Optimizer: Adam; Metric: Accuracy.\n",
    "\n",
    "\n",
    "Train Model: Fit the model on the training data (e.g., 10 epochs, batch size 32).\n",
    "Evaluate: Test the model on the test set to check accuracy and loss.\n",
    "Predict: Use the trained model to classify new MNIST images (0 or 1)."
   ]
  },
  {
   "cell_type": "code",
   "execution_count": 3,
   "id": "8aa789d1",
   "metadata": {},
   "outputs": [],
   "source": [
    "from tensorflow.keras.datasets import mnist\n",
    "from tensorflow.keras.models import Sequential\n",
    "from tensorflow.keras.layers import Dense\n",
    "import numpy as np"
   ]
  },
  {
   "cell_type": "code",
   "execution_count": 4,
   "id": "171a7b0f",
   "metadata": {},
   "outputs": [],
   "source": [
    "# Load and filter MNIST for digits 0 and 1\n",
    "(x_train, y_train), (x_test, y_test) = mnist.load_data()\n",
    "train_mask = (y_train == 0) | (y_train == 1)\n",
    "test_mask = (y_test == 0) | (y_test == 1)\n",
    "x_train, y_train = x_train[train_mask], y_train[train_mask]\n",
    "x_test, y_test = x_test[test_mask], y_test[test_mask]"
   ]
  },
  {
   "cell_type": "code",
   "execution_count": 5,
   "id": "c2b0c833",
   "metadata": {},
   "outputs": [],
   "source": [
    "# Preprocess\n",
    "x_train = x_train.reshape(-1, 784) / 255.0\n",
    "x_test = x_test.reshape(-1, 784) / 255.0"
   ]
  },
  {
   "cell_type": "code",
   "execution_count": 6,
   "id": "e319d093",
   "metadata": {},
   "outputs": [
    {
     "data": {
      "text/plain": [
       "array([[0., 0., 0., ..., 0., 0., 0.],\n",
       "       [0., 0., 0., ..., 0., 0., 0.],\n",
       "       [0., 0., 0., ..., 0., 0., 0.],\n",
       "       ...,\n",
       "       [0., 0., 0., ..., 0., 0., 0.],\n",
       "       [0., 0., 0., ..., 0., 0., 0.],\n",
       "       [0., 0., 0., ..., 0., 0., 0.]])"
      ]
     },
     "execution_count": 6,
     "metadata": {},
     "output_type": "execute_result"
    }
   ],
   "source": [
    "x_train"
   ]
  },
  {
   "cell_type": "code",
   "execution_count": 7,
   "id": "ce122868",
   "metadata": {},
   "outputs": [
    {
     "name": "stderr",
     "output_type": "stream",
     "text": [
      "e:\\AI\\ai-ml-course\\venv\\Lib\\site-packages\\keras\\src\\layers\\core\\dense.py:87: UserWarning: Do not pass an `input_shape`/`input_dim` argument to a layer. When using Sequential models, prefer using an `Input(shape)` object as the first layer in the model instead.\n",
      "  super().__init__(activity_regularizer=activity_regularizer, **kwargs)\n"
     ]
    }
   ],
   "source": [
    "# Build model\n",
    "model = Sequential([\n",
    "    Dense(128, activation='relu', input_shape=(784,)),\n",
    "    Dense(1, activation='sigmoid')\n",
    "])"
   ]
  },
  {
   "cell_type": "code",
   "execution_count": 8,
   "id": "45b3e867",
   "metadata": {},
   "outputs": [
    {
     "name": "stdout",
     "output_type": "stream",
     "text": [
      "Epoch 1/10\n",
      "\u001b[1m317/317\u001b[0m \u001b[32m━━━━━━━━━━━━━━━━━━━━\u001b[0m\u001b[37m\u001b[0m \u001b[1m1s\u001b[0m 2ms/step - accuracy: 0.9672 - loss: 0.0726 - val_accuracy: 0.9992 - val_loss: 0.0025\n",
      "Epoch 2/10\n",
      "\u001b[1m317/317\u001b[0m \u001b[32m━━━━━━━━━━━━━━━━━━━━\u001b[0m\u001b[37m\u001b[0m \u001b[1m0s\u001b[0m 1ms/step - accuracy: 0.9986 - loss: 0.0040 - val_accuracy: 1.0000 - val_loss: 6.7141e-04\n",
      "Epoch 3/10\n",
      "\u001b[1m317/317\u001b[0m \u001b[32m━━━━━━━━━━━━━━━━━━━━\u001b[0m\u001b[37m\u001b[0m \u001b[1m0s\u001b[0m 1ms/step - accuracy: 0.9991 - loss: 0.0018 - val_accuracy: 1.0000 - val_loss: 4.5129e-04\n",
      "Epoch 4/10\n",
      "\u001b[1m317/317\u001b[0m \u001b[32m━━━━━━━━━━━━━━━━━━━━\u001b[0m\u001b[37m\u001b[0m \u001b[1m0s\u001b[0m 1ms/step - accuracy: 0.9999 - loss: 0.0016 - val_accuracy: 0.9996 - val_loss: 9.1019e-04\n",
      "Epoch 5/10\n",
      "\u001b[1m317/317\u001b[0m \u001b[32m━━━━━━━━━━━━━━━━━━━━\u001b[0m\u001b[37m\u001b[0m \u001b[1m0s\u001b[0m 1ms/step - accuracy: 0.9993 - loss: 0.0014 - val_accuracy: 0.9996 - val_loss: 7.9948e-04\n",
      "Epoch 6/10\n",
      "\u001b[1m317/317\u001b[0m \u001b[32m━━━━━━━━━━━━━━━━━━━━\u001b[0m\u001b[37m\u001b[0m \u001b[1m0s\u001b[0m 1ms/step - accuracy: 0.9996 - loss: 0.0023 - val_accuracy: 0.9996 - val_loss: 6.3625e-04\n",
      "Epoch 7/10\n",
      "\u001b[1m317/317\u001b[0m \u001b[32m━━━━━━━━━━━━━━━━━━━━\u001b[0m\u001b[37m\u001b[0m \u001b[1m0s\u001b[0m 1ms/step - accuracy: 1.0000 - loss: 9.1121e-05 - val_accuracy: 0.9996 - val_loss: 5.8605e-04\n",
      "Epoch 8/10\n",
      "\u001b[1m317/317\u001b[0m \u001b[32m━━━━━━━━━━━━━━━━━━━━\u001b[0m\u001b[37m\u001b[0m \u001b[1m1s\u001b[0m 2ms/step - accuracy: 1.0000 - loss: 1.5252e-04 - val_accuracy: 0.9996 - val_loss: 5.0903e-04\n",
      "Epoch 9/10\n",
      "\u001b[1m317/317\u001b[0m \u001b[32m━━━━━━━━━━━━━━━━━━━━\u001b[0m\u001b[37m\u001b[0m \u001b[1m0s\u001b[0m 1ms/step - accuracy: 1.0000 - loss: 1.0734e-04 - val_accuracy: 0.9996 - val_loss: 4.2283e-04\n",
      "Epoch 10/10\n",
      "\u001b[1m317/317\u001b[0m \u001b[32m━━━━━━━━━━━━━━━━━━━━\u001b[0m\u001b[37m\u001b[0m \u001b[1m0s\u001b[0m 1ms/step - accuracy: 1.0000 - loss: 4.6844e-05 - val_accuracy: 0.9996 - val_loss: 4.6693e-04\n"
     ]
    },
    {
     "data": {
      "text/plain": [
       "<keras.src.callbacks.history.History at 0x216f91d6a10>"
      ]
     },
     "execution_count": 8,
     "metadata": {},
     "output_type": "execute_result"
    }
   ],
   "source": [
    "# Compile and train\n",
    "model.compile(optimizer='adam', loss='binary_crossentropy', metrics=['accuracy'])\n",
    "model.fit(x_train, y_train, epochs=10, batch_size=32, validation_split=0.2)"
   ]
  },
  {
   "cell_type": "code",
   "execution_count": 9,
   "id": "6119c899",
   "metadata": {},
   "outputs": [
    {
     "name": "stdout",
     "output_type": "stream",
     "text": [
      "\u001b[1m67/67\u001b[0m \u001b[32m━━━━━━━━━━━━━━━━━━━━\u001b[0m\u001b[37m\u001b[0m \u001b[1m0s\u001b[0m 964us/step - accuracy: 1.0000 - loss: 1.5362e-04\n",
      "Test accuracy: 0.9995272159576416\n"
     ]
    }
   ],
   "source": [
    "# Evaluate\n",
    "loss, accuracy = model.evaluate(x_test, y_test)\n",
    "print(f\"Test accuracy: {accuracy}\")"
   ]
  },
  {
   "cell_type": "markdown",
   "id": "b81f56bb",
   "metadata": {},
   "source": [
    "**Sequential in Keras**: A class for building neural networks by stacking layers linearly, where output of one layer is input to the next. Simplifies model creation without complex graphs.\n",
    "\n",
    "Example:  \n",
    "```python\n",
    "from tensorflow.keras.models import Sequential\n",
    "from tensorflow.keras.layers import Dense\n",
    "\n",
    "model = Sequential([\n",
    "    Dense(64, activation='relu', input_shape=(10,)),  # Hidden layer\n",
    "    Dense(1, activation='sigmoid')  # Output layer\n",
    "])\n",
    "```\n",
    "This creates a model with input of 10 features, a hidden layer, and binary output.\n",
    "\n",
    "**ReLU (Rectified Linear Unit)**: Activation function introducing non-linearity: \\( f(x) = \\max(0, x) \\). Outputs x if positive, 0 otherwise. Prevents vanishing gradients, efficient for deep networks.\n",
    "\n",
    "Example:  \n",
    "- Input: 5 → Output: 5  \n",
    "- Input: -3 → Output: 0  \n",
    "In a neuron: If weighted sum is 2, ReLU outputs 2; if -1, outputs 0.\n",
    "\n",
    "**Sigmoid**: Activation function: \\( f(x) = \\frac{1}{1 + e^{-x}} \\). Squashes inputs to [0,1], ideal for binary classification probabilities.\n",
    "\n",
    "Example:  \n",
    "- Input: ∞ → Output: ~1  \n",
    "- Input: 0 → Output: 0.5  \n",
    "- Input: -∞ → Output: ~0  \n",
    "In binary classifier: Output 0.8 means 80% probability of class 1."
   ]
  },
  {
   "cell_type": "code",
   "execution_count": 10,
   "id": "36a0449d",
   "metadata": {},
   "outputs": [
    {
     "name": "stdout",
     "output_type": "stream",
     "text": [
      "\u001b[1m67/67\u001b[0m \u001b[32m━━━━━━━━━━━━━━━━━━━━\u001b[0m\u001b[37m\u001b[0m \u001b[1m0s\u001b[0m 1000us/step\n",
      "Confusion Matrix:\n",
      "[[ 979    1]\n",
      " [   0 1135]]\n"
     ]
    }
   ],
   "source": [
    "from sklearn.metrics import confusion_matrix, classification_report\n",
    "import matplotlib.pyplot as plt\n",
    "# Predictions\n",
    "y_pred = (model.predict(x_test) > 0.5).astype(\"int32\").flatten()\n",
    "# Confusion matrix and classification report\n",
    "cm = confusion_matrix(y_test, y_pred)\n",
    "print(\"Confusion Matrix:\")\n",
    "print(cm)   "
   ]
  },
  {
   "cell_type": "code",
   "execution_count": 11,
   "id": "3edccac7",
   "metadata": {},
   "outputs": [
    {
     "name": "stdout",
     "output_type": "stream",
     "text": [
      "Classification Report:\n",
      "              precision    recall  f1-score   support\n",
      "\n",
      "           0       1.00      1.00      1.00       980\n",
      "           1       1.00      1.00      1.00      1135\n",
      "\n",
      "    accuracy                           1.00      2115\n",
      "   macro avg       1.00      1.00      1.00      2115\n",
      "weighted avg       1.00      1.00      1.00      2115\n",
      "\n"
     ]
    },
    {
     "data": {
      "image/png": "[encoded data removed]",
      "text/plain": [
       "<Figure size 800x600 with 2 Axes>"
      ]
     },
     "metadata": {},
     "output_type": "display_data"
    }
   ],
   "source": [
    "# precision, recall, f1_score, support = classification_report(y_test, y_pred, output_dict=True)['1'].values()\n",
    "print(\"Classification Report:\")\n",
    "print(classification_report(y_test, y_pred))\n",
    "# Plot confusion matrix\n",
    "import seaborn as sns\n",
    "plt.figure(figsize=(8, 6))\n",
    "sns.heatmap(cm, annot=True, fmt='d', cmap='Blues', xticklabels=['0', '1'], yticklabels=['0', '1'])\n",
    "plt.xlabel('Predicted')\n",
    "plt.ylabel('True')\n",
    "plt.title('Confusion Matrix')\n",
    "plt.show()"
   ]
  },
  {
   "cell_type": "code",
   "execution_count": null,
   "id": "b0d6d213",
   "metadata": {},
   "outputs": [],
   "source": [
    "from sklearn.svm import SVC\n",
    "\n",
    "# Reshape data for SVM\n",
    "(x_train, y_train), (x_test, y_test) = mnist.load_data()\n",
    "x_train = x_train.reshape(-1, 784) / 255.0\n",
    "x_test = x_test.reshape(-1, 784) / 255.0\n",
    "\n",
    "\n",
    "\n",
    "# Train SVM on the same data    \n",
    "svm_model = SVC()\n",
    "svm_model.fit(x_train, y_train)\n",
    "# Evaluate SVM\n",
    "svm_accuracy = svm_model.score(x_test, y_test)\n",
    "print(f\"SVM Test accuracy: {svm_accuracy}\")\n",
    "# Predictions with SVM\n",
    "y_pred_svm = svm_model.predict(x_test)\n",
    "# Confusion matrix and classification report for SVM\n",
    "cm_svm = confusion_matrix(y_test, y_pred_svm)\n",
    "print(\"SVM Confusion Matrix:\")\n",
    "print(cm_svm)"
   ]
  },
  {
   "cell_type": "code",
   "execution_count": null,
   "id": "273421a8",
   "metadata": {},
   "outputs": [],
   "source": []
  }
 ],
 "metadata": {
  "kernelspec": {
   "display_name": "venv (3.11.9)",
   "language": "python",
   "name": "python3"
  },
  "language_info": {
   "codemirror_mode": {
    "name": "ipython",
    "version": 3
   },
   "file_extension": ".py",
   "mimetype": "text/x-python",
   "name": "python",
   "nbconvert_exporter": "python",
   "pygments_lexer": "ipython3",
   "version": "3.11.9"
  }
 },
 "nbformat": 4,
 "nbformat_minor": 5
}
