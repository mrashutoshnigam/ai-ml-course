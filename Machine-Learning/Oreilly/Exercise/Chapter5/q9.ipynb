{
 "cells": [
  {
   "cell_type": "markdown",
   "id": "93c5f22c",
   "metadata": {},
   "source": [
    "#### Question 9\n",
    "Train An SVM classifier on the MNIST data set. Since SVM classifier are binary classifiers. You will need to use one VS the rest to classify or 10 digits. You may want to tune the hyper parameters using small validation set to speed up the process. What accuracy can you reach?"
   ]
  },
  {
   "cell_type": "code",
   "execution_count": 1,
   "id": "d52eeb00",
   "metadata": {},
   "outputs": [
    {
     "name": "stdout",
     "output_type": "stream",
     "text": [
      "Requirement already satisfied: scikit-learn in e:\\ai\\ai-ml-course\\.venv\\lib\\site-packages (1.7.1)\n",
      "Requirement already satisfied: pandas in e:\\ai\\ai-ml-course\\.venv\\lib\\site-packages (2.3.1)\n",
      "Requirement already satisfied: numpy in e:\\ai\\ai-ml-course\\.venv\\lib\\site-packages (2.1.3)\n",
      "Requirement already satisfied: scikit-learn-intelex in e:\\ai\\ai-ml-course\\.venv\\lib\\site-packages (2025.7.0)\n",
      "Requirement already satisfied: scipy>=1.8.0 in e:\\ai\\ai-ml-course\\.venv\\lib\\site-packages (from scikit-learn) (1.15.3)\n",
      "Requirement already satisfied: threadpoolctl>=3.1.0 in e:\\ai\\ai-ml-course\\.venv\\lib\\site-packages (from scikit-learn) (3.6.0)\n",
      "Requirement already satisfied: joblib>=1.2.0 in e:\\ai\\ai-ml-course\\.venv\\lib\\site-packages (from scikit-learn) (1.5.1)\n",
      "Requirement already satisfied: pytz>=2020.1 in e:\\ai\\ai-ml-course\\.venv\\lib\\site-packages (from pandas) (2025.2)\n",
      "Requirement already satisfied: python-dateutil>=2.8.2 in e:\\ai\\ai-ml-course\\.venv\\lib\\site-packages (from pandas) (2.9.0.post0)\n",
      "Requirement already satisfied: tzdata>=2022.7 in e:\\ai\\ai-ml-course\\.venv\\lib\\site-packages (from pandas) (2025.2)\n",
      "Requirement already satisfied: daal==2025.7.0 in e:\\ai\\ai-ml-course\\.venv\\lib\\site-packages (from scikit-learn-intelex) (2025.7.0)\n",
      "Requirement already satisfied: tbb==2022.* in e:\\ai\\ai-ml-course\\.venv\\lib\\site-packages (from daal==2025.7.0->scikit-learn-intelex) (2022.2.0)\n",
      "Requirement already satisfied: tcmlib==1.* in e:\\ai\\ai-ml-course\\.venv\\lib\\site-packages (from tbb==2022.*->daal==2025.7.0->scikit-learn-intelex) (1.4.0)\n",
      "Requirement already satisfied: six>=1.5 in e:\\ai\\ai-ml-course\\.venv\\lib\\site-packages (from python-dateutil>=2.8.2->pandas) (1.17.0)\n",
      "Note: you may need to restart the kernel to use updated packages.\n"
     ]
    },
    {
     "name": "stderr",
     "output_type": "stream",
     "text": [
      "WARNING: There was an error checking the latest version of pip.\n"
     ]
    }
   ],
   "source": [
    "%pip install scikit-learn pandas numpy scikit-learn-intelex "
   ]
  },
  {
   "cell_type": "code",
   "execution_count": 2,
   "id": "4fc68d8e",
   "metadata": {},
   "outputs": [
    {
     "name": "stderr",
     "output_type": "stream",
     "text": [
      "Extension for Scikit-learn* enabled (https://github.com/uxlfoundation/scikit-learn-intelex)\n"
     ]
    }
   ],
   "source": [
    "from sklearnex import patch_sklearn\n",
    "patch_sklearn()"
   ]
  },
  {
   "cell_type": "code",
   "execution_count": 3,
   "id": "0bd4d936",
   "metadata": {},
   "outputs": [],
   "source": [
    "import pandas as pd\n",
    "import numpy as np\n",
    "import matplotlib.pyplot as plt\n",
    "from tensorflow import keras\n",
    "from sklearn.model_selection import train_test_split\n",
    "from sklearn.svm import LinearSVC, SVC\n",
    "from sklearn.preprocessing import StandardScaler\n",
    "from sklearn.metrics import accuracy_score"
   ]
  },
  {
   "cell_type": "code",
   "execution_count": 4,
   "id": "b2c83d69",
   "metadata": {},
   "outputs": [],
   "source": [
    "(X_train, y_train), (X_test, y_test) = keras.datasets.mnist.load_data()\n",
    "X_train = X_train / 255.0\n",
    "X_test = X_test / 255.0\n",
    "X_train = X_train.reshape(-1, 784)\n",
    "X_test = X_test.reshape(-1, 784)"
   ]
  },
  {
   "cell_type": "code",
   "execution_count": 5,
   "id": "c03bffb5",
   "metadata": {},
   "outputs": [],
   "source": [
    "#Split this dataset into X_train, X_val, and X_test\n",
    "X_train, X_temp, y_train, y_temp = train_test_split(X_train, y_train, test_size=0.2, random_state=42)\n",
    "X_val, X_test, y_val, y_test = train_test_split(X_temp, y_temp, test_size=0.5, random_state=42)"
   ]
  },
  {
   "cell_type": "code",
   "execution_count": 6,
   "id": "6677afb8",
   "metadata": {},
   "outputs": [],
   "source": [
    "# Scale the features\n",
    "scaler = StandardScaler()\n",
    "X_train_scaled = scaler.fit_transform(X_train)\n",
    "X_val_scaled = scaler.transform(X_val)\n",
    "X_test_scaled = scaler.transform(X_test)"
   ]
  },
  {
   "cell_type": "code",
   "execution_count": 7,
   "id": "00f0fd08",
   "metadata": {},
   "outputs": [],
   "source": [
    "# Hyperparameter tuning (using a small subset for speed)\n",
    "param_grid = {'C': [0.01, 0.1, 1.0, 10.0]}\n",
    "best_accuracy = 0\n",
    "best_C = 0"
   ]
  },
  {
   "cell_type": "code",
   "execution_count": null,
   "id": "d09d722a",
   "metadata": {},
   "outputs": [],
   "source": [
    "for C in param_grid['C']:\n",
    "    svm = LinearSVC(random_state=42, max_iter=1000, C=C, multi_class='ovr')\n",
    "    svm.fit(X_train_scaled, y_train)\n",
    "    val_pred = svm.predict(X_val_scaled)\n",
    "    accuracy = accuracy_score(y_val, val_pred)\n",
    "    print(f'Validation accuracy for C={C}: {accuracy:.4f}')\n",
    "    print(f'Predicted labels: {val_pred} vs {y_val}')\n",
    "    if accuracy > best_accuracy:\n",
    "        best_accuracy = accuracy\n",
    "        best_C = C"
   ]
  },
  {
   "cell_type": "code",
   "execution_count": null,
   "id": "14c61acc",
   "metadata": {},
   "outputs": [],
   "source": [
    "# Train final model with best C on full training set\n",
    "final_svm = LinearSVC(random_state=42, max_iter=1000, C=best_C, multi_class='ovr')\n",
    "final_svm.fit(X_train_scaled, y_train)"
   ]
  },
  {
   "cell_type": "code",
   "execution_count": null,
   "id": "de91ea05",
   "metadata": {},
   "outputs": [],
   "source": [
    "# Evaluate on test set\n",
    "test_pred = final_svm.predict(X_test_scaled)\n",
    "test_accuracy = accuracy_score(y_test, test_pred)"
   ]
  },
  {
   "cell_type": "code",
   "execution_count": null,
   "id": "5b0b6ae1",
   "metadata": {},
   "outputs": [],
   "source": [
    "\n",
    "print(f\"Best C: {best_C}\")\n",
    "print(f\"Validation Accuracy: {best_accuracy:.4f}\")\n",
    "print(f\"Test Accuracy: {test_accuracy:.4f}\")"
   ]
  }
 ],
 "metadata": {
  "kernelspec": {
   "display_name": ".venv (3.10.9)",
   "language": "python",
   "name": "python3"
  },
  "language_info": {
   "codemirror_mode": {
    "name": "ipython",
    "version": 3
   },
   "file_extension": ".py",
   "mimetype": "text/x-python",
   "name": "python",
   "nbconvert_exporter": "python",
   "pygments_lexer": "ipython3",
   "version": "3.10.9"
  }
 },
 "nbformat": 4,
 "nbformat_minor": 5
}
