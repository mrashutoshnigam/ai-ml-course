{
 "cells": [
  {
   "cell_type": "markdown",
   "id": "147d843a",
   "metadata": {},
   "source": [
    " 1. Try to build a classifier for the MNIST dataset that achieves over 97% accuracy\n",
    " on the test set. Hint: the KNeighborsClassifier works quite well for this task;\n",
    " you just need to find good hyperparameter values (try a grid search on the\n",
    " weights and n_neighbors hyperparameters)."
   ]
  },
  {
   "cell_type": "code",
   "execution_count": 1,
   "id": "78d9c255",
   "metadata": {},
   "outputs": [
    {
     "name": "stdout",
     "output_type": "stream",
     "text": [
      "Requirement already satisfied: tensorflow in e:\\ai\\ai-ml-course\\.venv\\lib\\site-packages (2.19.0)\n",
      "Requirement already satisfied: numpy in e:\\ai\\ai-ml-course\\.venv\\lib\\site-packages (2.1.3)\n",
      "Requirement already satisfied: pandas in e:\\ai\\ai-ml-course\\.venv\\lib\\site-packages (2.3.1)\n",
      "Requirement already satisfied: matplotlib in e:\\ai\\ai-ml-course\\.venv\\lib\\site-packages (3.10.5)\n",
      "Requirement already satisfied: seaborn in e:\\ai\\ai-ml-course\\.venv\\lib\\site-packages (0.13.2)\n",
      "Requirement already satisfied: scikit-learn in e:\\ai\\ai-ml-course\\.venv\\lib\\site-packages (1.7.1)\n",
      "Requirement already satisfied: scikit-learn-intelex in e:\\ai\\ai-ml-course\\.venv\\lib\\site-packages (2025.7.0)\n",
      "Requirement already satisfied: six>=1.12.0 in e:\\ai\\ai-ml-course\\.venv\\lib\\site-packages (from tensorflow) (1.17.0)\n",
      "Requirement already satisfied: ml-dtypes<1.0.0,>=0.5.1 in e:\\ai\\ai-ml-course\\.venv\\lib\\site-packages (from tensorflow) (0.5.3)\n",
      "Requirement already satisfied: termcolor>=1.1.0 in e:\\ai\\ai-ml-course\\.venv\\lib\\site-packages (from tensorflow) (3.1.0)\n",
      "Requirement already satisfied: absl-py>=1.0.0 in e:\\ai\\ai-ml-course\\.venv\\lib\\site-packages (from tensorflow) (2.3.1)\n",
      "Requirement already satisfied: tensorflow-io-gcs-filesystem>=0.23.1 in e:\\ai\\ai-ml-course\\.venv\\lib\\site-packages (from tensorflow) (0.31.0)\n",
      "Requirement already satisfied: packaging in e:\\ai\\ai-ml-course\\.venv\\lib\\site-packages (from tensorflow) (25.0)\n",
      "Requirement already satisfied: tensorboard~=2.19.0 in e:\\ai\\ai-ml-course\\.venv\\lib\\site-packages (from tensorflow) (2.19.0)\n",
      "Requirement already satisfied: typing-extensions>=3.6.6 in e:\\ai\\ai-ml-course\\.venv\\lib\\site-packages (from tensorflow) (4.14.1)\n",
      "Requirement already satisfied: google-pasta>=0.1.1 in e:\\ai\\ai-ml-course\\.venv\\lib\\site-packages (from tensorflow) (0.2.0)\n",
      "Requirement already satisfied: libclang>=13.0.0 in e:\\ai\\ai-ml-course\\.venv\\lib\\site-packages (from tensorflow) (18.1.1)\n",
      "Requirement already satisfied: flatbuffers>=24.3.25 in e:\\ai\\ai-ml-course\\.venv\\lib\\site-packages (from tensorflow) (25.2.10)\n",
      "Requirement already satisfied: setuptools in e:\\ai\\ai-ml-course\\.venv\\lib\\site-packages (from tensorflow) (65.5.0)\n",
      "Requirement already satisfied: wrapt>=1.11.0 in e:\\ai\\ai-ml-course\\.venv\\lib\\site-packages (from tensorflow) (1.17.2)\n",
      "Requirement already satisfied: gast!=0.5.0,!=0.5.1,!=0.5.2,>=0.2.1 in e:\\ai\\ai-ml-course\\.venv\\lib\\site-packages (from tensorflow) (0.6.0)\n",
      "Requirement already satisfied: opt-einsum>=2.3.2 in e:\\ai\\ai-ml-course\\.venv\\lib\\site-packages (from tensorflow) (3.4.0)\n",
      "Requirement already satisfied: astunparse>=1.6.0 in e:\\ai\\ai-ml-course\\.venv\\lib\\site-packages (from tensorflow) (1.6.3)\n",
      "Requirement already satisfied: grpcio<2.0,>=1.24.3 in e:\\ai\\ai-ml-course\\.venv\\lib\\site-packages (from tensorflow) (1.74.0)\n",
      "Requirement already satisfied: protobuf!=4.21.0,!=4.21.1,!=4.21.2,!=4.21.3,!=4.21.4,!=4.21.5,<6.0.0dev,>=3.20.3 in e:\\ai\\ai-ml-course\\.venv\\lib\\site-packages (from tensorflow) (5.29.5)\n",
      "Requirement already satisfied: requests<3,>=2.21.0 in e:\\ai\\ai-ml-course\\.venv\\lib\\site-packages (from tensorflow) (2.32.4)\n",
      "Requirement already satisfied: keras>=3.5.0 in e:\\ai\\ai-ml-course\\.venv\\lib\\site-packages (from tensorflow) (3.11.1)\n",
      "Requirement already satisfied: h5py>=3.11.0 in e:\\ai\\ai-ml-course\\.venv\\lib\\site-packages (from tensorflow) (3.14.0)\n",
      "Requirement already satisfied: python-dateutil>=2.8.2 in e:\\ai\\ai-ml-course\\.venv\\lib\\site-packages (from pandas) (2.9.0.post0)\n",
      "Requirement already satisfied: tzdata>=2022.7 in e:\\ai\\ai-ml-course\\.venv\\lib\\site-packages (from pandas) (2025.2)\n",
      "Requirement already satisfied: pytz>=2020.1 in e:\\ai\\ai-ml-course\\.venv\\lib\\site-packages (from pandas) (2025.2)\n",
      "Requirement already satisfied: cycler>=0.10 in e:\\ai\\ai-ml-course\\.venv\\lib\\site-packages (from matplotlib) (0.12.1)\n",
      "Requirement already satisfied: contourpy>=1.0.1 in e:\\ai\\ai-ml-course\\.venv\\lib\\site-packages (from matplotlib) (1.3.2)\n",
      "Requirement already satisfied: fonttools>=4.22.0 in e:\\ai\\ai-ml-course\\.venv\\lib\\site-packages (from matplotlib) (4.59.0)\n",
      "Requirement already satisfied: pyparsing>=2.3.1 in e:\\ai\\ai-ml-course\\.venv\\lib\\site-packages (from matplotlib) (3.2.3)\n",
      "Requirement already satisfied: kiwisolver>=1.3.1 in e:\\ai\\ai-ml-course\\.venv\\lib\\site-packages (from matplotlib) (1.4.8)\n",
      "Requirement already satisfied: pillow>=8 in e:\\ai\\ai-ml-course\\.venv\\lib\\site-packages (from matplotlib) (11.3.0)\n",
      "Requirement already satisfied: scipy>=1.8.0 in e:\\ai\\ai-ml-course\\.venv\\lib\\site-packages (from scikit-learn) (1.15.3)\n",
      "Requirement already satisfied: joblib>=1.2.0 in e:\\ai\\ai-ml-course\\.venv\\lib\\site-packages (from scikit-learn) (1.5.1)\n",
      "Requirement already satisfied: threadpoolctl>=3.1.0 in e:\\ai\\ai-ml-course\\.venv\\lib\\site-packages (from scikit-learn) (3.6.0)\n",
      "Requirement already satisfied: daal==2025.7.0 in e:\\ai\\ai-ml-course\\.venv\\lib\\site-packages (from scikit-learn-intelex) (2025.7.0)\n",
      "Requirement already satisfied: tbb==2022.* in e:\\ai\\ai-ml-course\\.venv\\lib\\site-packages (from daal==2025.7.0->scikit-learn-intelex) (2022.2.0)\n",
      "Requirement already satisfied: tcmlib==1.* in e:\\ai\\ai-ml-course\\.venv\\lib\\site-packages (from tbb==2022.*->daal==2025.7.0->scikit-learn-intelex) (1.4.0)\n",
      "Requirement already satisfied: wheel<1.0,>=0.23.0 in e:\\ai\\ai-ml-course\\.venv\\lib\\site-packages (from astunparse>=1.6.0->tensorflow) (0.45.1)\n",
      "Requirement already satisfied: namex in e:\\ai\\ai-ml-course\\.venv\\lib\\site-packages (from keras>=3.5.0->tensorflow) (0.1.0)\n",
      "Requirement already satisfied: rich in e:\\ai\\ai-ml-course\\.venv\\lib\\site-packages (from keras>=3.5.0->tensorflow) (14.1.0)\n",
      "Requirement already satisfied: optree in e:\\ai\\ai-ml-course\\.venv\\lib\\site-packages (from keras>=3.5.0->tensorflow) (0.17.0)\n",
      "Requirement already satisfied: charset_normalizer<4,>=2 in e:\\ai\\ai-ml-course\\.venv\\lib\\site-packages (from requests<3,>=2.21.0->tensorflow) (3.4.2)\n",
      "Requirement already satisfied: idna<4,>=2.5 in e:\\ai\\ai-ml-course\\.venv\\lib\\site-packages (from requests<3,>=2.21.0->tensorflow) (3.10)\n",
      "Requirement already satisfied: urllib3<3,>=1.21.1 in e:\\ai\\ai-ml-course\\.venv\\lib\\site-packages (from requests<3,>=2.21.0->tensorflow) (2.5.0)\n",
      "Requirement already satisfied: certifi>=2017.4.17 in e:\\ai\\ai-ml-course\\.venv\\lib\\site-packages (from requests<3,>=2.21.0->tensorflow) (2025.8.3)\n",
      "Requirement already satisfied: tensorboard-data-server<0.8.0,>=0.7.0 in e:\\ai\\ai-ml-course\\.venv\\lib\\site-packages (from tensorboard~=2.19.0->tensorflow) (0.7.2)\n",
      "Requirement already satisfied: werkzeug>=1.0.1 in e:\\ai\\ai-ml-course\\.venv\\lib\\site-packages (from tensorboard~=2.19.0->tensorflow) (3.1.3)\n",
      "Requirement already satisfied: markdown>=2.6.8 in e:\\ai\\ai-ml-course\\.venv\\lib\\site-packages (from tensorboard~=2.19.0->tensorflow) (3.8.2)\n",
      "Requirement already satisfied: MarkupSafe>=2.1.1 in e:\\ai\\ai-ml-course\\.venv\\lib\\site-packages (from werkzeug>=1.0.1->tensorboard~=2.19.0->tensorflow) (3.0.2)\n",
      "Requirement already satisfied: markdown-it-py>=2.2.0 in e:\\ai\\ai-ml-course\\.venv\\lib\\site-packages (from rich->keras>=3.5.0->tensorflow) (3.0.0)\n",
      "Requirement already satisfied: pygments<3.0.0,>=2.13.0 in e:\\ai\\ai-ml-course\\.venv\\lib\\site-packages (from rich->keras>=3.5.0->tensorflow) (2.19.2)\n",
      "Requirement already satisfied: mdurl~=0.1 in e:\\ai\\ai-ml-course\\.venv\\lib\\site-packages (from markdown-it-py>=2.2.0->rich->keras>=3.5.0->tensorflow) (0.1.2)\n",
      "Note: you may need to restart the kernel to use updated packages.\n"
     ]
    },
    {
     "name": "stderr",
     "output_type": "stream",
     "text": [
      "WARNING: There was an error checking the latest version of pip.\n"
     ]
    }
   ],
   "source": [
    "%pip install tensorflow numpy pandas matplotlib seaborn scikit-learn scikit-learn-intelex"
   ]
  },
  {
   "cell_type": "code",
   "execution_count": 2,
   "id": "e74eed2b",
   "metadata": {},
   "outputs": [
    {
     "name": "stdout",
     "output_type": "stream",
     "text": [
      "False\n",
      "[]\n"
     ]
    }
   ],
   "source": [
    "import tensorflow as tf\n",
    "print(len(tf.config.list_physical_devices('GPU')) > 0)\n",
    "print(tf.config.list_physical_devices('GPU'))"
   ]
  },
  {
   "cell_type": "code",
   "execution_count": 3,
   "id": "d9c84ae3",
   "metadata": {},
   "outputs": [
    {
     "name": "stderr",
     "output_type": "stream",
     "text": [
      "Extension for Scikit-learn* enabled (https://github.com/uxlfoundation/scikit-learn-intelex)\n"
     ]
    }
   ],
   "source": [
    "from sklearnex import patch_sklearn\n",
    "patch_sklearn()"
   ]
  },
  {
   "cell_type": "code",
   "execution_count": 14,
   "id": "ed9bdaea",
   "metadata": {},
   "outputs": [],
   "source": [
    "mnist = tf.keras.datasets.mnist\n",
    "mnist_set= mnist.load_data() \n",
    "(x_train, y_train), (x_val, y_val) = mnist_set"
   ]
  },
  {
   "cell_type": "markdown",
   "id": "ce31339d",
   "metadata": {},
   "source": [
    "KNeighborsClassifier"
   ]
  },
  {
   "cell_type": "code",
   "execution_count": 16,
   "id": "3660d5e8",
   "metadata": {},
   "outputs": [],
   "source": [
    "x_train = x_train.reshape((x_train.shape[0], 28*28)).astype('float32') / 255\n",
    "x_val = x_val.reshape((x_val.shape[0], 28*28)).astype('float32') / 255\n"
   ]
  },
  {
   "cell_type": "code",
   "execution_count": 17,
   "id": "1019c2e7",
   "metadata": {},
   "outputs": [
    {
     "name": "stdout",
     "output_type": "stream",
     "text": [
      "0.9705\n"
     ]
    }
   ],
   "source": [
    "from sklearn.neighbors import KNeighborsClassifier\n",
    "from sklearn.metrics import accuracy_score\n",
    "from sklearn.preprocessing import StandardScaler\n",
    "from sklearn.pipeline import make_pipeline\n",
    "\n",
    "KN= KNeighborsClassifier(n_neighbors=3, n_jobs=-1)\n",
    "KN.fit(x_train, y_train)\n",
    "y_pred = KN.predict(x_val)\n",
    "print(accuracy_score(y_val, y_pred))"
   ]
  },
  {
   "cell_type": "code",
   "execution_count": 22,
   "id": "fac35cd9",
   "metadata": {},
   "outputs": [
    {
     "name": "stdout",
     "output_type": "stream",
     "text": [
      "tf.Tensor(\n",
      "[[ 974    1    1    0    0    1    2    1    0    0]\n",
      " [   0 1133    2    0    0    0    0    0    0    0]\n",
      " [  10    9  996    2    0    0    0   13    2    0]\n",
      " [   0    2    4  976    1   13    1    7    3    3]\n",
      " [   1    6    0    0  950    0    4    2    0   19]\n",
      " [   6    1    0   11    2  859    5    1    3    4]\n",
      " [   5    3    0    0    3    3  944    0    0    0]\n",
      " [   0   21    5    0    1    0    0  991    0   10]\n",
      " [   8    2    4   16    8   11    3    4  914    4]\n",
      " [   4    5    2    8    9    2    1    8    2  968]], shape=(10, 10), dtype=int32)\n"
     ]
    },
    {
     "data": {
      "image/png": "[encoded data removed]",
      "text/plain": [
       "<Figure size 1000x800 with 2 Axes>"
      ]
     },
     "metadata": {},
     "output_type": "display_data"
    }
   ],
   "source": [
    "confusion_matrix = tf.math.confusion_matrix(y_val, y_pred)\n",
    "print(confusion_matrix)\n",
    "\n",
    "#plot inn graph\n",
    "import matplotlib.pyplot as plt\n",
    "import seaborn as sns\n",
    "plt.figure(figsize=(10, 8))\n",
    "sns.heatmap(confusion_matrix, annot=True, fmt='d', cmap='Blues', xticklabels=range(10), yticklabels=range(10))\n",
    "plt.xlabel('Predicted Label')\n",
    "plt.ylabel('True Label')\n",
    "plt.title('Confusion Matrix')\n",
    "plt.show()"
   ]
  },
  {
   "cell_type": "code",
   "execution_count": 21,
   "id": "74e1d0fb",
   "metadata": {},
   "outputs": [
    {
     "name": "stdout",
     "output_type": "stream",
     "text": [
      "Precision: 0.9706882342922246\n",
      "Recall: 0.9705\n",
      "F1 Score: 0.9704523390961245\n"
     ]
    }
   ],
   "source": [
    "# Precision and Recall and f1 score\n",
    "from sklearn.metrics import precision_score, recall_score, f1_score\n",
    "precision = precision_score(y_val, y_pred, average='weighted')\n",
    "recall = recall_score(y_val, y_pred, average='weighted')\n",
    "f1 = f1_score(y_val, y_pred, average='weighted')\n",
    "print(f\"Precision: {precision}\")\n",
    "print(f\"Recall: {recall}\")\n",
    "print(f\"F1 Score: {f1}\")\n"
   ]
  },
  {
   "cell_type": "code",
   "execution_count": 24,
   "id": "2bab0a50",
   "metadata": {},
   "outputs": [
    {
     "name": "stdout",
     "output_type": "stream",
     "text": [
      "Fitting 3 folds for each of 10 candidates, totalling 30 fits\n"
     ]
    },
    {
     "name": "stderr",
     "output_type": "stream",
     "text": [
      "e:\\AI\\ai-ml-course\\.venv\\lib\\site-packages\\sklearn\\utils\\parallel.py:29: UserWarning: `sklearn.utils.parallel.Parallel` needs to be used in conjunction with `sklearn.utils.parallel.delayed` instead of `joblib.delayed` to correctly propagate the scikit-learn configuration to the joblib workers.\n",
      "  warnings.warn(\n"
     ]
    },
    {
     "name": "stdout",
     "output_type": "stream",
     "text": [
      "Best parameters found:  {'n_neighbors': 3, 'weights': 'distance'}\n",
      "Best cross-validation score:  0.9693333333333333\n",
      "Best model accuracy:  0.9717\n"
     ]
    }
   ],
   "source": [
    "# Grid Search\n",
    "from sklearn.model_selection import GridSearchCV\n",
    "param_grid = {\n",
    "    'n_neighbors': [1, 3, 5, 7, 9],\n",
    "    'weights': ['uniform', 'distance']\n",
    "}\n",
    "grid_search = GridSearchCV(KN, param_grid, cv=3, n_jobs=-1, verbose=1)\n",
    "grid_search.fit(x_train, y_train)\n",
    "print(\"Best parameters found: \", grid_search.best_params_)\n",
    "print(\"Best cross-validation score: \", grid_search.best_score_)\n",
    "# Best model evaluation\n",
    "best_knn = grid_search.best_estimator_\n",
    "y_pred_best = best_knn.predict(x_val)\n",
    "print(\"Best model accuracy: \", accuracy_score(y_val, y_pred_best))\n",
    "# Best model confusion matrix\n"
   ]
  },
  {
   "cell_type": "code",
   "execution_count": null,
   "id": "f1029c8a",
   "metadata": {},
   "outputs": [],
   "source": []
  }
 ],
 "metadata": {
  "kernelspec": {
   "display_name": ".venv (3.10.9)",
   "language": "python",
   "name": "python3"
  },
  "language_info": {
   "codemirror_mode": {
    "name": "ipython",
    "version": 3
   },
   "file_extension": ".py",
   "mimetype": "text/x-python",
   "name": "python",
   "nbconvert_exporter": "python",
   "pygments_lexer": "ipython3",
   "version": "3.10.9"
  }
 },
 "nbformat": 4,
 "nbformat_minor": 5
}
