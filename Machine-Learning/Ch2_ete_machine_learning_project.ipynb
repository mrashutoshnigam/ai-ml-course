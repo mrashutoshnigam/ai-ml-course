{
 "cells": [
  {
   "cell_type": "markdown",
   "id": "0f6bd34b",
   "metadata": {},
   "source": [
    "### Chapter 2: End to End Machine Learning Project"
   ]
  },
  {
   "cell_type": "markdown",
   "id": "27406e5a",
   "metadata": {},
   "source": []
  }
 ],
 "metadata": {
  "language_info": {
   "name": "python"
  }
 },
 "nbformat": 4,
 "nbformat_minor": 5
}
