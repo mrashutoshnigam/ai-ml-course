{
  "cells": [
    {
      "cell_type": "markdown",
      "metadata": {
        "id": "Ogj1I7DqjnyB"
      },
      "source": [
        "# VAE Implementation for Frey Face Dataset using Keras/TensorFlow"
      ]
    },
    {
      "cell_type": "code",
      "execution_count": 13,
      "metadata": {
        "id": "ANOhyQreY4jb"
      },
      "outputs": [
        {
          "name": "stdout",
          "output_type": "stream",
          "text": [
            "Requirement already satisfied: numpy in e:\\ai\\ai-ml-course\\venv\\lib\\site-packages (2.0.2)\n",
            "Requirement already satisfied: matplotlib in e:\\ai\\ai-ml-course\\venv\\lib\\site-packages (3.10.0)\n",
            "Requirement already satisfied: tensorflow in e:\\ai\\ai-ml-course\\venv\\lib\\site-packages (2.18.0)\n",
            "Requirement already satisfied: scipy in e:\\ai\\ai-ml-course\\venv\\lib\\site-packages (1.15.2)\n",
            "Requirement already satisfied: contourpy>=1.0.1 in e:\\ai\\ai-ml-course\\venv\\lib\\site-packages (from matplotlib) (1.3.1)\n",
            "Requirement already satisfied: cycler>=0.10 in e:\\ai\\ai-ml-course\\venv\\lib\\site-packages (from matplotlib) (0.12.1)\n",
            "Requirement already satisfied: fonttools>=4.22.0 in e:\\ai\\ai-ml-course\\venv\\lib\\site-packages (from matplotlib) (4.56.0)\n",
            "Requirement already satisfied: kiwisolver>=1.3.1 in e:\\ai\\ai-ml-course\\venv\\lib\\site-packages (from matplotlib) (1.4.8)\n",
            "Requirement already satisfied: packaging>=20.0 in e:\\ai\\ai-ml-course\\venv\\lib\\site-packages (from matplotlib) (24.2)\n",
            "Requirement already satisfied: pillow>=8 in e:\\ai\\ai-ml-course\\venv\\lib\\site-packages (from matplotlib) (11.1.0)\n",
            "Requirement already satisfied: pyparsing>=2.3.1 in e:\\ai\\ai-ml-course\\venv\\lib\\site-packages (from matplotlib) (3.2.1)\n",
            "Requirement already satisfied: python-dateutil>=2.7 in e:\\ai\\ai-ml-course\\venv\\lib\\site-packages (from matplotlib) (2.9.0.post0)\n",
            "Requirement already satisfied: tensorflow-intel==2.18.0 in e:\\ai\\ai-ml-course\\venv\\lib\\site-packages (from tensorflow) (2.18.0)\n",
            "Requirement already satisfied: absl-py>=1.0.0 in e:\\ai\\ai-ml-course\\venv\\lib\\site-packages (from tensorflow-intel==2.18.0->tensorflow) (2.1.0)\n",
            "Requirement already satisfied: astunparse>=1.6.0 in e:\\ai\\ai-ml-course\\venv\\lib\\site-packages (from tensorflow-intel==2.18.0->tensorflow) (1.6.3)\n",
            "Requirement already satisfied: flatbuffers>=24.3.25 in e:\\ai\\ai-ml-course\\venv\\lib\\site-packages (from tensorflow-intel==2.18.0->tensorflow) (25.2.10)\n",
            "Requirement already satisfied: gast!=0.5.0,!=0.5.1,!=0.5.2,>=0.2.1 in e:\\ai\\ai-ml-course\\venv\\lib\\site-packages (from tensorflow-intel==2.18.0->tensorflow) (0.6.0)\n",
            "Requirement already satisfied: google-pasta>=0.1.1 in e:\\ai\\ai-ml-course\\venv\\lib\\site-packages (from tensorflow-intel==2.18.0->tensorflow) (0.2.0)\n",
            "Requirement already satisfied: libclang>=13.0.0 in e:\\ai\\ai-ml-course\\venv\\lib\\site-packages (from tensorflow-intel==2.18.0->tensorflow) (18.1.1)\n",
            "Requirement already satisfied: opt-einsum>=2.3.2 in e:\\ai\\ai-ml-course\\venv\\lib\\site-packages (from tensorflow-intel==2.18.0->tensorflow) (3.4.0)\n",
            "Requirement already satisfied: protobuf!=4.21.0,!=4.21.1,!=4.21.2,!=4.21.3,!=4.21.4,!=4.21.5,<6.0.0dev,>=3.20.3 in e:\\ai\\ai-ml-course\\venv\\lib\\site-packages (from tensorflow-intel==2.18.0->tensorflow) (5.29.3)\n",
            "Requirement already satisfied: requests<3,>=2.21.0 in e:\\ai\\ai-ml-course\\venv\\lib\\site-packages (from tensorflow-intel==2.18.0->tensorflow) (2.32.3)\n",
            "Requirement already satisfied: setuptools in e:\\ai\\ai-ml-course\\venv\\lib\\site-packages (from tensorflow-intel==2.18.0->tensorflow) (65.5.0)\n",
            "Requirement already satisfied: six>=1.12.0 in e:\\ai\\ai-ml-course\\venv\\lib\\site-packages (from tensorflow-intel==2.18.0->tensorflow) (1.17.0)\n",
            "Requirement already satisfied: termcolor>=1.1.0 in e:\\ai\\ai-ml-course\\venv\\lib\\site-packages (from tensorflow-intel==2.18.0->tensorflow) (2.5.0)\n",
            "Requirement already satisfied: typing-extensions>=3.6.6 in e:\\ai\\ai-ml-course\\venv\\lib\\site-packages (from tensorflow-intel==2.18.0->tensorflow) (4.12.2)\n",
            "Requirement already satisfied: wrapt>=1.11.0 in e:\\ai\\ai-ml-course\\venv\\lib\\site-packages (from tensorflow-intel==2.18.0->tensorflow) (1.17.2)\n",
            "Requirement already satisfied: grpcio<2.0,>=1.24.3 in e:\\ai\\ai-ml-course\\venv\\lib\\site-packages (from tensorflow-intel==2.18.0->tensorflow) (1.70.0)\n",
            "Requirement already satisfied: tensorboard<2.19,>=2.18 in e:\\ai\\ai-ml-course\\venv\\lib\\site-packages (from tensorflow-intel==2.18.0->tensorflow) (2.18.0)\n",
            "Requirement already satisfied: keras>=3.5.0 in e:\\ai\\ai-ml-course\\venv\\lib\\site-packages (from tensorflow-intel==2.18.0->tensorflow) (3.8.0)\n",
            "Requirement already satisfied: h5py>=3.11.0 in e:\\ai\\ai-ml-course\\venv\\lib\\site-packages (from tensorflow-intel==2.18.0->tensorflow) (3.12.1)\n",
            "Requirement already satisfied: ml-dtypes<0.5.0,>=0.4.0 in e:\\ai\\ai-ml-course\\venv\\lib\\site-packages (from tensorflow-intel==2.18.0->tensorflow) (0.4.1)\n",
            "Requirement already satisfied: tensorflow-io-gcs-filesystem>=0.23.1 in e:\\ai\\ai-ml-course\\venv\\lib\\site-packages (from tensorflow-intel==2.18.0->tensorflow) (0.31.0)\n",
            "Requirement already satisfied: wheel<1.0,>=0.23.0 in e:\\ai\\ai-ml-course\\venv\\lib\\site-packages (from astunparse>=1.6.0->tensorflow-intel==2.18.0->tensorflow) (0.45.1)\n",
            "Requirement already satisfied: rich in e:\\ai\\ai-ml-course\\venv\\lib\\site-packages (from keras>=3.5.0->tensorflow-intel==2.18.0->tensorflow) (13.9.4)\n",
            "Requirement already satisfied: namex in e:\\ai\\ai-ml-course\\venv\\lib\\site-packages (from keras>=3.5.0->tensorflow-intel==2.18.0->tensorflow) (0.0.8)\n",
            "Requirement already satisfied: optree in e:\\ai\\ai-ml-course\\venv\\lib\\site-packages (from keras>=3.5.0->tensorflow-intel==2.18.0->tensorflow) (0.14.0)\n",
            "Requirement already satisfied: charset-normalizer<4,>=2 in e:\\ai\\ai-ml-course\\venv\\lib\\site-packages (from requests<3,>=2.21.0->tensorflow-intel==2.18.0->tensorflow) (3.4.1)\n",
            "Requirement already satisfied: idna<4,>=2.5 in e:\\ai\\ai-ml-course\\venv\\lib\\site-packages (from requests<3,>=2.21.0->tensorflow-intel==2.18.0->tensorflow) (3.10)\n",
            "Requirement already satisfied: urllib3<3,>=1.21.1 in e:\\ai\\ai-ml-course\\venv\\lib\\site-packages (from requests<3,>=2.21.0->tensorflow-intel==2.18.0->tensorflow) (2.3.0)\n",
            "Requirement already satisfied: certifi>=2017.4.17 in e:\\ai\\ai-ml-course\\venv\\lib\\site-packages (from requests<3,>=2.21.0->tensorflow-intel==2.18.0->tensorflow) (2025.1.31)\n",
            "Requirement already satisfied: markdown>=2.6.8 in e:\\ai\\ai-ml-course\\venv\\lib\\site-packages (from tensorboard<2.19,>=2.18->tensorflow-intel==2.18.0->tensorflow) (3.7)\n",
            "Requirement already satisfied: tensorboard-data-server<0.8.0,>=0.7.0 in e:\\ai\\ai-ml-course\\venv\\lib\\site-packages (from tensorboard<2.19,>=2.18->tensorflow-intel==2.18.0->tensorflow) (0.7.2)\n",
            "Requirement already satisfied: werkzeug>=1.0.1 in e:\\ai\\ai-ml-course\\venv\\lib\\site-packages (from tensorboard<2.19,>=2.18->tensorflow-intel==2.18.0->tensorflow) (3.1.3)\n",
            "Requirement already satisfied: MarkupSafe>=2.1.1 in e:\\ai\\ai-ml-course\\venv\\lib\\site-packages (from werkzeug>=1.0.1->tensorboard<2.19,>=2.18->tensorflow-intel==2.18.0->tensorflow) (3.0.2)\n",
            "Requirement already satisfied: markdown-it-py>=2.2.0 in e:\\ai\\ai-ml-course\\venv\\lib\\site-packages (from rich->keras>=3.5.0->tensorflow-intel==2.18.0->tensorflow) (3.0.0)\n",
            "Requirement already satisfied: pygments<3.0.0,>=2.13.0 in e:\\ai\\ai-ml-course\\venv\\lib\\site-packages (from rich->keras>=3.5.0->tensorflow-intel==2.18.0->tensorflow) (2.19.1)\n",
            "Requirement already satisfied: mdurl~=0.1 in e:\\ai\\ai-ml-course\\venv\\lib\\site-packages (from markdown-it-py>=2.2.0->rich->keras>=3.5.0->tensorflow-intel==2.18.0->tensorflow) (0.1.2)\n"
          ]
        },
        {
          "name": "stderr",
          "output_type": "stream",
          "text": [
            "\n",
            "[notice] A new release of pip is available: 24.0 -> 25.1.1\n",
            "[notice] To update, run: python.exe -m pip install --upgrade pip\n"
          ]
        }
      ],
      "source": [
        "# Install required packages if needed\n",
        "!pip install numpy matplotlib tensorflow scipy"
      ]
    },
    {
      "cell_type": "markdown",
      "metadata": {
        "id": "HH3Tk3EAjdQt"
      },
      "source": [
        "### 1. Setup and Imports"
      ]
    },
    {
      "cell_type": "code",
      "execution_count": 14,
      "metadata": {
        "id": "PZk81QPZjXC2"
      },
      "outputs": [],
      "source": [
        "# Import necessary libraries\n",
        "import tensorflow as tf\n",
        "from tensorflow import keras\n",
        "from tensorflow.keras import layers\n",
        "import numpy as np\n",
        "import matplotlib.pyplot as plt\n",
        "import scipy.io\n",
        "import os\n",
        "import urllib.request"
      ]
    },
    {
      "cell_type": "markdown",
      "metadata": {
        "id": "qfOTNZqGlQ8H"
      },
      "source": [
        "### 2. Parameters and Configuration"
      ]
    },
    {
      "cell_type": "code",
      "execution_count": 15,
      "metadata": {
        "id": "DvgBuWqTlOaO"
      },
      "outputs": [],
      "source": [
        "# Define key parameters for the model and training\n",
        "BATCH_SIZE = 128\n",
        "LATENT_DIM = 20  # Size of the latent space (embedding vector)\n",
        "ORIGINAL_IMAGE_SHAPE = (28, 20)\n",
        "ORIGINAL_IMAGE_DIM = np.prod(ORIGINAL_IMAGE_SHAPE)\n",
        "EPOCHS = 200\n",
        "LEARNING_RATE = 1e-3\n",
        "DATASET_URL = \"https://cs.nyu.edu/home/people/in_memoriam/roweis/data/frey_rawface.mat\"\n",
        "DATASET_FILENAME = \"/data/input/q2/frey_rawface.mat\""
      ]
    },
    {
      "cell_type": "markdown",
      "metadata": {
        "id": "VdxXCsSIjx2J"
      },
      "source": [
        "### 3. Data Loading and Preprocessing"
      ]
    },
    {
      "cell_type": "code",
      "execution_count": 16,
      "metadata": {
        "colab": {
          "base_uri": "https://localhost:8080/"
        },
        "id": "93kvs31sYZ0G",
        "outputId": "60b9c49b-8370-4d05-878b-3c11b1320a67"
      },
      "outputs": [
        {
          "name": "stdout",
          "output_type": "stream",
          "text": [
            "Dataset shape: (1965, 560)\n"
          ]
        }
      ],
      "source": [
        "os.makedirs(os.path.dirname(DATASET_FILENAME), exist_ok=True)\n",
        "# Download and load the Frey Face dataset\n",
        "if not os.path.exists(DATASET_FILENAME):\n",
        "    print(\"Downloading Frey Face dataset...\")\n",
        "    urllib.request.urlretrieve(DATASET_URL, DATASET_FILENAME)\n",
        "    print(\"Download complete.\")\n",
        "\n",
        "# Load the .mat file\n",
        "mat_data = scipy.io.loadmat(DATASET_FILENAME, squeeze_me=True, struct_as_record=False)\n",
        "frey_faces = mat_data['ff'].T.astype('float32')\n",
        "\n",
        "# Preprocess and normalize the data\n",
        "frey_faces /= 255.0\n",
        "frey_faces_flat = frey_faces.reshape(-1, ORIGINAL_IMAGE_DIM)\n",
        "\n",
        "# Create a TensorFlow Dataset\n",
        "dataset = tf.data.Dataset.from_tensor_slices(frey_faces_flat)\n",
        "dataset = dataset.shuffle(buffer_size=1024).batch(BATCH_SIZE)\n",
        "print(f\"Dataset shape: {frey_faces_flat.shape}\")"
      ]
    },
    {
      "cell_type": "markdown",
      "metadata": {
        "id": "hR3TqTtEk9Vx"
      },
      "source": [
        "#### 4. VAE Model Definition"
      ]
    },
    {
      "cell_type": "code",
      "execution_count": 17,
      "metadata": {
        "colab": {
          "base_uri": "https://localhost:8080/",
          "height": 529
        },
        "id": "yTnZ-knMlxU2",
        "outputId": "4d7831c1-833e-41c6-ab6c-953cd4198a98"
      },
      "outputs": [
        {
          "data": {
            "text/html": [
              "<pre style=\"white-space:pre;overflow-x:auto;line-height:normal;font-family:Menlo,'DejaVu Sans Mono',consolas,'Courier New',monospace\"><span style=\"font-weight: bold\">Model: \"encoder\"</span>\n",
              "</pre>\n"
            ],
            "text/plain": [
              "\u001b[1mModel: \"encoder\"\u001b[0m\n"
            ]
          },
          "metadata": {},
          "output_type": "display_data"
        },
        {
          "data": {
            "text/html": [
              "<pre style=\"white-space:pre;overflow-x:auto;line-height:normal;font-family:Menlo,'DejaVu Sans Mono',consolas,'Courier New',monospace\">┏━━━━━━━━━━━━━━━━━━━━━┳━━━━━━━━━━━━━━━━━━━┳━━━━━━━━━━━━┳━━━━━━━━━━━━━━━━━━━┓\n",
              "┃<span style=\"font-weight: bold\"> Layer (type)        </span>┃<span style=\"font-weight: bold\"> Output Shape      </span>┃<span style=\"font-weight: bold\">    Param # </span>┃<span style=\"font-weight: bold\"> Connected to      </span>┃\n",
              "┡━━━━━━━━━━━━━━━━━━━━━╇━━━━━━━━━━━━━━━━━━━╇━━━━━━━━━━━━╇━━━━━━━━━━━━━━━━━━━┩\n",
              "│ input_layer_2       │ (<span style=\"color: #00d7ff; text-decoration-color: #00d7ff\">None</span>, <span style=\"color: #00af00; text-decoration-color: #00af00\">560</span>)       │          <span style=\"color: #00af00; text-decoration-color: #00af00\">0</span> │ -                 │\n",
              "│ (<span style=\"color: #0087ff; text-decoration-color: #0087ff\">InputLayer</span>)        │                   │            │                   │\n",
              "├─────────────────────┼───────────────────┼────────────┼───────────────────┤\n",
              "│ dense_3 (<span style=\"color: #0087ff; text-decoration-color: #0087ff\">Dense</span>)     │ (<span style=\"color: #00d7ff; text-decoration-color: #00d7ff\">None</span>, <span style=\"color: #00af00; text-decoration-color: #00af00\">256</span>)       │    <span style=\"color: #00af00; text-decoration-color: #00af00\">143,616</span> │ input_layer_2[<span style=\"color: #00af00; text-decoration-color: #00af00\">0</span>]… │\n",
              "├─────────────────────┼───────────────────┼────────────┼───────────────────┤\n",
              "│ z_mean (<span style=\"color: #0087ff; text-decoration-color: #0087ff\">Dense</span>)      │ (<span style=\"color: #00d7ff; text-decoration-color: #00d7ff\">None</span>, <span style=\"color: #00af00; text-decoration-color: #00af00\">20</span>)        │      <span style=\"color: #00af00; text-decoration-color: #00af00\">5,140</span> │ dense_3[<span style=\"color: #00af00; text-decoration-color: #00af00\">0</span>][<span style=\"color: #00af00; text-decoration-color: #00af00\">0</span>]     │\n",
              "├─────────────────────┼───────────────────┼────────────┼───────────────────┤\n",
              "│ z_log_var (<span style=\"color: #0087ff; text-decoration-color: #0087ff\">Dense</span>)   │ (<span style=\"color: #00d7ff; text-decoration-color: #00d7ff\">None</span>, <span style=\"color: #00af00; text-decoration-color: #00af00\">20</span>)        │      <span style=\"color: #00af00; text-decoration-color: #00af00\">5,140</span> │ dense_3[<span style=\"color: #00af00; text-decoration-color: #00af00\">0</span>][<span style=\"color: #00af00; text-decoration-color: #00af00\">0</span>]     │\n",
              "├─────────────────────┼───────────────────┼────────────┼───────────────────┤\n",
              "│ sampling_1          │ (<span style=\"color: #00d7ff; text-decoration-color: #00d7ff\">None</span>, <span style=\"color: #00af00; text-decoration-color: #00af00\">20</span>)        │          <span style=\"color: #00af00; text-decoration-color: #00af00\">0</span> │ z_mean[<span style=\"color: #00af00; text-decoration-color: #00af00\">0</span>][<span style=\"color: #00af00; text-decoration-color: #00af00\">0</span>],     │\n",
              "│ (<span style=\"color: #0087ff; text-decoration-color: #0087ff\">Sampling</span>)          │                   │            │ z_log_var[<span style=\"color: #00af00; text-decoration-color: #00af00\">0</span>][<span style=\"color: #00af00; text-decoration-color: #00af00\">0</span>]   │\n",
              "└─────────────────────┴───────────────────┴────────────┴───────────────────┘\n",
              "</pre>\n"
            ],
            "text/plain": [
              "┏━━━━━━━━━━━━━━━━━━━━━┳━━━━━━━━━━━━━━━━━━━┳━━━━━━━━━━━━┳━━━━━━━━━━━━━━━━━━━┓\n",
              "┃\u001b[1m \u001b[0m\u001b[1mLayer (type)       \u001b[0m\u001b[1m \u001b[0m┃\u001b[1m \u001b[0m\u001b[1mOutput Shape     \u001b[0m\u001b[1m \u001b[0m┃\u001b[1m \u001b[0m\u001b[1m   Param #\u001b[0m\u001b[1m \u001b[0m┃\u001b[1m \u001b[0m\u001b[1mConnected to     \u001b[0m\u001b[1m \u001b[0m┃\n",
              "┡━━━━━━━━━━━━━━━━━━━━━╇━━━━━━━━━━━━━━━━━━━╇━━━━━━━━━━━━╇━━━━━━━━━━━━━━━━━━━┩\n",
              "│ input_layer_2       │ (\u001b[38;5;45mNone\u001b[0m, \u001b[38;5;34m560\u001b[0m)       │          \u001b[38;5;34m0\u001b[0m │ -                 │\n",
              "│ (\u001b[38;5;33mInputLayer\u001b[0m)        │                   │            │                   │\n",
              "├─────────────────────┼───────────────────┼────────────┼───────────────────┤\n",
              "│ dense_3 (\u001b[38;5;33mDense\u001b[0m)     │ (\u001b[38;5;45mNone\u001b[0m, \u001b[38;5;34m256\u001b[0m)       │    \u001b[38;5;34m143,616\u001b[0m │ input_layer_2[\u001b[38;5;34m0\u001b[0m]… │\n",
              "├─────────────────────┼───────────────────┼────────────┼───────────────────┤\n",
              "│ z_mean (\u001b[38;5;33mDense\u001b[0m)      │ (\u001b[38;5;45mNone\u001b[0m, \u001b[38;5;34m20\u001b[0m)        │      \u001b[38;5;34m5,140\u001b[0m │ dense_3[\u001b[38;5;34m0\u001b[0m][\u001b[38;5;34m0\u001b[0m]     │\n",
              "├─────────────────────┼───────────────────┼────────────┼───────────────────┤\n",
              "│ z_log_var (\u001b[38;5;33mDense\u001b[0m)   │ (\u001b[38;5;45mNone\u001b[0m, \u001b[38;5;34m20\u001b[0m)        │      \u001b[38;5;34m5,140\u001b[0m │ dense_3[\u001b[38;5;34m0\u001b[0m][\u001b[38;5;34m0\u001b[0m]     │\n",
              "├─────────────────────┼───────────────────┼────────────┼───────────────────┤\n",
              "│ sampling_1          │ (\u001b[38;5;45mNone\u001b[0m, \u001b[38;5;34m20\u001b[0m)        │          \u001b[38;5;34m0\u001b[0m │ z_mean[\u001b[38;5;34m0\u001b[0m][\u001b[38;5;34m0\u001b[0m],     │\n",
              "│ (\u001b[38;5;33mSampling\u001b[0m)          │                   │            │ z_log_var[\u001b[38;5;34m0\u001b[0m][\u001b[38;5;34m0\u001b[0m]   │\n",
              "└─────────────────────┴───────────────────┴────────────┴───────────────────┘\n"
            ]
          },
          "metadata": {},
          "output_type": "display_data"
        },
        {
          "data": {
            "text/html": [
              "<pre style=\"white-space:pre;overflow-x:auto;line-height:normal;font-family:Menlo,'DejaVu Sans Mono',consolas,'Courier New',monospace\"><span style=\"font-weight: bold\"> Total params: </span><span style=\"color: #00af00; text-decoration-color: #00af00\">153,896</span> (601.16 KB)\n",
              "</pre>\n"
            ],
            "text/plain": [
              "\u001b[1m Total params: \u001b[0m\u001b[38;5;34m153,896\u001b[0m (601.16 KB)\n"
            ]
          },
          "metadata": {},
          "output_type": "display_data"
        },
        {
          "data": {
            "text/html": [
              "<pre style=\"white-space:pre;overflow-x:auto;line-height:normal;font-family:Menlo,'DejaVu Sans Mono',consolas,'Courier New',monospace\"><span style=\"font-weight: bold\"> Trainable params: </span><span style=\"color: #00af00; text-decoration-color: #00af00\">153,896</span> (601.16 KB)\n",
              "</pre>\n"
            ],
            "text/plain": [
              "\u001b[1m Trainable params: \u001b[0m\u001b[38;5;34m153,896\u001b[0m (601.16 KB)\n"
            ]
          },
          "metadata": {},
          "output_type": "display_data"
        },
        {
          "data": {
            "text/html": [
              "<pre style=\"white-space:pre;overflow-x:auto;line-height:normal;font-family:Menlo,'DejaVu Sans Mono',consolas,'Courier New',monospace\"><span style=\"font-weight: bold\"> Non-trainable params: </span><span style=\"color: #00af00; text-decoration-color: #00af00\">0</span> (0.00 B)\n",
              "</pre>\n"
            ],
            "text/plain": [
              "\u001b[1m Non-trainable params: \u001b[0m\u001b[38;5;34m0\u001b[0m (0.00 B)\n"
            ]
          },
          "metadata": {},
          "output_type": "display_data"
        },
        {
          "data": {
            "text/html": [
              "<pre style=\"white-space:pre;overflow-x:auto;line-height:normal;font-family:Menlo,'DejaVu Sans Mono',consolas,'Courier New',monospace\"><span style=\"font-weight: bold\">Model: \"decoder\"</span>\n",
              "</pre>\n"
            ],
            "text/plain": [
              "\u001b[1mModel: \"decoder\"\u001b[0m\n"
            ]
          },
          "metadata": {},
          "output_type": "display_data"
        },
        {
          "data": {
            "text/html": [
              "<pre style=\"white-space:pre;overflow-x:auto;line-height:normal;font-family:Menlo,'DejaVu Sans Mono',consolas,'Courier New',monospace\">┏━━━━━━━━━━━━━━━━━━━━━━━━━━━━━━━━━┳━━━━━━━━━━━━━━━━━━━━━━━━┳━━━━━━━━━━━━━━━┓\n",
              "┃<span style=\"font-weight: bold\"> Layer (type)                    </span>┃<span style=\"font-weight: bold\"> Output Shape           </span>┃<span style=\"font-weight: bold\">       Param # </span>┃\n",
              "┡━━━━━━━━━━━━━━━━━━━━━━━━━━━━━━━━━╇━━━━━━━━━━━━━━━━━━━━━━━━╇━━━━━━━━━━━━━━━┩\n",
              "│ input_layer_3 (<span style=\"color: #0087ff; text-decoration-color: #0087ff\">InputLayer</span>)      │ (<span style=\"color: #00d7ff; text-decoration-color: #00d7ff\">None</span>, <span style=\"color: #00af00; text-decoration-color: #00af00\">20</span>)             │             <span style=\"color: #00af00; text-decoration-color: #00af00\">0</span> │\n",
              "├─────────────────────────────────┼────────────────────────┼───────────────┤\n",
              "│ dense_4 (<span style=\"color: #0087ff; text-decoration-color: #0087ff\">Dense</span>)                 │ (<span style=\"color: #00d7ff; text-decoration-color: #00d7ff\">None</span>, <span style=\"color: #00af00; text-decoration-color: #00af00\">256</span>)            │         <span style=\"color: #00af00; text-decoration-color: #00af00\">5,376</span> │\n",
              "├─────────────────────────────────┼────────────────────────┼───────────────┤\n",
              "│ dense_5 (<span style=\"color: #0087ff; text-decoration-color: #0087ff\">Dense</span>)                 │ (<span style=\"color: #00d7ff; text-decoration-color: #00d7ff\">None</span>, <span style=\"color: #00af00; text-decoration-color: #00af00\">560</span>)            │       <span style=\"color: #00af00; text-decoration-color: #00af00\">143,920</span> │\n",
              "└─────────────────────────────────┴────────────────────────┴───────────────┘\n",
              "</pre>\n"
            ],
            "text/plain": [
              "┏━━━━━━━━━━━━━━━━━━━━━━━━━━━━━━━━━┳━━━━━━━━━━━━━━━━━━━━━━━━┳━━━━━━━━━━━━━━━┓\n",
              "┃\u001b[1m \u001b[0m\u001b[1mLayer (type)                   \u001b[0m\u001b[1m \u001b[0m┃\u001b[1m \u001b[0m\u001b[1mOutput Shape          \u001b[0m\u001b[1m \u001b[0m┃\u001b[1m \u001b[0m\u001b[1m      Param #\u001b[0m\u001b[1m \u001b[0m┃\n",
              "┡━━━━━━━━━━━━━━━━━━━━━━━━━━━━━━━━━╇━━━━━━━━━━━━━━━━━━━━━━━━╇━━━━━━━━━━━━━━━┩\n",
              "│ input_layer_3 (\u001b[38;5;33mInputLayer\u001b[0m)      │ (\u001b[38;5;45mNone\u001b[0m, \u001b[38;5;34m20\u001b[0m)             │             \u001b[38;5;34m0\u001b[0m │\n",
              "├─────────────────────────────────┼────────────────────────┼───────────────┤\n",
              "│ dense_4 (\u001b[38;5;33mDense\u001b[0m)                 │ (\u001b[38;5;45mNone\u001b[0m, \u001b[38;5;34m256\u001b[0m)            │         \u001b[38;5;34m5,376\u001b[0m │\n",
              "├─────────────────────────────────┼────────────────────────┼───────────────┤\n",
              "│ dense_5 (\u001b[38;5;33mDense\u001b[0m)                 │ (\u001b[38;5;45mNone\u001b[0m, \u001b[38;5;34m560\u001b[0m)            │       \u001b[38;5;34m143,920\u001b[0m │\n",
              "└─────────────────────────────────┴────────────────────────┴───────────────┘\n"
            ]
          },
          "metadata": {},
          "output_type": "display_data"
        },
        {
          "data": {
            "text/html": [
              "<pre style=\"white-space:pre;overflow-x:auto;line-height:normal;font-family:Menlo,'DejaVu Sans Mono',consolas,'Courier New',monospace\"><span style=\"font-weight: bold\"> Total params: </span><span style=\"color: #00af00; text-decoration-color: #00af00\">149,296</span> (583.19 KB)\n",
              "</pre>\n"
            ],
            "text/plain": [
              "\u001b[1m Total params: \u001b[0m\u001b[38;5;34m149,296\u001b[0m (583.19 KB)\n"
            ]
          },
          "metadata": {},
          "output_type": "display_data"
        },
        {
          "data": {
            "text/html": [
              "<pre style=\"white-space:pre;overflow-x:auto;line-height:normal;font-family:Menlo,'DejaVu Sans Mono',consolas,'Courier New',monospace\"><span style=\"font-weight: bold\"> Trainable params: </span><span style=\"color: #00af00; text-decoration-color: #00af00\">149,296</span> (583.19 KB)\n",
              "</pre>\n"
            ],
            "text/plain": [
              "\u001b[1m Trainable params: \u001b[0m\u001b[38;5;34m149,296\u001b[0m (583.19 KB)\n"
            ]
          },
          "metadata": {},
          "output_type": "display_data"
        },
        {
          "data": {
            "text/html": [
              "<pre style=\"white-space:pre;overflow-x:auto;line-height:normal;font-family:Menlo,'DejaVu Sans Mono',consolas,'Courier New',monospace\"><span style=\"font-weight: bold\"> Non-trainable params: </span><span style=\"color: #00af00; text-decoration-color: #00af00\">0</span> (0.00 B)\n",
              "</pre>\n"
            ],
            "text/plain": [
              "\u001b[1m Non-trainable params: \u001b[0m\u001b[38;5;34m0\u001b[0m (0.00 B)\n"
            ]
          },
          "metadata": {},
          "output_type": "display_data"
        }
      ],
      "source": [
        "# (a) Sampling Layer for the Reparameterization Trick\n",
        "class Sampling(layers.Layer):\n",
        "    \"\"\"Uses (z_mean, z_log_var) to sample z, the vector encoding an image.\"\"\"\n",
        "    def call(self, inputs):\n",
        "        z_mean, z_log_var = inputs\n",
        "        batch = tf.shape(z_mean)[0]\n",
        "        dim = tf.shape(z_mean)[1]\n",
        "        epsilon = tf.keras.backend.random_normal(shape=(batch, dim))\n",
        "        return z_mean + tf.exp(0.5 * z_log_var) * epsilon\n",
        "\n",
        "# (b) Encoder Network\n",
        "h_dim = 256\n",
        "encoder_inputs = keras.Input(shape=(ORIGINAL_IMAGE_DIM,))\n",
        "x = layers.Dense(h_dim, activation=\"relu\")(encoder_inputs)\n",
        "z_mean = layers.Dense(LATENT_DIM, name=\"z_mean\")(x)\n",
        "z_log_var = layers.Dense(LATENT_DIM, name=\"z_log_var\")(x)\n",
        "z = Sampling()([z_mean, z_log_var])\n",
        "encoder = keras.Model(encoder_inputs, [z_mean, z_log_var, z], name=\"encoder\")\n",
        "encoder.summary()\n",
        "\n",
        "# (c) Decoder Network\n",
        "latent_inputs = keras.Input(shape=(LATENT_DIM,))\n",
        "x = layers.Dense(h_dim, activation=\"relu\")(latent_inputs)\n",
        "decoder_outputs = layers.Dense(ORIGINAL_IMAGE_DIM, activation=\"sigmoid\")(x)\n",
        "decoder = keras.Model(latent_inputs, decoder_outputs, name=\"decoder\")\n",
        "decoder.summary()\n",
        "\n",
        "# (d) VAE Model connecting Encoder and Decoder\n",
        "class VAE(keras.Model):\n",
        "    def __init__(self, encoder, decoder, **kwargs):\n",
        "        super(VAE, self).__init__(**kwargs)\n",
        "        self.encoder = encoder\n",
        "        self.decoder = decoder\n",
        "        self.total_loss_tracker = keras.metrics.Mean(name=\"total_loss\")\n",
        "        self.reconstruction_loss_tracker = keras.metrics.Mean(name=\"reconstruction_loss\")\n",
        "        self.kl_loss_tracker = keras.metrics.Mean(name=\"kl_loss\")\n",
        "\n",
        "    @property\n",
        "    def metrics(self):\n",
        "        return [\n",
        "            self.total_loss_tracker,\n",
        "            self.reconstruction_loss_tracker,\n",
        "            self.kl_loss_tracker,\n",
        "        ]\n",
        "\n",
        "    def train_step(self, data):\n",
        "        with tf.GradientTape() as tape:\n",
        "            z_mean, z_log_var, z = self.encoder(data)\n",
        "            reconstruction = self.decoder(z)\n",
        "            reconstruction_loss = tf.reduce_mean(\n",
        "                keras.losses.binary_crossentropy(data, reconstruction)\n",
        "            )\n",
        "            reconstruction_loss *= ORIGINAL_IMAGE_DIM\n",
        "            kl_loss = 1 + z_log_var - tf.square(z_mean) - tf.exp(z_log_var)\n",
        "            kl_loss = tf.reduce_mean(kl_loss)\n",
        "            kl_loss *= -0.5\n",
        "            total_loss = reconstruction_loss + kl_loss\n",
        "        grads = tape.gradient(total_loss, self.trainable_weights)\n",
        "        self.optimizer.apply_gradients(zip(grads, self.trainable_weights))\n",
        "        self.total_loss_tracker.update_state(total_loss)\n",
        "        self.reconstruction_loss_tracker.update_state(reconstruction_loss)\n",
        "        self.kl_loss_tracker.update_state(kl_loss)\n",
        "        return {\n",
        "            \"loss\": self.total_loss_tracker.result(),\n",
        "            \"reconstruction_loss\": self.reconstruction_loss_tracker.result(),\n",
        "            \"kl_loss\": self.kl_loss_tracker.result(),\n",
        "        }"
      ]
    },
    {
      "cell_type": "markdown",
      "metadata": {
        "id": "67MsRhy2mAYg"
      },
      "source": [
        "### 5. Training"
      ]
    },
    {
      "cell_type": "code",
      "execution_count": 18,
      "metadata": {
        "colab": {
          "base_uri": "https://localhost:8080/"
        },
        "id": "ikYlKVRymEtA",
        "outputId": "887f032b-51c3-42c1-9918-51809ae38a56"
      },
      "outputs": [
        {
          "name": "stdout",
          "output_type": "stream",
          "text": [
            "Starting training...\n",
            "Epoch 1/200\n",
            "16/16 - 1s - 63ms/step - kl_loss: 1.5087 - loss: 368.6476 - reconstruction_loss: 367.1389\n",
            "Epoch 2/200\n",
            "16/16 - 0s - 3ms/step - kl_loss: 1.4421 - loss: 354.2386 - reconstruction_loss: 352.7964\n",
            "Epoch 3/200\n",
            "16/16 - 0s - 4ms/step - kl_loss: 1.0265 - loss: 352.6897 - reconstruction_loss: 351.6632\n",
            "Epoch 4/200\n",
            "16/16 - 0s - 4ms/step - kl_loss: 1.0078 - loss: 351.4720 - reconstruction_loss: 350.4642\n",
            "Epoch 5/200\n",
            "16/16 - 0s - 4ms/step - kl_loss: 1.0685 - loss: 350.0745 - reconstruction_loss: 349.0060\n",
            "Epoch 6/200\n",
            "16/16 - 0s - 4ms/step - kl_loss: 1.0238 - loss: 349.2800 - reconstruction_loss: 348.2562\n",
            "Epoch 7/200\n",
            "16/16 - 0s - 4ms/step - kl_loss: 1.0863 - loss: 348.3994 - reconstruction_loss: 347.3131\n",
            "Epoch 8/200\n",
            "16/16 - 0s - 3ms/step - kl_loss: 1.1126 - loss: 347.4030 - reconstruction_loss: 346.2904\n",
            "Epoch 9/200\n",
            "16/16 - 0s - 3ms/step - kl_loss: 1.1373 - loss: 346.7434 - reconstruction_loss: 345.6061\n",
            "Epoch 10/200\n",
            "16/16 - 0s - 3ms/step - kl_loss: 1.1564 - loss: 346.3700 - reconstruction_loss: 345.2135\n",
            "Epoch 11/200\n",
            "16/16 - 0s - 4ms/step - kl_loss: 1.1666 - loss: 346.0121 - reconstruction_loss: 344.8456\n",
            "Epoch 12/200\n",
            "16/16 - 0s - 4ms/step - kl_loss: 1.1769 - loss: 345.6519 - reconstruction_loss: 344.4750\n",
            "Epoch 13/200\n",
            "16/16 - 0s - 4ms/step - kl_loss: 1.1807 - loss: 345.3127 - reconstruction_loss: 344.1319\n",
            "Epoch 14/200\n",
            "16/16 - 0s - 3ms/step - kl_loss: 1.1979 - loss: 345.1633 - reconstruction_loss: 343.9654\n",
            "Epoch 15/200\n",
            "16/16 - 0s - 3ms/step - kl_loss: 1.1994 - loss: 344.8544 - reconstruction_loss: 343.6550\n",
            "Epoch 16/200\n",
            "16/16 - 0s - 3ms/step - kl_loss: 1.1942 - loss: 344.5653 - reconstruction_loss: 343.3711\n",
            "Epoch 17/200\n",
            "16/16 - 0s - 4ms/step - kl_loss: 1.2285 - loss: 344.4326 - reconstruction_loss: 343.2041\n",
            "Epoch 18/200\n",
            "16/16 - 0s - 4ms/step - kl_loss: 1.2136 - loss: 344.1898 - reconstruction_loss: 342.9761\n",
            "Epoch 19/200\n",
            "16/16 - 0s - 4ms/step - kl_loss: 1.2187 - loss: 344.0211 - reconstruction_loss: 342.8024\n",
            "Epoch 20/200\n",
            "16/16 - 0s - 4ms/step - kl_loss: 1.2143 - loss: 343.8553 - reconstruction_loss: 342.6409\n",
            "Epoch 21/200\n",
            "16/16 - 0s - 4ms/step - kl_loss: 1.2378 - loss: 343.6225 - reconstruction_loss: 342.3847\n",
            "Epoch 22/200\n",
            "16/16 - 0s - 4ms/step - kl_loss: 1.2274 - loss: 343.5147 - reconstruction_loss: 342.2873\n",
            "Epoch 23/200\n",
            "16/16 - 0s - 3ms/step - kl_loss: 1.2349 - loss: 343.3921 - reconstruction_loss: 342.1571\n",
            "Epoch 24/200\n",
            "16/16 - 0s - 4ms/step - kl_loss: 1.2350 - loss: 343.3470 - reconstruction_loss: 342.1121\n",
            "Epoch 25/200\n",
            "16/16 - 0s - 3ms/step - kl_loss: 1.2318 - loss: 343.2892 - reconstruction_loss: 342.0574\n",
            "Epoch 26/200\n",
            "16/16 - 0s - 4ms/step - kl_loss: 1.2518 - loss: 343.1753 - reconstruction_loss: 341.9235\n",
            "Epoch 27/200\n",
            "16/16 - 0s - 4ms/step - kl_loss: 1.2377 - loss: 343.0690 - reconstruction_loss: 341.8313\n",
            "Epoch 28/200\n",
            "16/16 - 0s - 4ms/step - kl_loss: 1.2491 - loss: 342.9514 - reconstruction_loss: 341.7023\n",
            "Epoch 29/200\n",
            "16/16 - 0s - 4ms/step - kl_loss: 1.2440 - loss: 342.8660 - reconstruction_loss: 341.6219\n",
            "Epoch 30/200\n",
            "16/16 - 0s - 4ms/step - kl_loss: 1.2419 - loss: 342.8033 - reconstruction_loss: 341.5613\n",
            "Epoch 31/200\n",
            "16/16 - 0s - 4ms/step - kl_loss: 1.2408 - loss: 342.6932 - reconstruction_loss: 341.4524\n",
            "Epoch 32/200\n",
            "16/16 - 0s - 4ms/step - kl_loss: 1.2461 - loss: 342.6624 - reconstruction_loss: 341.4164\n",
            "Epoch 33/200\n",
            "16/16 - 0s - 4ms/step - kl_loss: 1.2490 - loss: 342.6393 - reconstruction_loss: 341.3902\n",
            "Epoch 34/200\n",
            "16/16 - 0s - 4ms/step - kl_loss: 1.2620 - loss: 342.6175 - reconstruction_loss: 341.3555\n",
            "Epoch 35/200\n",
            "16/16 - 0s - 4ms/step - kl_loss: 1.2526 - loss: 342.5107 - reconstruction_loss: 341.2581\n",
            "Epoch 36/200\n",
            "16/16 - 0s - 4ms/step - kl_loss: 1.2470 - loss: 342.3491 - reconstruction_loss: 341.1021\n",
            "Epoch 37/200\n",
            "16/16 - 0s - 3ms/step - kl_loss: 1.2594 - loss: 342.3994 - reconstruction_loss: 341.1401\n",
            "Epoch 38/200\n",
            "16/16 - 0s - 3ms/step - kl_loss: 1.2524 - loss: 342.3593 - reconstruction_loss: 341.1068\n",
            "Epoch 39/200\n",
            "16/16 - 0s - 4ms/step - kl_loss: 1.2520 - loss: 342.2630 - reconstruction_loss: 341.0110\n",
            "Epoch 40/200\n",
            "16/16 - 0s - 4ms/step - kl_loss: 1.2581 - loss: 342.2451 - reconstruction_loss: 340.9870\n",
            "Epoch 41/200\n",
            "16/16 - 0s - 4ms/step - kl_loss: 1.2428 - loss: 342.1105 - reconstruction_loss: 340.8677\n",
            "Epoch 42/200\n",
            "16/16 - 0s - 4ms/step - kl_loss: 1.2356 - loss: 342.1367 - reconstruction_loss: 340.9012\n",
            "Epoch 43/200\n",
            "16/16 - 0s - 3ms/step - kl_loss: 1.2505 - loss: 342.0268 - reconstruction_loss: 340.7763\n",
            "Epoch 44/200\n",
            "16/16 - 0s - 3ms/step - kl_loss: 1.2515 - loss: 342.0074 - reconstruction_loss: 340.7559\n",
            "Epoch 45/200\n",
            "16/16 - 0s - 3ms/step - kl_loss: 1.2419 - loss: 342.0030 - reconstruction_loss: 340.7611\n",
            "Epoch 46/200\n",
            "16/16 - 0s - 4ms/step - kl_loss: 1.2357 - loss: 341.9191 - reconstruction_loss: 340.6834\n",
            "Epoch 47/200\n",
            "16/16 - 0s - 4ms/step - kl_loss: 1.2407 - loss: 341.9635 - reconstruction_loss: 340.7228\n",
            "Epoch 48/200\n",
            "16/16 - 0s - 4ms/step - kl_loss: 1.2438 - loss: 341.8503 - reconstruction_loss: 340.6065\n",
            "Epoch 49/200\n",
            "16/16 - 0s - 4ms/step - kl_loss: 1.2324 - loss: 341.8948 - reconstruction_loss: 340.6625\n",
            "Epoch 50/200\n",
            "16/16 - 0s - 4ms/step - kl_loss: 1.2352 - loss: 341.7828 - reconstruction_loss: 340.5476\n",
            "Epoch 51/200\n",
            "16/16 - 0s - 3ms/step - kl_loss: 1.2419 - loss: 341.7791 - reconstruction_loss: 340.5372\n",
            "Epoch 52/200\n",
            "16/16 - 0s - 3ms/step - kl_loss: 1.2290 - loss: 341.7447 - reconstruction_loss: 340.5157\n",
            "Epoch 53/200\n",
            "16/16 - 0s - 4ms/step - kl_loss: 1.2307 - loss: 341.6717 - reconstruction_loss: 340.4411\n",
            "Epoch 54/200\n",
            "16/16 - 0s - 3ms/step - kl_loss: 1.2337 - loss: 341.5994 - reconstruction_loss: 340.3657\n",
            "Epoch 55/200\n",
            "16/16 - 0s - 4ms/step - kl_loss: 1.2226 - loss: 341.5933 - reconstruction_loss: 340.3707\n",
            "Epoch 56/200\n",
            "16/16 - 0s - 4ms/step - kl_loss: 1.2188 - loss: 341.6228 - reconstruction_loss: 340.4041\n",
            "Epoch 57/200\n",
            "16/16 - 0s - 4ms/step - kl_loss: 1.2270 - loss: 341.5412 - reconstruction_loss: 340.3142\n",
            "Epoch 58/200\n",
            "16/16 - 0s - 4ms/step - kl_loss: 1.2247 - loss: 341.6056 - reconstruction_loss: 340.3810\n",
            "Epoch 59/200\n",
            "16/16 - 0s - 4ms/step - kl_loss: 1.2148 - loss: 341.4491 - reconstruction_loss: 340.2343\n",
            "Epoch 60/200\n",
            "16/16 - 0s - 3ms/step - kl_loss: 1.2198 - loss: 341.4547 - reconstruction_loss: 340.2349\n",
            "Epoch 61/200\n",
            "16/16 - 0s - 3ms/step - kl_loss: 1.2171 - loss: 341.5005 - reconstruction_loss: 340.2833\n",
            "Epoch 62/200\n",
            "16/16 - 0s - 3ms/step - kl_loss: 1.2141 - loss: 341.4153 - reconstruction_loss: 340.2011\n",
            "Epoch 63/200\n",
            "16/16 - 0s - 4ms/step - kl_loss: 1.2106 - loss: 341.3741 - reconstruction_loss: 340.1636\n",
            "Epoch 64/200\n",
            "16/16 - 0s - 3ms/step - kl_loss: 1.2058 - loss: 341.4372 - reconstruction_loss: 340.2314\n",
            "Epoch 65/200\n",
            "16/16 - 0s - 3ms/step - kl_loss: 1.2214 - loss: 341.3231 - reconstruction_loss: 340.1017\n",
            "Epoch 66/200\n",
            "16/16 - 0s - 4ms/step - kl_loss: 1.2066 - loss: 341.3362 - reconstruction_loss: 340.1296\n",
            "Epoch 67/200\n",
            "16/16 - 0s - 4ms/step - kl_loss: 1.2174 - loss: 341.3326 - reconstruction_loss: 340.1153\n",
            "Epoch 68/200\n",
            "16/16 - 0s - 4ms/step - kl_loss: 1.2059 - loss: 341.2783 - reconstruction_loss: 340.0724\n",
            "Epoch 69/200\n",
            "16/16 - 0s - 4ms/step - kl_loss: 1.2190 - loss: 341.3159 - reconstruction_loss: 340.0969\n",
            "Epoch 70/200\n",
            "16/16 - 0s - 4ms/step - kl_loss: 1.2045 - loss: 341.2125 - reconstruction_loss: 340.0079\n",
            "Epoch 71/200\n",
            "16/16 - 0s - 3ms/step - kl_loss: 1.2163 - loss: 341.2810 - reconstruction_loss: 340.0647\n",
            "Epoch 72/200\n",
            "16/16 - 0s - 3ms/step - kl_loss: 1.2083 - loss: 341.1879 - reconstruction_loss: 339.9796\n",
            "Epoch 73/200\n",
            "16/16 - 0s - 3ms/step - kl_loss: 1.2026 - loss: 341.1458 - reconstruction_loss: 339.9433\n",
            "Epoch 74/200\n",
            "16/16 - 0s - 3ms/step - kl_loss: 1.1948 - loss: 341.2059 - reconstruction_loss: 340.0111\n",
            "Epoch 75/200\n",
            "16/16 - 0s - 3ms/step - kl_loss: 1.2206 - loss: 341.1515 - reconstruction_loss: 339.9309\n",
            "Epoch 76/200\n",
            "16/16 - 0s - 3ms/step - kl_loss: 1.1948 - loss: 341.0996 - reconstruction_loss: 339.9049\n",
            "Epoch 77/200\n",
            "16/16 - 0s - 4ms/step - kl_loss: 1.2054 - loss: 341.0949 - reconstruction_loss: 339.8895\n",
            "Epoch 78/200\n",
            "16/16 - 0s - 4ms/step - kl_loss: 1.1991 - loss: 341.0760 - reconstruction_loss: 339.8769\n",
            "Epoch 79/200\n",
            "16/16 - 0s - 3ms/step - kl_loss: 1.1930 - loss: 341.0770 - reconstruction_loss: 339.8840\n",
            "Epoch 80/200\n",
            "16/16 - 0s - 3ms/step - kl_loss: 1.1971 - loss: 341.0593 - reconstruction_loss: 339.8622\n",
            "Epoch 81/200\n",
            "16/16 - 0s - 4ms/step - kl_loss: 1.2028 - loss: 340.9890 - reconstruction_loss: 339.7862\n",
            "Epoch 82/200\n",
            "16/16 - 0s - 4ms/step - kl_loss: 1.1954 - loss: 341.0592 - reconstruction_loss: 339.8638\n",
            "Epoch 83/200\n",
            "16/16 - 0s - 3ms/step - kl_loss: 1.1979 - loss: 341.0313 - reconstruction_loss: 339.8335\n",
            "Epoch 84/200\n",
            "16/16 - 0s - 3ms/step - kl_loss: 1.1962 - loss: 341.0042 - reconstruction_loss: 339.8080\n",
            "Epoch 85/200\n",
            "16/16 - 0s - 4ms/step - kl_loss: 1.1982 - loss: 340.9440 - reconstruction_loss: 339.7458\n",
            "Epoch 86/200\n",
            "16/16 - 0s - 4ms/step - kl_loss: 1.1983 - loss: 340.9738 - reconstruction_loss: 339.7755\n",
            "Epoch 87/200\n",
            "16/16 - 0s - 4ms/step - kl_loss: 1.1959 - loss: 340.9511 - reconstruction_loss: 339.7552\n",
            "Epoch 88/200\n",
            "16/16 - 0s - 4ms/step - kl_loss: 1.2035 - loss: 340.8318 - reconstruction_loss: 339.6283\n",
            "Epoch 89/200\n",
            "16/16 - 0s - 4ms/step - kl_loss: 1.1775 - loss: 340.8956 - reconstruction_loss: 339.7181\n",
            "Epoch 90/200\n",
            "16/16 - 0s - 4ms/step - kl_loss: 1.1972 - loss: 340.9306 - reconstruction_loss: 339.7334\n",
            "Epoch 91/200\n",
            "16/16 - 0s - 3ms/step - kl_loss: 1.1945 - loss: 340.9032 - reconstruction_loss: 339.7087\n",
            "Epoch 92/200\n",
            "16/16 - 0s - 4ms/step - kl_loss: 1.1867 - loss: 340.8499 - reconstruction_loss: 339.6632\n",
            "Epoch 93/200\n",
            "16/16 - 0s - 4ms/step - kl_loss: 1.1963 - loss: 340.8590 - reconstruction_loss: 339.6627\n",
            "Epoch 94/200\n",
            "16/16 - 0s - 4ms/step - kl_loss: 1.1882 - loss: 340.8144 - reconstruction_loss: 339.6262\n",
            "Epoch 95/200\n",
            "16/16 - 0s - 3ms/step - kl_loss: 1.2006 - loss: 340.8452 - reconstruction_loss: 339.6445\n",
            "Epoch 96/200\n",
            "16/16 - 0s - 3ms/step - kl_loss: 1.1900 - loss: 340.7941 - reconstruction_loss: 339.6041\n",
            "Epoch 97/200\n",
            "16/16 - 0s - 4ms/step - kl_loss: 1.1839 - loss: 340.7313 - reconstruction_loss: 339.5473\n",
            "Epoch 98/200\n",
            "16/16 - 0s - 4ms/step - kl_loss: 1.1790 - loss: 340.8342 - reconstruction_loss: 339.6552\n",
            "Epoch 99/200\n",
            "16/16 - 0s - 4ms/step - kl_loss: 1.1847 - loss: 340.7022 - reconstruction_loss: 339.5175\n",
            "Epoch 100/200\n",
            "16/16 - 0s - 4ms/step - kl_loss: 1.1863 - loss: 340.8399 - reconstruction_loss: 339.6536\n",
            "Epoch 101/200\n",
            "16/16 - 0s - 3ms/step - kl_loss: 1.1809 - loss: 340.6850 - reconstruction_loss: 339.5042\n",
            "Epoch 102/200\n",
            "16/16 - 0s - 3ms/step - kl_loss: 1.1758 - loss: 340.7751 - reconstruction_loss: 339.5993\n",
            "Epoch 103/200\n",
            "16/16 - 0s - 3ms/step - kl_loss: 1.1871 - loss: 340.7750 - reconstruction_loss: 339.5880\n",
            "Epoch 104/200\n",
            "16/16 - 0s - 3ms/step - kl_loss: 1.1777 - loss: 340.7104 - reconstruction_loss: 339.5327\n",
            "Epoch 105/200\n",
            "16/16 - 0s - 3ms/step - kl_loss: 1.1830 - loss: 340.6700 - reconstruction_loss: 339.4870\n",
            "Epoch 106/200\n",
            "16/16 - 0s - 3ms/step - kl_loss: 1.1835 - loss: 340.6518 - reconstruction_loss: 339.4683\n",
            "Epoch 107/200\n",
            "16/16 - 0s - 3ms/step - kl_loss: 1.1855 - loss: 340.6510 - reconstruction_loss: 339.4655\n",
            "Epoch 108/200\n",
            "16/16 - 0s - 4ms/step - kl_loss: 1.1831 - loss: 340.6639 - reconstruction_loss: 339.4808\n",
            "Epoch 109/200\n",
            "16/16 - 0s - 4ms/step - kl_loss: 1.1765 - loss: 340.6593 - reconstruction_loss: 339.4828\n",
            "Epoch 110/200\n",
            "16/16 - 0s - 4ms/step - kl_loss: 1.1821 - loss: 340.6354 - reconstruction_loss: 339.4532\n",
            "Epoch 111/200\n",
            "16/16 - 0s - 5ms/step - kl_loss: 1.1787 - loss: 340.6375 - reconstruction_loss: 339.4588\n",
            "Epoch 112/200\n",
            "16/16 - 0s - 4ms/step - kl_loss: 1.1810 - loss: 340.6349 - reconstruction_loss: 339.4538\n",
            "Epoch 113/200\n",
            "16/16 - 0s - 4ms/step - kl_loss: 1.1799 - loss: 340.6071 - reconstruction_loss: 339.4272\n",
            "Epoch 114/200\n",
            "16/16 - 0s - 3ms/step - kl_loss: 1.1773 - loss: 340.6385 - reconstruction_loss: 339.4612\n",
            "Epoch 115/200\n",
            "16/16 - 0s - 3ms/step - kl_loss: 1.1766 - loss: 340.5438 - reconstruction_loss: 339.3673\n",
            "Epoch 116/200\n",
            "16/16 - 0s - 3ms/step - kl_loss: 1.1803 - loss: 340.5836 - reconstruction_loss: 339.4033\n",
            "Epoch 117/200\n",
            "16/16 - 0s - 4ms/step - kl_loss: 1.1765 - loss: 340.5960 - reconstruction_loss: 339.4195\n",
            "Epoch 118/200\n",
            "16/16 - 0s - 4ms/step - kl_loss: 1.1686 - loss: 340.5650 - reconstruction_loss: 339.3963\n",
            "Epoch 119/200\n",
            "16/16 - 0s - 3ms/step - kl_loss: 1.1759 - loss: 340.5611 - reconstruction_loss: 339.3853\n",
            "Epoch 120/200\n",
            "16/16 - 0s - 3ms/step - kl_loss: 1.1713 - loss: 340.5129 - reconstruction_loss: 339.3416\n",
            "Epoch 121/200\n",
            "16/16 - 0s - 3ms/step - kl_loss: 1.1800 - loss: 340.5241 - reconstruction_loss: 339.3441\n",
            "Epoch 122/200\n",
            "16/16 - 0s - 4ms/step - kl_loss: 1.1749 - loss: 340.5365 - reconstruction_loss: 339.3616\n",
            "Epoch 123/200\n",
            "16/16 - 0s - 3ms/step - kl_loss: 1.1662 - loss: 340.5267 - reconstruction_loss: 339.3605\n",
            "Epoch 124/200\n",
            "16/16 - 0s - 3ms/step - kl_loss: 1.1821 - loss: 340.5986 - reconstruction_loss: 339.4165\n",
            "Epoch 125/200\n",
            "16/16 - 0s - 4ms/step - kl_loss: 1.1758 - loss: 340.5023 - reconstruction_loss: 339.3266\n",
            "Epoch 126/200\n",
            "16/16 - 0s - 3ms/step - kl_loss: 1.1762 - loss: 340.5226 - reconstruction_loss: 339.3464\n",
            "Epoch 127/200\n",
            "16/16 - 0s - 4ms/step - kl_loss: 1.1775 - loss: 340.4431 - reconstruction_loss: 339.2657\n",
            "Epoch 128/200\n",
            "16/16 - 0s - 4ms/step - kl_loss: 1.1707 - loss: 340.4926 - reconstruction_loss: 339.3220\n",
            "Epoch 129/200\n",
            "16/16 - 0s - 4ms/step - kl_loss: 1.1677 - loss: 340.4850 - reconstruction_loss: 339.3174\n",
            "Epoch 130/200\n",
            "16/16 - 0s - 4ms/step - kl_loss: 1.1761 - loss: 340.4510 - reconstruction_loss: 339.2749\n",
            "Epoch 131/200\n",
            "16/16 - 0s - 3ms/step - kl_loss: 1.1697 - loss: 340.4602 - reconstruction_loss: 339.2906\n",
            "Epoch 132/200\n",
            "16/16 - 0s - 4ms/step - kl_loss: 1.1710 - loss: 340.4369 - reconstruction_loss: 339.2659\n",
            "Epoch 133/200\n",
            "16/16 - 0s - 4ms/step - kl_loss: 1.1794 - loss: 340.5312 - reconstruction_loss: 339.3518\n",
            "Epoch 134/200\n",
            "16/16 - 0s - 3ms/step - kl_loss: 1.1696 - loss: 340.4886 - reconstruction_loss: 339.3191\n",
            "Epoch 135/200\n",
            "16/16 - 0s - 4ms/step - kl_loss: 1.1630 - loss: 340.4895 - reconstruction_loss: 339.3265\n",
            "Epoch 136/200\n",
            "16/16 - 0s - 4ms/step - kl_loss: 1.1708 - loss: 340.3904 - reconstruction_loss: 339.2196\n",
            "Epoch 137/200\n",
            "16/16 - 0s - 3ms/step - kl_loss: 1.1656 - loss: 340.3802 - reconstruction_loss: 339.2146\n",
            "Epoch 138/200\n",
            "16/16 - 0s - 3ms/step - kl_loss: 1.1693 - loss: 340.4324 - reconstruction_loss: 339.2631\n",
            "Epoch 139/200\n",
            "16/16 - 0s - 3ms/step - kl_loss: 1.1706 - loss: 340.4182 - reconstruction_loss: 339.2476\n",
            "Epoch 140/200\n",
            "16/16 - 0s - 4ms/step - kl_loss: 1.1665 - loss: 340.3679 - reconstruction_loss: 339.2014\n",
            "Epoch 141/200\n",
            "16/16 - 0s - 4ms/step - kl_loss: 1.1711 - loss: 340.4507 - reconstruction_loss: 339.2797\n",
            "Epoch 142/200\n",
            "16/16 - 0s - 4ms/step - kl_loss: 1.1685 - loss: 340.3696 - reconstruction_loss: 339.2011\n",
            "Epoch 143/200\n",
            "16/16 - 0s - 4ms/step - kl_loss: 1.1728 - loss: 340.3578 - reconstruction_loss: 339.1850\n",
            "Epoch 144/200\n",
            "16/16 - 0s - 4ms/step - kl_loss: 1.1633 - loss: 340.3447 - reconstruction_loss: 339.1814\n",
            "Epoch 145/200\n",
            "16/16 - 0s - 4ms/step - kl_loss: 1.1635 - loss: 340.3974 - reconstruction_loss: 339.2339\n",
            "Epoch 146/200\n",
            "16/16 - 0s - 4ms/step - kl_loss: 1.1605 - loss: 340.3750 - reconstruction_loss: 339.2145\n",
            "Epoch 147/200\n",
            "16/16 - 0s - 4ms/step - kl_loss: 1.1619 - loss: 340.2845 - reconstruction_loss: 339.1226\n",
            "Epoch 148/200\n",
            "16/16 - 0s - 4ms/step - kl_loss: 1.1652 - loss: 340.3535 - reconstruction_loss: 339.1883\n",
            "Epoch 149/200\n",
            "16/16 - 0s - 4ms/step - kl_loss: 1.1717 - loss: 340.3023 - reconstruction_loss: 339.1306\n",
            "Epoch 150/200\n",
            "16/16 - 0s - 5ms/step - kl_loss: 1.1516 - loss: 340.3133 - reconstruction_loss: 339.1617\n",
            "Epoch 151/200\n",
            "16/16 - 0s - 3ms/step - kl_loss: 1.1715 - loss: 340.3214 - reconstruction_loss: 339.1500\n",
            "Epoch 152/200\n",
            "16/16 - 0s - 4ms/step - kl_loss: 1.1526 - loss: 340.3447 - reconstruction_loss: 339.1922\n",
            "Epoch 153/200\n",
            "16/16 - 0s - 3ms/step - kl_loss: 1.1686 - loss: 340.3716 - reconstruction_loss: 339.2030\n",
            "Epoch 154/200\n",
            "16/16 - 0s - 4ms/step - kl_loss: 1.1728 - loss: 340.2868 - reconstruction_loss: 339.1140\n",
            "Epoch 155/200\n",
            "16/16 - 0s - 4ms/step - kl_loss: 1.1649 - loss: 340.2816 - reconstruction_loss: 339.1167\n",
            "Epoch 156/200\n",
            "16/16 - 0s - 4ms/step - kl_loss: 1.1698 - loss: 340.2007 - reconstruction_loss: 339.0310\n",
            "Epoch 157/200\n",
            "16/16 - 0s - 4ms/step - kl_loss: 1.1634 - loss: 340.2347 - reconstruction_loss: 339.0713\n",
            "Epoch 158/200\n",
            "16/16 - 0s - 4ms/step - kl_loss: 1.1589 - loss: 340.3410 - reconstruction_loss: 339.1821\n",
            "Epoch 159/200\n",
            "16/16 - 0s - 4ms/step - kl_loss: 1.1621 - loss: 340.2432 - reconstruction_loss: 339.0811\n",
            "Epoch 160/200\n",
            "16/16 - 0s - 3ms/step - kl_loss: 1.1621 - loss: 340.3525 - reconstruction_loss: 339.1904\n",
            "Epoch 161/200\n",
            "16/16 - 0s - 4ms/step - kl_loss: 1.1584 - loss: 340.2330 - reconstruction_loss: 339.0746\n",
            "Epoch 162/200\n",
            "16/16 - 0s - 4ms/step - kl_loss: 1.1615 - loss: 340.2768 - reconstruction_loss: 339.1153\n",
            "Epoch 163/200\n",
            "16/16 - 0s - 4ms/step - kl_loss: 1.1597 - loss: 340.3008 - reconstruction_loss: 339.1411\n",
            "Epoch 164/200\n",
            "16/16 - 0s - 4ms/step - kl_loss: 1.1558 - loss: 340.2830 - reconstruction_loss: 339.1272\n",
            "Epoch 165/200\n",
            "16/16 - 0s - 4ms/step - kl_loss: 1.1569 - loss: 340.3140 - reconstruction_loss: 339.1571\n",
            "Epoch 166/200\n",
            "16/16 - 0s - 4ms/step - kl_loss: 1.1563 - loss: 340.2908 - reconstruction_loss: 339.1345\n",
            "Epoch 167/200\n",
            "16/16 - 0s - 3ms/step - kl_loss: 1.1538 - loss: 340.2678 - reconstruction_loss: 339.1139\n",
            "Epoch 168/200\n",
            "16/16 - 0s - 4ms/step - kl_loss: 1.1534 - loss: 340.2411 - reconstruction_loss: 339.0877\n",
            "Epoch 169/200\n",
            "16/16 - 0s - 4ms/step - kl_loss: 1.1580 - loss: 340.2767 - reconstruction_loss: 339.1187\n",
            "Epoch 170/200\n",
            "16/16 - 0s - 4ms/step - kl_loss: 1.1612 - loss: 340.2466 - reconstruction_loss: 339.0854\n",
            "Epoch 171/200\n",
            "16/16 - 0s - 4ms/step - kl_loss: 1.1544 - loss: 340.2785 - reconstruction_loss: 339.1241\n",
            "Epoch 172/200\n",
            "16/16 - 0s - 4ms/step - kl_loss: 1.1510 - loss: 340.1906 - reconstruction_loss: 339.0397\n",
            "Epoch 173/200\n",
            "16/16 - 0s - 4ms/step - kl_loss: 1.1512 - loss: 340.2692 - reconstruction_loss: 339.1180\n",
            "Epoch 174/200\n",
            "16/16 - 0s - 3ms/step - kl_loss: 1.1464 - loss: 340.2219 - reconstruction_loss: 339.0755\n",
            "Epoch 175/200\n",
            "16/16 - 0s - 4ms/step - kl_loss: 1.1577 - loss: 340.1983 - reconstruction_loss: 339.0406\n",
            "Epoch 176/200\n",
            "16/16 - 0s - 3ms/step - kl_loss: 1.1508 - loss: 340.2396 - reconstruction_loss: 339.0889\n",
            "Epoch 177/200\n",
            "16/16 - 0s - 4ms/step - kl_loss: 1.1491 - loss: 340.2176 - reconstruction_loss: 339.0685\n",
            "Epoch 178/200\n",
            "16/16 - 0s - 3ms/step - kl_loss: 1.1508 - loss: 340.2350 - reconstruction_loss: 339.0842\n",
            "Epoch 179/200\n",
            "16/16 - 0s - 3ms/step - kl_loss: 1.1497 - loss: 340.1920 - reconstruction_loss: 339.0423\n",
            "Epoch 180/200\n",
            "16/16 - 0s - 3ms/step - kl_loss: 1.1471 - loss: 340.1931 - reconstruction_loss: 339.0461\n",
            "Epoch 181/200\n",
            "16/16 - 0s - 3ms/step - kl_loss: 1.1510 - loss: 340.1834 - reconstruction_loss: 339.0324\n",
            "Epoch 182/200\n",
            "16/16 - 0s - 3ms/step - kl_loss: 1.1514 - loss: 340.2519 - reconstruction_loss: 339.1005\n",
            "Epoch 183/200\n",
            "16/16 - 0s - 4ms/step - kl_loss: 1.1494 - loss: 340.1433 - reconstruction_loss: 338.9939\n",
            "Epoch 184/200\n",
            "16/16 - 0s - 3ms/step - kl_loss: 1.1500 - loss: 340.1498 - reconstruction_loss: 338.9998\n",
            "Epoch 185/200\n",
            "16/16 - 0s - 4ms/step - kl_loss: 1.1384 - loss: 340.1341 - reconstruction_loss: 338.9957\n",
            "Epoch 186/200\n",
            "16/16 - 0s - 4ms/step - kl_loss: 1.1474 - loss: 340.1877 - reconstruction_loss: 339.0403\n",
            "Epoch 187/200\n",
            "16/16 - 0s - 4ms/step - kl_loss: 1.1468 - loss: 340.1879 - reconstruction_loss: 339.0410\n",
            "Epoch 188/200\n",
            "16/16 - 0s - 4ms/step - kl_loss: 1.1454 - loss: 340.1867 - reconstruction_loss: 339.0414\n",
            "Epoch 189/200\n",
            "16/16 - 0s - 4ms/step - kl_loss: 1.1490 - loss: 340.1264 - reconstruction_loss: 338.9774\n",
            "Epoch 190/200\n",
            "16/16 - 0s - 4ms/step - kl_loss: 1.1394 - loss: 340.0753 - reconstruction_loss: 338.9359\n",
            "Epoch 191/200\n",
            "16/16 - 0s - 4ms/step - kl_loss: 1.1443 - loss: 340.1218 - reconstruction_loss: 338.9775\n",
            "Epoch 192/200\n",
            "16/16 - 0s - 4ms/step - kl_loss: 1.1464 - loss: 340.1686 - reconstruction_loss: 339.0222\n",
            "Epoch 193/200\n",
            "16/16 - 0s - 4ms/step - kl_loss: 1.1439 - loss: 340.1188 - reconstruction_loss: 338.9749\n",
            "Epoch 194/200\n",
            "16/16 - 0s - 4ms/step - kl_loss: 1.1399 - loss: 340.1372 - reconstruction_loss: 338.9973\n",
            "Epoch 195/200\n",
            "16/16 - 0s - 4ms/step - kl_loss: 1.1408 - loss: 340.1711 - reconstruction_loss: 339.0303\n",
            "Epoch 196/200\n",
            "16/16 - 0s - 4ms/step - kl_loss: 1.1365 - loss: 340.1207 - reconstruction_loss: 338.9841\n",
            "Epoch 197/200\n",
            "16/16 - 0s - 4ms/step - kl_loss: 1.1478 - loss: 340.2007 - reconstruction_loss: 339.0530\n",
            "Epoch 198/200\n",
            "16/16 - 0s - 4ms/step - kl_loss: 1.1351 - loss: 340.1100 - reconstruction_loss: 338.9749\n",
            "Epoch 199/200\n",
            "16/16 - 0s - 4ms/step - kl_loss: 1.1408 - loss: 340.1303 - reconstruction_loss: 338.9895\n",
            "Epoch 200/200\n",
            "16/16 - 0s - 4ms/step - kl_loss: 1.1463 - loss: 340.1299 - reconstruction_loss: 338.9835\n",
            "Training finished.\n"
          ]
        }
      ],
      "source": [
        "print(\"Starting training...\")\n",
        "vae = VAE(encoder, decoder)\n",
        "vae.compile(optimizer=keras.optimizers.Adam(learning_rate=LEARNING_RATE))\n",
        "vae.fit(dataset, epochs=EPOCHS, batch_size=BATCH_SIZE, verbose=2)\n",
        "print(\"Training finished.\")"
      ]
    },
    {
      "cell_type": "markdown",
      "metadata": {
        "id": "pJZsIAigmGTq"
      },
      "source": [
        "### 6. Visualization of Reconstructed Images"
      ]
    },
    {
      "cell_type": "code",
      "execution_count": 19,
      "metadata": {
        "colab": {
          "base_uri": "https://localhost:8080/",
          "height": 408
        },
        "id": "5JUNnUs7k7YD",
        "outputId": "11198a5f-0b5b-4422-9692-b78d730b6a99"
      },
      "outputs": [
        {
          "name": "stdout",
          "output_type": "stream",
          "text": [
            "\n",
            "Displaying original vs. reconstructed images...\n",
            "\u001b[1m1/1\u001b[0m \u001b[32m━━━━━━━━━━━━━━━━━━━━\u001b[0m\u001b[37m\u001b[0m \u001b[1m0s\u001b[0m 60ms/step\n",
            "\u001b[1m1/1\u001b[0m \u001b[32m━━━━━━━━━━━━━━━━━━━━\u001b[0m\u001b[37m\u001b[0m \u001b[1m0s\u001b[0m 38ms/step\n"
          ]
        },
        {
          "data": {
            "image/png": "[encoded data removed]",
            "text/plain": [
              "<Figure size 2000x400 with 20 Axes>"
            ]
          },
          "metadata": {},
          "output_type": "display_data"
        }
      ],
      "source": [
        "print(\"\\nDisplaying original vs. reconstructed images...\")\n",
        "\n",
        "# Get the first 10 images from a batch\n",
        "original_images_flat = next(iter(dataset))[:10]\n",
        "\n",
        "# Get the reconstructed images from the VAE\n",
        "_, _, z = vae.encoder.predict(original_images_flat)\n",
        "reconstructed_images_flat = vae.decoder.predict(z)\n",
        "\n",
        "# Reshape the flat images back to their original 28x20 shape for display\n",
        "original_images = original_images_flat.numpy().reshape(-1, ORIGINAL_IMAGE_SHAPE[0], ORIGINAL_IMAGE_SHAPE[1])\n",
        "reconstructed_images = reconstructed_images_flat.reshape(-1, ORIGINAL_IMAGE_SHAPE[0], ORIGINAL_IMAGE_SHAPE[1])\n",
        "\n",
        "# Create a plot to display the images\n",
        "n = 10  # Number of images to display\n",
        "plt.figure(figsize=(20, 4))\n",
        "for i in range(n):\n",
        "    # Display original images on the top row\n",
        "    ax = plt.subplot(2, n, i + 1)\n",
        "    plt.imshow(original_images[i], cmap='gray')\n",
        "    ax.get_xaxis().set_visible(False)\n",
        "    ax.get_yaxis().set_visible(False)\n",
        "    if i == n // 2:\n",
        "        ax.set_title(\"Original Images\")\n",
        "\n",
        "    # Display reconstructed images on the bottom row\n",
        "    ax = plt.subplot(2, n, i + 1 + n)\n",
        "    plt.imshow(reconstructed_images[i], cmap='gray')\n",
        "    ax.get_xaxis().set_visible(False)\n",
        "    ax.get_yaxis().set_visible(False)\n",
        "    if i == n // 2:\n",
        "        ax.set_title(\"Reconstructed Images\")\n",
        "plt.show()\n"
      ]
    },
    {
      "cell_type": "markdown",
      "metadata": {
        "id": "Is5j8mgYwNcN"
      },
      "source": [
        "### 4. Sample from the Latent Space to Generate New Faces"
      ]
    },
    {
      "cell_type": "code",
      "execution_count": 20,
      "metadata": {
        "colab": {
          "base_uri": "https://localhost:8080/",
          "height": 184
        },
        "id": "zqy-U4ogu0Sn",
        "outputId": "95faa8d0-6f54-408b-a40c-8d8dbf664cfc"
      },
      "outputs": [
        {
          "name": "stdout",
          "output_type": "stream",
          "text": [
            "\u001b[1m1/1\u001b[0m \u001b[32m━━━━━━━━━━━━━━━━━━━━\u001b[0m\u001b[37m\u001b[0m \u001b[1m0s\u001b[0m 52ms/step\n"
          ]
        },
        {
          "data": {
            "image/png": "[encoded data removed]",
            "text/plain": [
              "<Figure size 1500x500 with 1 Axes>"
            ]
          },
          "metadata": {},
          "output_type": "display_data"
        }
      ],
      "source": [
        "# This demonstrates that the VAE can generate novel faces.\n",
        "n = 15  # Number of faces to generate\n",
        "digit_size = (28, 20)\n",
        "figure = np.zeros((digit_size[0], digit_size[1] * n))\n",
        "\n",
        "# Sample points from the standard normal distribution (the prior)\n",
        "grid_x = np.random.normal(size=(n, LATENT_DIM))\n",
        "\n",
        "reconstructions = decoder.predict(grid_x)\n",
        "\n",
        "for i in range(n):\n",
        "    face = reconstructions[i].reshape(digit_size)\n",
        "    figure[:, i * digit_size[1] : (i + 1) * digit_size[1]] = face\n",
        "\n",
        "plt.figure(figsize=(15, 5))\n",
        "plt.imshow(figure, cmap=\"gray\")\n",
        "plt.title(\"Generated Faces from Random Latent Vectors\")\n",
        "plt.axis('off')\n",
        "plt.show()"
      ]
    },
    {
      "cell_type": "markdown",
      "metadata": {
        "id": "wFtfeHIMwSEp"
      },
      "source": [
        "### 5. Varying Latent Variables to Show Learned Features"
      ]
    },
    {
      "cell_type": "code",
      "execution_count": 21,
      "metadata": {
        "colab": {
          "base_uri": "https://localhost:8080/",
          "height": 442
        },
        "id": "_CQDgFLIvCO0",
        "outputId": "f0dba775-e12e-4dd7-bd0f-f225010addb9"
      },
      "outputs": [
        {
          "name": "stdout",
          "output_type": "stream",
          "text": [
            "WARNING:tensorflow:5 out of the last 15 calls to <function TensorFlowTrainer.make_predict_function.<locals>.one_step_on_data_distributed at 0x000002068216F060> triggered tf.function retracing. Tracing is expensive and the excessive number of tracings could be due to (1) creating @tf.function repeatedly in a loop, (2) passing tensors with different shapes, (3) passing Python objects instead of tensors. For (1), please define your @tf.function outside of the loop. For (2), @tf.function has reduce_retracing=True option that can avoid unnecessary retracing. For (3), please refer to https://www.tensorflow.org/guide/function#controlling_retracing and https://www.tensorflow.org/api_docs/python/tf/function for  more details.\n",
            "\u001b[1m1/1\u001b[0m \u001b[32m━━━━━━━━━━━━━━━━━━━━\u001b[0m\u001b[37m\u001b[0m \u001b[1m0s\u001b[0m 58ms/step\n",
            "\u001b[1m1/1\u001b[0m \u001b[32m━━━━━━━━━━━━━━━━━━━━\u001b[0m\u001b[37m\u001b[0m \u001b[1m0s\u001b[0m 25ms/step\n",
            "\u001b[1m1/1\u001b[0m \u001b[32m━━━━━━━━━━━━━━━━━━━━\u001b[0m\u001b[37m\u001b[0m \u001b[1m0s\u001b[0m 27ms/step\n",
            "\u001b[1m1/1\u001b[0m \u001b[32m━━━━━━━━━━━━━━━━━━━━\u001b[0m\u001b[37m\u001b[0m \u001b[1m0s\u001b[0m 23ms/step\n",
            "\u001b[1m1/1\u001b[0m \u001b[32m━━━━━━━━━━━━━━━━━━━━\u001b[0m\u001b[37m\u001b[0m \u001b[1m0s\u001b[0m 27ms/step\n",
            "\u001b[1m1/1\u001b[0m \u001b[32m━━━━━━━━━━━━━━━━━━━━\u001b[0m\u001b[37m\u001b[0m \u001b[1m0s\u001b[0m 25ms/step\n",
            "\u001b[1m1/1\u001b[0m \u001b[32m━━━━━━━━━━━━━━━━━━━━\u001b[0m\u001b[37m\u001b[0m \u001b[1m0s\u001b[0m 26ms/step\n",
            "\u001b[1m1/1\u001b[0m \u001b[32m━━━━━━━━━━━━━━━━━━━━\u001b[0m\u001b[37m\u001b[0m \u001b[1m0s\u001b[0m 25ms/step\n",
            "\u001b[1m1/1\u001b[0m \u001b[32m━━━━━━━━━━━━━━━━━━━━\u001b[0m\u001b[37m\u001b[0m \u001b[1m0s\u001b[0m 25ms/step\n",
            "\u001b[1m1/1\u001b[0m \u001b[32m━━━━━━━━━━━━━━━━━━━━\u001b[0m\u001b[37m\u001b[0m \u001b[1m0s\u001b[0m 25ms/step\n",
            "\u001b[1m1/1\u001b[0m \u001b[32m━━━━━━━━━━━━━━━━━━━━\u001b[0m\u001b[37m\u001b[0m \u001b[1m0s\u001b[0m 27ms/step\n"
          ]
        },
        {
          "data": {
            "image/png": "[encoded data removed]",
            "text/plain": [
              "<Figure size 1500x300 with 10 Axes>"
            ]
          },
          "metadata": {},
          "output_type": "display_data"
        }
      ],
      "source": [
        "# This visualization traverses one latent dimension while keeping others constant\n",
        "# to see what visual feature that dimension controls.\n",
        "\n",
        "# Get the latent representation of a sample image\n",
        "sample_image = frey_faces[np.random.choice(len(frey_faces))].reshape(1, -1)\n",
        "z_mean, _, _ = encoder.predict(sample_image)\n",
        "\n",
        "# Select a dimension to vary\n",
        "latent_dim_to_vary = 4 # You can change this from 0 to 19\n",
        "n_steps = 10\n",
        "min_val, max_val = -2.0, 2.0 # Range of values for the traversal\n",
        "\n",
        "# Create the figure to display results\n",
        "fig, axes = plt.subplots(1, n_steps, figsize=(15, 3))\n",
        "\n",
        "for i, val in enumerate(np.linspace(min_val, max_val, n_steps)):\n",
        "    # Create a copy of the mean latent vector\n",
        "    latent_vector = np.copy(z_mean)\n",
        "    # Modify the chosen dimension\n",
        "    latent_vector[0, latent_dim_to_vary] = val\n",
        "\n",
        "    # Decode the modified latent vector\n",
        "    decoded_image = decoder.predict(latent_vector)\n",
        "\n",
        "    # Reshape and display the image\n",
        "    ax = axes[i]\n",
        "    ax.imshow(decoded_image.reshape(28, 20), cmap='gray')\n",
        "    ax.set_title(f'val={val:.1f}', fontsize=8)\n",
        "    ax.axis('off')\n",
        "\n",
        "fig.suptitle(f'Traversal of Latent Dimension {latent_dim_to_vary}')\n",
        "plt.show()"
      ]
    }
  ],
  "metadata": {
    "accelerator": "GPU",
    "colab": {
      "gpuType": "T4",
      "provenance": []
    },
    "kernelspec": {
      "display_name": "venv (3.11.9)",
      "language": "python",
      "name": "python3"
    },
    "language_info": {
      "codemirror_mode": {
        "name": "ipython",
        "version": 3
      },
      "file_extension": ".py",
      "mimetype": "text/x-python",
      "name": "python",
      "nbconvert_exporter": "python",
      "pygments_lexer": "ipython3",
      "version": "3.11.9"
    }
  },
  "nbformat": 4,
  "nbformat_minor": 0
}
